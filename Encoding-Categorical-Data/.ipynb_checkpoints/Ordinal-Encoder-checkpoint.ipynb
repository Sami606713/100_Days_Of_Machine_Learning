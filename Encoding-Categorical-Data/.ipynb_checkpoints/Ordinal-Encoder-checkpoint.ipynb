{
 "cells": [
  {
   "cell_type": "markdown",
   "id": "7a66c5a2",
   "metadata": {},
   "source": [
    "# Catagorical Column\n",
    "1. There are 2 type of categorical columns.\n",
    "    1. Ordinal \n",
    "    2. Nominal\n",
    "# Ordinal columns\n",
    "1. Those Column which has some order called ordianl columns we can encode these column using `ordinal encoder`\n",
    "**Example**\n",
    "1. Good-> Average-> Bad\n",
    "\n",
    "# Nominal columns\n",
    "1. Those column which can't follow any order caalled nominal columns we can encode these column using `one hot encoder`\n",
    "**Example**\n",
    "1. Any language or city or state etc."
   ]
  },
  {
   "cell_type": "markdown",
   "id": "fd5781d2",
   "metadata": {},
   "source": [
    "# Import Packages"
   ]
  },
  {
   "cell_type": "code",
   "execution_count": 1,
   "id": "28a0ff74",
   "metadata": {},
   "outputs": [],
   "source": [
    "import pandas as pd\n",
    "import numpy as np"
   ]
  },
  {
   "cell_type": "markdown",
   "id": "ab20a9ce",
   "metadata": {},
   "source": [
    "# Load Dataset"
   ]
  },
  {
   "cell_type": "code",
   "execution_count": 47,
   "id": "1112c00c",
   "metadata": {},
   "outputs": [
    {
     "data": {
      "text/html": [
       "<div>\n",
       "<style scoped>\n",
       "    .dataframe tbody tr th:only-of-type {\n",
       "        vertical-align: middle;\n",
       "    }\n",
       "\n",
       "    .dataframe tbody tr th {\n",
       "        vertical-align: top;\n",
       "    }\n",
       "\n",
       "    .dataframe thead th {\n",
       "        text-align: right;\n",
       "    }\n",
       "</style>\n",
       "<table border=\"1\" class=\"dataframe\">\n",
       "  <thead>\n",
       "    <tr style=\"text-align: right;\">\n",
       "      <th></th>\n",
       "      <th>Age</th>\n",
       "      <th>Gender</th>\n",
       "      <th>Occupation</th>\n",
       "      <th>Educational Qualifications</th>\n",
       "      <th>Feedback</th>\n",
       "    </tr>\n",
       "  </thead>\n",
       "  <tbody>\n",
       "    <tr>\n",
       "      <th>0</th>\n",
       "      <td>20</td>\n",
       "      <td>Female</td>\n",
       "      <td>Student</td>\n",
       "      <td>Post Graduate</td>\n",
       "      <td>Positive</td>\n",
       "    </tr>\n",
       "    <tr>\n",
       "      <th>1</th>\n",
       "      <td>24</td>\n",
       "      <td>Female</td>\n",
       "      <td>Student</td>\n",
       "      <td>Graduate</td>\n",
       "      <td>Positive</td>\n",
       "    </tr>\n",
       "    <tr>\n",
       "      <th>2</th>\n",
       "      <td>22</td>\n",
       "      <td>Male</td>\n",
       "      <td>Student</td>\n",
       "      <td>Post Graduate</td>\n",
       "      <td>Negative</td>\n",
       "    </tr>\n",
       "    <tr>\n",
       "      <th>3</th>\n",
       "      <td>22</td>\n",
       "      <td>Female</td>\n",
       "      <td>Student</td>\n",
       "      <td>Graduate</td>\n",
       "      <td>Positive</td>\n",
       "    </tr>\n",
       "    <tr>\n",
       "      <th>4</th>\n",
       "      <td>22</td>\n",
       "      <td>Male</td>\n",
       "      <td>Student</td>\n",
       "      <td>Post Graduate</td>\n",
       "      <td>Positive</td>\n",
       "    </tr>\n",
       "    <tr>\n",
       "      <th>5</th>\n",
       "      <td>27</td>\n",
       "      <td>Female</td>\n",
       "      <td>Employee</td>\n",
       "      <td>Post Graduate</td>\n",
       "      <td>Positive</td>\n",
       "    </tr>\n",
       "    <tr>\n",
       "      <th>6</th>\n",
       "      <td>22</td>\n",
       "      <td>Male</td>\n",
       "      <td>Student</td>\n",
       "      <td>Graduate</td>\n",
       "      <td>Positive</td>\n",
       "    </tr>\n",
       "    <tr>\n",
       "      <th>7</th>\n",
       "      <td>24</td>\n",
       "      <td>Female</td>\n",
       "      <td>Student</td>\n",
       "      <td>Post Graduate</td>\n",
       "      <td>Positive</td>\n",
       "    </tr>\n",
       "    <tr>\n",
       "      <th>8</th>\n",
       "      <td>23</td>\n",
       "      <td>Female</td>\n",
       "      <td>Student</td>\n",
       "      <td>Post Graduate</td>\n",
       "      <td>Positive</td>\n",
       "    </tr>\n",
       "    <tr>\n",
       "      <th>9</th>\n",
       "      <td>23</td>\n",
       "      <td>Female</td>\n",
       "      <td>Student</td>\n",
       "      <td>Post Graduate</td>\n",
       "      <td>Positive</td>\n",
       "    </tr>\n",
       "  </tbody>\n",
       "</table>\n",
       "</div>"
      ],
      "text/plain": [
       "   Age  Gender Occupation Educational Qualifications   Feedback\n",
       "0   20  Female    Student              Post Graduate   Positive\n",
       "1   24  Female    Student                   Graduate   Positive\n",
       "2   22    Male    Student              Post Graduate  Negative \n",
       "3   22  Female    Student                   Graduate   Positive\n",
       "4   22    Male    Student              Post Graduate   Positive\n",
       "5   27  Female   Employee              Post Graduate   Positive\n",
       "6   22    Male    Student                   Graduate   Positive\n",
       "7   24  Female    Student              Post Graduate   Positive\n",
       "8   23  Female    Student              Post Graduate   Positive\n",
       "9   23  Female    Student              Post Graduate   Positive"
      ]
     },
     "execution_count": 47,
     "metadata": {},
     "output_type": "execute_result"
    }
   ],
   "source": [
    "df=pd.read_csv('onlinefoods.csv',usecols=['Age','Gender','Occupation','Educational Qualifications','Feedback'])\n",
    "df.head(10)"
   ]
  },
  {
   "cell_type": "code",
   "execution_count": 26,
   "id": "9b12b02c",
   "metadata": {},
   "outputs": [
    {
     "data": {
      "text/plain": [
       "Gender\n",
       "Male      222\n",
       "Female    166\n",
       "Name: count, dtype: int64"
      ]
     },
     "execution_count": 26,
     "metadata": {},
     "output_type": "execute_result"
    }
   ],
   "source": [
    "df[\"Gender\"].value_counts()"
   ]
  },
  {
   "cell_type": "code",
   "execution_count": 27,
   "id": "32dcc420",
   "metadata": {},
   "outputs": [
    {
     "data": {
      "text/plain": [
       "Occupation\n",
       "Student           207\n",
       "Employee          118\n",
       "Self Employeed     54\n",
       "House wife          9\n",
       "Name: count, dtype: int64"
      ]
     },
     "execution_count": 27,
     "metadata": {},
     "output_type": "execute_result"
    }
   ],
   "source": [
    "df[\"Occupation\"].value_counts()"
   ]
  },
  {
   "cell_type": "code",
   "execution_count": 28,
   "id": "82a36bee",
   "metadata": {},
   "outputs": [
    {
     "data": {
      "text/plain": [
       "Educational Qualifications\n",
       "Graduate         177\n",
       "Post Graduate    174\n",
       "Ph.D              23\n",
       "School            12\n",
       "Uneducated         2\n",
       "Name: count, dtype: int64"
      ]
     },
     "execution_count": 28,
     "metadata": {},
     "output_type": "execute_result"
    }
   ],
   "source": [
    "df[\"Educational Qualifications\"].value_counts()"
   ]
  },
  {
   "cell_type": "code",
   "execution_count": 29,
   "id": "412f08ad",
   "metadata": {},
   "outputs": [
    {
     "data": {
      "text/plain": [
       "Feedback\n",
       "Positive     317\n",
       "Negative      71\n",
       "Name: count, dtype: int64"
      ]
     },
     "execution_count": 29,
     "metadata": {},
     "output_type": "execute_result"
    }
   ],
   "source": [
    "df[\"Feedback\"].value_counts()"
   ]
  },
  {
   "cell_type": "markdown",
   "id": "e4c417c0",
   "metadata": {},
   "source": [
    "# Apply the ordinal encoder on `Education` and Lable encoder on `Feedback` column "
   ]
  },
  {
   "cell_type": "code",
   "execution_count": null,
   "id": "f898797b",
   "metadata": {},
   "outputs": [],
   "source": []
  },
  {
   "cell_type": "markdown",
   "id": "02cbf80a",
   "metadata": {},
   "source": [
    "# Encode the target col"
   ]
  },
  {
   "cell_type": "code",
   "execution_count": 40,
   "id": "171544a9",
   "metadata": {},
   "outputs": [],
   "source": [
    "from sklearn.preprocessing import LabelEncoder"
   ]
  },
  {
   "cell_type": "code",
   "execution_count": 37,
   "id": "1b1a602c",
   "metadata": {},
   "outputs": [],
   "source": [
    "encode=LabelEncoder()\n",
    "df['Feedback']=encode.fit_transform(df['Feedback'])"
   ]
  },
  {
   "cell_type": "code",
   "execution_count": 39,
   "id": "b2a237ad",
   "metadata": {},
   "outputs": [
    {
     "data": {
      "text/html": [
       "<div>\n",
       "<style scoped>\n",
       "    .dataframe tbody tr th:only-of-type {\n",
       "        vertical-align: middle;\n",
       "    }\n",
       "\n",
       "    .dataframe tbody tr th {\n",
       "        vertical-align: top;\n",
       "    }\n",
       "\n",
       "    .dataframe thead th {\n",
       "        text-align: right;\n",
       "    }\n",
       "</style>\n",
       "<table border=\"1\" class=\"dataframe\">\n",
       "  <thead>\n",
       "    <tr style=\"text-align: right;\">\n",
       "      <th></th>\n",
       "      <th>Age</th>\n",
       "      <th>Gender</th>\n",
       "      <th>Occupation</th>\n",
       "      <th>Educational Qualifications</th>\n",
       "      <th>Feedback</th>\n",
       "    </tr>\n",
       "  </thead>\n",
       "  <tbody>\n",
       "    <tr>\n",
       "      <th>66</th>\n",
       "      <td>24</td>\n",
       "      <td>Male</td>\n",
       "      <td>Employee</td>\n",
       "      <td>Graduate</td>\n",
       "      <td>1</td>\n",
       "    </tr>\n",
       "    <tr>\n",
       "      <th>127</th>\n",
       "      <td>25</td>\n",
       "      <td>Male</td>\n",
       "      <td>Student</td>\n",
       "      <td>Post Graduate</td>\n",
       "      <td>1</td>\n",
       "    </tr>\n",
       "  </tbody>\n",
       "</table>\n",
       "</div>"
      ],
      "text/plain": [
       "     Age Gender Occupation Educational Qualifications  Feedback\n",
       "66    24   Male   Employee                   Graduate         1\n",
       "127   25   Male    Student              Post Graduate         1"
      ]
     },
     "execution_count": 39,
     "metadata": {},
     "output_type": "execute_result"
    }
   ],
   "source": [
    "df.sample(2)"
   ]
  },
  {
   "cell_type": "markdown",
   "id": "2d8f2dc3",
   "metadata": {},
   "source": [
    "## Train test split "
   ]
  },
  {
   "cell_type": "code",
   "execution_count": 41,
   "id": "8c29a2dc",
   "metadata": {},
   "outputs": [],
   "source": [
    "from sklearn.model_selection import train_test_split"
   ]
  },
  {
   "cell_type": "code",
   "execution_count": 42,
   "id": "b46d446d",
   "metadata": {},
   "outputs": [],
   "source": [
    "x_train,x_test,y_train,y_test=train_test_split(df.drop(columns=['Feedback']),df['Feedback'],test_size=0.2,random_state=34)"
   ]
  },
  {
   "cell_type": "code",
   "execution_count": null,
   "id": "89d73053",
   "metadata": {},
   "outputs": [],
   "source": []
  },
  {
   "cell_type": "markdown",
   "id": "56962256",
   "metadata": {},
   "source": [
    "# Applt Ordianl Encoder"
   ]
  },
  {
   "cell_type": "code",
   "execution_count": 43,
   "id": "2ce2c507",
   "metadata": {},
   "outputs": [],
   "source": [
    "from sklearn.preprocessing import OrdinalEncoder"
   ]
  },
  {
   "cell_type": "code",
   "execution_count": 44,
   "id": "ea817d07",
   "metadata": {},
   "outputs": [],
   "source": [
    "ordi=OrdinalEncoder(categories=[['Uneducated','School','Post Graduate','Graduate','Ph.D']])\n",
    "x_train['Educational Qualifications']=ordi.fit_transform(x_train[['Educational Qualifications']])\n",
    "x_test['Educational Qualifications']=ordi.transform(x_test[['Educational Qualifications']])"
   ]
  },
  {
   "cell_type": "code",
   "execution_count": 48,
   "id": "304cded1",
   "metadata": {},
   "outputs": [
    {
     "data": {
      "text/html": [
       "<div>\n",
       "<style scoped>\n",
       "    .dataframe tbody tr th:only-of-type {\n",
       "        vertical-align: middle;\n",
       "    }\n",
       "\n",
       "    .dataframe tbody tr th {\n",
       "        vertical-align: top;\n",
       "    }\n",
       "\n",
       "    .dataframe thead th {\n",
       "        text-align: right;\n",
       "    }\n",
       "</style>\n",
       "<table border=\"1\" class=\"dataframe\">\n",
       "  <thead>\n",
       "    <tr style=\"text-align: right;\">\n",
       "      <th></th>\n",
       "      <th>Age</th>\n",
       "      <th>Gender</th>\n",
       "      <th>Occupation</th>\n",
       "      <th>Educational Qualifications</th>\n",
       "    </tr>\n",
       "  </thead>\n",
       "  <tbody>\n",
       "    <tr>\n",
       "      <th>88</th>\n",
       "      <td>25</td>\n",
       "      <td>Male</td>\n",
       "      <td>Student</td>\n",
       "      <td>2.0</td>\n",
       "    </tr>\n",
       "    <tr>\n",
       "      <th>244</th>\n",
       "      <td>30</td>\n",
       "      <td>Male</td>\n",
       "      <td>Self Employeed</td>\n",
       "      <td>3.0</td>\n",
       "    </tr>\n",
       "    <tr>\n",
       "      <th>175</th>\n",
       "      <td>23</td>\n",
       "      <td>Female</td>\n",
       "      <td>Employee</td>\n",
       "      <td>3.0</td>\n",
       "    </tr>\n",
       "    <tr>\n",
       "      <th>30</th>\n",
       "      <td>22</td>\n",
       "      <td>Female</td>\n",
       "      <td>Employee</td>\n",
       "      <td>3.0</td>\n",
       "    </tr>\n",
       "    <tr>\n",
       "      <th>232</th>\n",
       "      <td>24</td>\n",
       "      <td>Female</td>\n",
       "      <td>Self Employeed</td>\n",
       "      <td>2.0</td>\n",
       "    </tr>\n",
       "    <tr>\n",
       "      <th>320</th>\n",
       "      <td>26</td>\n",
       "      <td>Male</td>\n",
       "      <td>Self Employeed</td>\n",
       "      <td>2.0</td>\n",
       "    </tr>\n",
       "    <tr>\n",
       "      <th>177</th>\n",
       "      <td>26</td>\n",
       "      <td>Male</td>\n",
       "      <td>Self Employeed</td>\n",
       "      <td>2.0</td>\n",
       "    </tr>\n",
       "    <tr>\n",
       "      <th>127</th>\n",
       "      <td>25</td>\n",
       "      <td>Male</td>\n",
       "      <td>Student</td>\n",
       "      <td>2.0</td>\n",
       "    </tr>\n",
       "    <tr>\n",
       "      <th>196</th>\n",
       "      <td>19</td>\n",
       "      <td>Male</td>\n",
       "      <td>Student</td>\n",
       "      <td>3.0</td>\n",
       "    </tr>\n",
       "    <tr>\n",
       "      <th>20</th>\n",
       "      <td>24</td>\n",
       "      <td>Male</td>\n",
       "      <td>Student</td>\n",
       "      <td>2.0</td>\n",
       "    </tr>\n",
       "  </tbody>\n",
       "</table>\n",
       "</div>"
      ],
      "text/plain": [
       "     Age  Gender      Occupation  Educational Qualifications\n",
       "88    25    Male         Student                         2.0\n",
       "244   30    Male  Self Employeed                         3.0\n",
       "175   23  Female        Employee                         3.0\n",
       "30    22  Female        Employee                         3.0\n",
       "232   24  Female  Self Employeed                         2.0\n",
       "320   26    Male  Self Employeed                         2.0\n",
       "177   26    Male  Self Employeed                         2.0\n",
       "127   25    Male         Student                         2.0\n",
       "196   19    Male         Student                         3.0\n",
       "20    24    Male         Student                         2.0"
      ]
     },
     "execution_count": 48,
     "metadata": {},
     "output_type": "execute_result"
    }
   ],
   "source": [
    "x_train.head(10)"
   ]
  },
  {
   "cell_type": "markdown",
   "id": "ab771633",
   "metadata": {},
   "source": [
    "# Check the category"
   ]
  },
  {
   "cell_type": "code",
   "execution_count": 49,
   "id": "33549637",
   "metadata": {},
   "outputs": [
    {
     "data": {
      "text/plain": [
       "[array(['Uneducated', 'School', 'Post Graduate', 'Graduate', 'Ph.D'],\n",
       "       dtype=object)]"
      ]
     },
     "execution_count": 49,
     "metadata": {},
     "output_type": "execute_result"
    }
   ],
   "source": [
    "ordi.categories_"
   ]
  },
  {
   "cell_type": "code",
   "execution_count": 50,
   "id": "1abd137a",
   "metadata": {},
   "outputs": [
    {
     "data": {
      "text/plain": [
       "array(['Educational Qualifications'], dtype=object)"
      ]
     },
     "execution_count": 50,
     "metadata": {},
     "output_type": "execute_result"
    }
   ],
   "source": [
    "ordi.feature_names_in_"
   ]
  },
  {
   "cell_type": "code",
   "execution_count": null,
   "id": "92913572",
   "metadata": {},
   "outputs": [],
   "source": []
  },
  {
   "cell_type": "code",
   "execution_count": null,
   "id": "f20523c1",
   "metadata": {},
   "outputs": [],
   "source": []
  }
 ],
 "metadata": {
  "kernelspec": {
   "display_name": "Python 3 (ipykernel)",
   "language": "python",
   "name": "python3"
  },
  "language_info": {
   "codemirror_mode": {
    "name": "ipython",
    "version": 3
   },
   "file_extension": ".py",
   "mimetype": "text/x-python",
   "name": "python",
   "nbconvert_exporter": "python",
   "pygments_lexer": "ipython3",
   "version": "3.11.5"
  }
 },
 "nbformat": 4,
 "nbformat_minor": 5
}
