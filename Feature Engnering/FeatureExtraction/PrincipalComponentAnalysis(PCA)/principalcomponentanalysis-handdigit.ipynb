{
 "cells": [
  {
   "cell_type": "code",
   "execution_count": 7,
   "metadata": {
    "_cell_guid": "b1076dfc-b9ad-4769-8c92-a6c4dae69d19",
    "_uuid": "8f2839f25d086af736a60e9eeb907d3b93b6e0e5",
    "execution": {
     "iopub.execute_input": "2024-05-08T19:12:39.567721Z",
     "iopub.status.busy": "2024-05-08T19:12:39.567231Z",
     "iopub.status.idle": "2024-05-08T19:12:40.147293Z",
     "shell.execute_reply": "2024-05-08T19:12:40.146330Z",
     "shell.execute_reply.started": "2024-05-08T19:12:39.567688Z"
    }
   },
   "outputs": [
    {
     "name": "stdout",
     "output_type": "stream",
     "text": [
      "/kaggle/input/mnist-digit-recognizer/train.csv\n"
     ]
    }
   ],
   "source": [
    "# This Python 3 environment comes with many helpful analytics libraries installed\n",
    "# It is defined by the kaggle/python Docker image: https://github.com/kaggle/docker-python\n",
    "# For example, here's several helpful packages to load\n",
    "\n",
    "import numpy as np # linear algebra\n",
    "import pandas as pd # data processing, CSV file I/O (e.g. pd.read_csv)\n",
    "\n",
    "# Input data files are available in the read-only \"../input/\" directory\n",
    "# For example, running this (by clicking run or pressing Shift+Enter) will list all files under the input directory\n",
    "\n",
    "import os\n",
    "for dirname, _, filenames in os.walk('/kaggle/input'):\n",
    "    for filename in filenames:\n",
    "        print(os.path.join(dirname, filename))\n",
    "\n",
    "# You can write up to 20GB to the current directory (/kaggle/working/) that gets preserved as output when you create a version using \"Save & Run All\" \n",
    "# You can also write temporary files to /kaggle/temp/, but they won't be saved outside of the current session"
   ]
  },
  {
   "cell_type": "markdown",
   "metadata": {},
   "source": [
    "# Principal Component Analysis\n",
    "- **Principal component analysis (PCA) is a statistical technique that reduces the dimensionality of data by transforming it onto a new coordinate system.**\n",
    "- **This technique is often used to reduce the number of variables in large data sets while still retaining most of the information.**\n",
    "- **we can also visulize them after converting them into lower dimension.**"
   ]
  },
  {
   "cell_type": "markdown",
   "metadata": {},
   "source": [
    "# Key Points\n",
    "- **In PCA we can find the those `Unit vector` in which variance is maximum.**"
   ]
  },
  {
   "cell_type": "markdown",
   "metadata": {},
   "source": [
    "# Loading Dataset"
   ]
  },
  {
   "cell_type": "code",
   "execution_count": 8,
   "metadata": {
    "execution": {
     "iopub.execute_input": "2024-05-08T19:12:45.627259Z",
     "iopub.status.busy": "2024-05-08T19:12:45.626610Z",
     "iopub.status.idle": "2024-05-08T19:12:51.171826Z",
     "shell.execute_reply": "2024-05-08T19:12:51.170601Z",
     "shell.execute_reply.started": "2024-05-08T19:12:45.627221Z"
    }
   },
   "outputs": [
    {
     "data": {
      "text/html": [
       "<div>\n",
       "<style scoped>\n",
       "    .dataframe tbody tr th:only-of-type {\n",
       "        vertical-align: middle;\n",
       "    }\n",
       "\n",
       "    .dataframe tbody tr th {\n",
       "        vertical-align: top;\n",
       "    }\n",
       "\n",
       "    .dataframe thead th {\n",
       "        text-align: right;\n",
       "    }\n",
       "</style>\n",
       "<table border=\"1\" class=\"dataframe\">\n",
       "  <thead>\n",
       "    <tr style=\"text-align: right;\">\n",
       "      <th></th>\n",
       "      <th>label</th>\n",
       "      <th>pixel0</th>\n",
       "      <th>pixel1</th>\n",
       "      <th>pixel2</th>\n",
       "      <th>pixel3</th>\n",
       "      <th>pixel4</th>\n",
       "      <th>pixel5</th>\n",
       "      <th>pixel6</th>\n",
       "      <th>pixel7</th>\n",
       "      <th>pixel8</th>\n",
       "      <th>...</th>\n",
       "      <th>pixel774</th>\n",
       "      <th>pixel775</th>\n",
       "      <th>pixel776</th>\n",
       "      <th>pixel777</th>\n",
       "      <th>pixel778</th>\n",
       "      <th>pixel779</th>\n",
       "      <th>pixel780</th>\n",
       "      <th>pixel781</th>\n",
       "      <th>pixel782</th>\n",
       "      <th>pixel783</th>\n",
       "    </tr>\n",
       "  </thead>\n",
       "  <tbody>\n",
       "    <tr>\n",
       "      <th>0</th>\n",
       "      <td>1</td>\n",
       "      <td>0</td>\n",
       "      <td>0</td>\n",
       "      <td>0</td>\n",
       "      <td>0</td>\n",
       "      <td>0</td>\n",
       "      <td>0</td>\n",
       "      <td>0</td>\n",
       "      <td>0</td>\n",
       "      <td>0</td>\n",
       "      <td>...</td>\n",
       "      <td>0</td>\n",
       "      <td>0</td>\n",
       "      <td>0</td>\n",
       "      <td>0</td>\n",
       "      <td>0</td>\n",
       "      <td>0</td>\n",
       "      <td>0</td>\n",
       "      <td>0</td>\n",
       "      <td>0</td>\n",
       "      <td>0</td>\n",
       "    </tr>\n",
       "    <tr>\n",
       "      <th>1</th>\n",
       "      <td>0</td>\n",
       "      <td>0</td>\n",
       "      <td>0</td>\n",
       "      <td>0</td>\n",
       "      <td>0</td>\n",
       "      <td>0</td>\n",
       "      <td>0</td>\n",
       "      <td>0</td>\n",
       "      <td>0</td>\n",
       "      <td>0</td>\n",
       "      <td>...</td>\n",
       "      <td>0</td>\n",
       "      <td>0</td>\n",
       "      <td>0</td>\n",
       "      <td>0</td>\n",
       "      <td>0</td>\n",
       "      <td>0</td>\n",
       "      <td>0</td>\n",
       "      <td>0</td>\n",
       "      <td>0</td>\n",
       "      <td>0</td>\n",
       "    </tr>\n",
       "  </tbody>\n",
       "</table>\n",
       "<p>2 rows × 785 columns</p>\n",
       "</div>"
      ],
      "text/plain": [
       "   label  pixel0  pixel1  pixel2  pixel3  pixel4  pixel5  pixel6  pixel7  \\\n",
       "0      1       0       0       0       0       0       0       0       0   \n",
       "1      0       0       0       0       0       0       0       0       0   \n",
       "\n",
       "   pixel8  ...  pixel774  pixel775  pixel776  pixel777  pixel778  pixel779  \\\n",
       "0       0  ...         0         0         0         0         0         0   \n",
       "1       0  ...         0         0         0         0         0         0   \n",
       "\n",
       "   pixel780  pixel781  pixel782  pixel783  \n",
       "0         0         0         0         0  \n",
       "1         0         0         0         0  \n",
       "\n",
       "[2 rows x 785 columns]"
      ]
     },
     "execution_count": 8,
     "metadata": {},
     "output_type": "execute_result"
    }
   ],
   "source": [
    "df=pd.read_csv('/kaggle/input/mnist-digit-recognizer/train.csv')\n",
    "df.head(2)"
   ]
  },
  {
   "cell_type": "markdown",
   "metadata": {},
   "source": [
    "# Plan of action\n",
    "- First we will train the model before applying PCA.\n",
    "- Second we will triain the model after applying PCA"
   ]
  },
  {
   "cell_type": "markdown",
   "metadata": {},
   "source": [
    "# Before Applying PCA"
   ]
  },
  {
   "cell_type": "code",
   "execution_count": 9,
   "metadata": {
    "execution": {
     "iopub.execute_input": "2024-05-08T19:12:53.347440Z",
     "iopub.status.busy": "2024-05-08T19:12:53.346058Z",
     "iopub.status.idle": "2024-05-08T19:12:53.386764Z",
     "shell.execute_reply": "2024-05-08T19:12:53.385784Z",
     "shell.execute_reply.started": "2024-05-08T19:12:53.347385Z"
    }
   },
   "outputs": [
    {
     "data": {
      "text/plain": [
       "label       0\n",
       "pixel0      0\n",
       "pixel1      0\n",
       "pixel2      0\n",
       "pixel3      0\n",
       "           ..\n",
       "pixel779    0\n",
       "pixel780    0\n",
       "pixel781    0\n",
       "pixel782    0\n",
       "pixel783    0\n",
       "Length: 785, dtype: int64"
      ]
     },
     "execution_count": 9,
     "metadata": {},
     "output_type": "execute_result"
    }
   ],
   "source": [
    "df.isnull().sum()"
   ]
  },
  {
   "cell_type": "code",
   "execution_count": 10,
   "metadata": {
    "execution": {
     "iopub.execute_input": "2024-05-08T19:12:54.226661Z",
     "iopub.status.busy": "2024-05-08T19:12:54.226189Z",
     "iopub.status.idle": "2024-05-08T19:12:54.767218Z",
     "shell.execute_reply": "2024-05-08T19:12:54.765675Z",
     "shell.execute_reply.started": "2024-05-08T19:12:54.226628Z"
    }
   },
   "outputs": [
    {
     "data": {
      "text/plain": [
       "0"
      ]
     },
     "execution_count": 10,
     "metadata": {},
     "output_type": "execute_result"
    }
   ],
   "source": [
    "df.duplicated().sum()"
   ]
  },
  {
   "cell_type": "code",
   "execution_count": 11,
   "metadata": {
    "execution": {
     "iopub.execute_input": "2024-05-08T19:12:54.769969Z",
     "iopub.status.busy": "2024-05-08T19:12:54.769626Z",
     "iopub.status.idle": "2024-05-08T19:12:54.776390Z",
     "shell.execute_reply": "2024-05-08T19:12:54.774998Z",
     "shell.execute_reply.started": "2024-05-08T19:12:54.769940Z"
    }
   },
   "outputs": [],
   "source": [
    "import matplotlib.pyplot as plt"
   ]
  },
  {
   "cell_type": "code",
   "execution_count": 14,
   "metadata": {
    "execution": {
     "iopub.execute_input": "2024-05-08T19:13:00.646231Z",
     "iopub.status.busy": "2024-05-08T19:13:00.645817Z",
     "iopub.status.idle": "2024-05-08T19:13:00.652481Z",
     "shell.execute_reply": "2024-05-08T19:13:00.650999Z",
     "shell.execute_reply.started": "2024-05-08T19:13:00.646200Z"
    }
   },
   "outputs": [],
   "source": [
    "# df.iloc[0,:].values.reshape(28,28)"
   ]
  },
  {
   "cell_type": "markdown",
   "metadata": {},
   "source": [
    "# # Train test split"
   ]
  },
  {
   "cell_type": "code",
   "execution_count": 15,
   "metadata": {
    "execution": {
     "iopub.execute_input": "2024-05-08T19:13:01.794804Z",
     "iopub.status.busy": "2024-05-08T19:13:01.794339Z",
     "iopub.status.idle": "2024-05-08T19:13:01.800640Z",
     "shell.execute_reply": "2024-05-08T19:13:01.798920Z",
     "shell.execute_reply.started": "2024-05-08T19:13:01.794773Z"
    }
   },
   "outputs": [],
   "source": [
    "from sklearn.model_selection import train_test_split"
   ]
  },
  {
   "cell_type": "code",
   "execution_count": 16,
   "metadata": {
    "execution": {
     "iopub.execute_input": "2024-05-08T19:13:02.125646Z",
     "iopub.status.busy": "2024-05-08T19:13:02.125151Z",
     "iopub.status.idle": "2024-05-08T19:13:02.242232Z",
     "shell.execute_reply": "2024-05-08T19:13:02.240733Z",
     "shell.execute_reply.started": "2024-05-08T19:13:02.125612Z"
    }
   },
   "outputs": [],
   "source": [
    "feature=df.drop(columns=['label'])\n",
    "label=df['label']"
   ]
  },
  {
   "cell_type": "code",
   "execution_count": 17,
   "metadata": {
    "execution": {
     "iopub.execute_input": "2024-05-08T19:13:02.728905Z",
     "iopub.status.busy": "2024-05-08T19:13:02.728432Z",
     "iopub.status.idle": "2024-05-08T19:13:03.012862Z",
     "shell.execute_reply": "2024-05-08T19:13:03.011125Z",
     "shell.execute_reply.started": "2024-05-08T19:13:02.728873Z"
    }
   },
   "outputs": [],
   "source": [
    "x_train,x_test,y_train,y_test=train_test_split(feature,label,test_size=0.2,random_state=42)"
   ]
  },
  {
   "cell_type": "markdown",
   "metadata": {},
   "source": [
    "# Fit the modle"
   ]
  },
  {
   "cell_type": "code",
   "execution_count": 18,
   "metadata": {
    "execution": {
     "iopub.execute_input": "2024-05-08T19:13:04.368497Z",
     "iopub.status.busy": "2024-05-08T19:13:04.367410Z",
     "iopub.status.idle": "2024-05-08T19:13:04.565577Z",
     "shell.execute_reply": "2024-05-08T19:13:04.564088Z",
     "shell.execute_reply.started": "2024-05-08T19:13:04.368434Z"
    }
   },
   "outputs": [],
   "source": [
    "from sklearn.neighbors import KNeighborsClassifier"
   ]
  },
  {
   "cell_type": "markdown",
   "metadata": {},
   "source": [
    "# We should go by default setting"
   ]
  },
  {
   "cell_type": "code",
   "execution_count": 19,
   "metadata": {
    "execution": {
     "iopub.execute_input": "2024-05-08T19:13:05.806194Z",
     "iopub.status.busy": "2024-05-08T19:13:05.805698Z",
     "iopub.status.idle": "2024-05-08T19:13:06.033458Z",
     "shell.execute_reply": "2024-05-08T19:13:06.032001Z",
     "shell.execute_reply.started": "2024-05-08T19:13:05.806156Z"
    }
   },
   "outputs": [
    {
     "data": {
      "text/html": [
       "<style>#sk-container-id-1 {color: black;background-color: white;}#sk-container-id-1 pre{padding: 0;}#sk-container-id-1 div.sk-toggleable {background-color: white;}#sk-container-id-1 label.sk-toggleable__label {cursor: pointer;display: block;width: 100%;margin-bottom: 0;padding: 0.3em;box-sizing: border-box;text-align: center;}#sk-container-id-1 label.sk-toggleable__label-arrow:before {content: \"▸\";float: left;margin-right: 0.25em;color: #696969;}#sk-container-id-1 label.sk-toggleable__label-arrow:hover:before {color: black;}#sk-container-id-1 div.sk-estimator:hover label.sk-toggleable__label-arrow:before {color: black;}#sk-container-id-1 div.sk-toggleable__content {max-height: 0;max-width: 0;overflow: hidden;text-align: left;background-color: #f0f8ff;}#sk-container-id-1 div.sk-toggleable__content pre {margin: 0.2em;color: black;border-radius: 0.25em;background-color: #f0f8ff;}#sk-container-id-1 input.sk-toggleable__control:checked~div.sk-toggleable__content {max-height: 200px;max-width: 100%;overflow: auto;}#sk-container-id-1 input.sk-toggleable__control:checked~label.sk-toggleable__label-arrow:before {content: \"▾\";}#sk-container-id-1 div.sk-estimator input.sk-toggleable__control:checked~label.sk-toggleable__label {background-color: #d4ebff;}#sk-container-id-1 div.sk-label input.sk-toggleable__control:checked~label.sk-toggleable__label {background-color: #d4ebff;}#sk-container-id-1 input.sk-hidden--visually {border: 0;clip: rect(1px 1px 1px 1px);clip: rect(1px, 1px, 1px, 1px);height: 1px;margin: -1px;overflow: hidden;padding: 0;position: absolute;width: 1px;}#sk-container-id-1 div.sk-estimator {font-family: monospace;background-color: #f0f8ff;border: 1px dotted black;border-radius: 0.25em;box-sizing: border-box;margin-bottom: 0.5em;}#sk-container-id-1 div.sk-estimator:hover {background-color: #d4ebff;}#sk-container-id-1 div.sk-parallel-item::after {content: \"\";width: 100%;border-bottom: 1px solid gray;flex-grow: 1;}#sk-container-id-1 div.sk-label:hover label.sk-toggleable__label {background-color: #d4ebff;}#sk-container-id-1 div.sk-serial::before {content: \"\";position: absolute;border-left: 1px solid gray;box-sizing: border-box;top: 0;bottom: 0;left: 50%;z-index: 0;}#sk-container-id-1 div.sk-serial {display: flex;flex-direction: column;align-items: center;background-color: white;padding-right: 0.2em;padding-left: 0.2em;position: relative;}#sk-container-id-1 div.sk-item {position: relative;z-index: 1;}#sk-container-id-1 div.sk-parallel {display: flex;align-items: stretch;justify-content: center;background-color: white;position: relative;}#sk-container-id-1 div.sk-item::before, #sk-container-id-1 div.sk-parallel-item::before {content: \"\";position: absolute;border-left: 1px solid gray;box-sizing: border-box;top: 0;bottom: 0;left: 50%;z-index: -1;}#sk-container-id-1 div.sk-parallel-item {display: flex;flex-direction: column;z-index: 1;position: relative;background-color: white;}#sk-container-id-1 div.sk-parallel-item:first-child::after {align-self: flex-end;width: 50%;}#sk-container-id-1 div.sk-parallel-item:last-child::after {align-self: flex-start;width: 50%;}#sk-container-id-1 div.sk-parallel-item:only-child::after {width: 0;}#sk-container-id-1 div.sk-dashed-wrapped {border: 1px dashed gray;margin: 0 0.4em 0.5em 0.4em;box-sizing: border-box;padding-bottom: 0.4em;background-color: white;}#sk-container-id-1 div.sk-label label {font-family: monospace;font-weight: bold;display: inline-block;line-height: 1.2em;}#sk-container-id-1 div.sk-label-container {text-align: center;}#sk-container-id-1 div.sk-container {/* jupyter's `normalize.less` sets `[hidden] { display: none; }` but bootstrap.min.css set `[hidden] { display: none !important; }` so we also need the `!important` here to be able to override the default hidden behavior on the sphinx rendered scikit-learn.org. See: https://github.com/scikit-learn/scikit-learn/issues/21755 */display: inline-block !important;position: relative;}#sk-container-id-1 div.sk-text-repr-fallback {display: none;}</style><div id=\"sk-container-id-1\" class=\"sk-top-container\"><div class=\"sk-text-repr-fallback\"><pre>KNeighborsClassifier()</pre><b>In a Jupyter environment, please rerun this cell to show the HTML representation or trust the notebook. <br />On GitHub, the HTML representation is unable to render, please try loading this page with nbviewer.org.</b></div><div class=\"sk-container\" hidden><div class=\"sk-item\"><div class=\"sk-estimator sk-toggleable\"><input class=\"sk-toggleable__control sk-hidden--visually\" id=\"sk-estimator-id-1\" type=\"checkbox\" checked><label for=\"sk-estimator-id-1\" class=\"sk-toggleable__label sk-toggleable__label-arrow\">KNeighborsClassifier</label><div class=\"sk-toggleable__content\"><pre>KNeighborsClassifier()</pre></div></div></div></div></div>"
      ],
      "text/plain": [
       "KNeighborsClassifier()"
      ]
     },
     "execution_count": 19,
     "metadata": {},
     "output_type": "execute_result"
    }
   ],
   "source": [
    "cls=KNeighborsClassifier()\n",
    "cls.fit(x_train,y_train)"
   ]
  },
  {
   "cell_type": "code",
   "execution_count": 20,
   "metadata": {
    "execution": {
     "iopub.execute_input": "2024-05-08T19:13:06.575985Z",
     "iopub.status.busy": "2024-05-08T19:13:06.575433Z",
     "iopub.status.idle": "2024-05-08T19:13:20.706247Z",
     "shell.execute_reply": "2024-05-08T19:13:20.705182Z",
     "shell.execute_reply.started": "2024-05-08T19:13:06.575929Z"
    }
   },
   "outputs": [],
   "source": [
    "pre=cls.predict(x_test)"
   ]
  },
  {
   "cell_type": "markdown",
   "metadata": {},
   "source": [
    "# Check the accuracy"
   ]
  },
  {
   "cell_type": "code",
   "execution_count": 21,
   "metadata": {
    "execution": {
     "iopub.execute_input": "2024-05-08T19:13:27.818517Z",
     "iopub.status.busy": "2024-05-08T19:13:27.817856Z",
     "iopub.status.idle": "2024-05-08T19:13:27.822875Z",
     "shell.execute_reply": "2024-05-08T19:13:27.821901Z",
     "shell.execute_reply.started": "2024-05-08T19:13:27.818478Z"
    }
   },
   "outputs": [],
   "source": [
    "from sklearn.metrics import accuracy_score"
   ]
  },
  {
   "cell_type": "code",
   "execution_count": 22,
   "metadata": {
    "execution": {
     "iopub.execute_input": "2024-05-08T19:13:29.163092Z",
     "iopub.status.busy": "2024-05-08T19:13:29.162281Z",
     "iopub.status.idle": "2024-05-08T19:13:29.172515Z",
     "shell.execute_reply": "2024-05-08T19:13:29.171099Z",
     "shell.execute_reply.started": "2024-05-08T19:13:29.163050Z"
    }
   },
   "outputs": [
    {
     "data": {
      "text/plain": [
       "0.9648809523809524"
      ]
     },
     "execution_count": 22,
     "metadata": {},
     "output_type": "execute_result"
    }
   ],
   "source": [
    "score=accuracy_score(y_test,pre)\n",
    "score"
   ]
  },
  {
   "cell_type": "markdown",
   "metadata": {},
   "source": [
    "# Before PCA we can get `96%` accuracy "
   ]
  },
  {
   "cell_type": "code",
   "execution_count": null,
   "metadata": {},
   "outputs": [],
   "source": []
  },
  {
   "cell_type": "markdown",
   "metadata": {},
   "source": [
    "# Now Applying PCA\n",
    "- First we can scale the feature.\n",
    "- Then we will apply PCA"
   ]
  },
  {
   "cell_type": "code",
   "execution_count": 23,
   "metadata": {
    "execution": {
     "iopub.execute_input": "2024-05-08T19:13:32.520009Z",
     "iopub.status.busy": "2024-05-08T19:13:32.519571Z",
     "iopub.status.idle": "2024-05-08T19:13:32.525380Z",
     "shell.execute_reply": "2024-05-08T19:13:32.523981Z",
     "shell.execute_reply.started": "2024-05-08T19:13:32.519978Z"
    }
   },
   "outputs": [],
   "source": [
    "from sklearn.preprocessing import StandardScaler"
   ]
  },
  {
   "cell_type": "code",
   "execution_count": 24,
   "metadata": {
    "execution": {
     "iopub.execute_input": "2024-05-08T19:13:33.118458Z",
     "iopub.status.busy": "2024-05-08T19:13:33.118033Z",
     "iopub.status.idle": "2024-05-08T19:13:33.857004Z",
     "shell.execute_reply": "2024-05-08T19:13:33.855657Z",
     "shell.execute_reply.started": "2024-05-08T19:13:33.118430Z"
    }
   },
   "outputs": [],
   "source": [
    "scale=StandardScaler()\n",
    "x_train_scale=scale.fit_transform(x_train)\n",
    "x_test_scale=scale.transform(x_test)"
   ]
  },
  {
   "cell_type": "code",
   "execution_count": 25,
   "metadata": {
    "execution": {
     "iopub.execute_input": "2024-05-08T19:13:33.859667Z",
     "iopub.status.busy": "2024-05-08T19:13:33.859185Z",
     "iopub.status.idle": "2024-05-08T19:13:33.868292Z",
     "shell.execute_reply": "2024-05-08T19:13:33.867096Z",
     "shell.execute_reply.started": "2024-05-08T19:13:33.859612Z"
    }
   },
   "outputs": [
    {
     "data": {
      "text/plain": [
       "array([[0., 0., 0., ..., 0., 0., 0.],\n",
       "       [0., 0., 0., ..., 0., 0., 0.],\n",
       "       [0., 0., 0., ..., 0., 0., 0.],\n",
       "       ...,\n",
       "       [0., 0., 0., ..., 0., 0., 0.],\n",
       "       [0., 0., 0., ..., 0., 0., 0.],\n",
       "       [0., 0., 0., ..., 0., 0., 0.]])"
      ]
     },
     "execution_count": 25,
     "metadata": {},
     "output_type": "execute_result"
    }
   ],
   "source": [
    "x_train_scale"
   ]
  },
  {
   "cell_type": "code",
   "execution_count": 26,
   "metadata": {
    "execution": {
     "iopub.execute_input": "2024-05-08T19:13:34.251105Z",
     "iopub.status.busy": "2024-05-08T19:13:34.250438Z",
     "iopub.status.idle": "2024-05-08T19:13:34.257243Z",
     "shell.execute_reply": "2024-05-08T19:13:34.256202Z",
     "shell.execute_reply.started": "2024-05-08T19:13:34.251064Z"
    }
   },
   "outputs": [],
   "source": [
    "from sklearn.decomposition import PCA"
   ]
  },
  {
   "cell_type": "code",
   "execution_count": 27,
   "metadata": {
    "execution": {
     "iopub.execute_input": "2024-05-08T19:13:34.749301Z",
     "iopub.status.busy": "2024-05-08T19:13:34.748807Z",
     "iopub.status.idle": "2024-05-08T19:13:39.667074Z",
     "shell.execute_reply": "2024-05-08T19:13:39.665154Z",
     "shell.execute_reply.started": "2024-05-08T19:13:34.749261Z"
    }
   },
   "outputs": [],
   "source": [
    "pca=PCA(n_components=None)\n",
    "x_train_trf=pca.fit_transform(x_train_scale)\n",
    "x_test_trf=pca.transform(x_test_scale)"
   ]
  },
  {
   "cell_type": "markdown",
   "metadata": {},
   "source": [
    "# Fit Model Again"
   ]
  },
  {
   "cell_type": "code",
   "execution_count": 28,
   "metadata": {
    "execution": {
     "iopub.execute_input": "2024-05-08T19:13:39.680436Z",
     "iopub.status.busy": "2024-05-08T19:13:39.675645Z",
     "iopub.status.idle": "2024-05-08T19:13:39.867262Z",
     "shell.execute_reply": "2024-05-08T19:13:39.865984Z",
     "shell.execute_reply.started": "2024-05-08T19:13:39.680354Z"
    }
   },
   "outputs": [
    {
     "data": {
      "text/html": [
       "<style>#sk-container-id-2 {color: black;background-color: white;}#sk-container-id-2 pre{padding: 0;}#sk-container-id-2 div.sk-toggleable {background-color: white;}#sk-container-id-2 label.sk-toggleable__label {cursor: pointer;display: block;width: 100%;margin-bottom: 0;padding: 0.3em;box-sizing: border-box;text-align: center;}#sk-container-id-2 label.sk-toggleable__label-arrow:before {content: \"▸\";float: left;margin-right: 0.25em;color: #696969;}#sk-container-id-2 label.sk-toggleable__label-arrow:hover:before {color: black;}#sk-container-id-2 div.sk-estimator:hover label.sk-toggleable__label-arrow:before {color: black;}#sk-container-id-2 div.sk-toggleable__content {max-height: 0;max-width: 0;overflow: hidden;text-align: left;background-color: #f0f8ff;}#sk-container-id-2 div.sk-toggleable__content pre {margin: 0.2em;color: black;border-radius: 0.25em;background-color: #f0f8ff;}#sk-container-id-2 input.sk-toggleable__control:checked~div.sk-toggleable__content {max-height: 200px;max-width: 100%;overflow: auto;}#sk-container-id-2 input.sk-toggleable__control:checked~label.sk-toggleable__label-arrow:before {content: \"▾\";}#sk-container-id-2 div.sk-estimator input.sk-toggleable__control:checked~label.sk-toggleable__label {background-color: #d4ebff;}#sk-container-id-2 div.sk-label input.sk-toggleable__control:checked~label.sk-toggleable__label {background-color: #d4ebff;}#sk-container-id-2 input.sk-hidden--visually {border: 0;clip: rect(1px 1px 1px 1px);clip: rect(1px, 1px, 1px, 1px);height: 1px;margin: -1px;overflow: hidden;padding: 0;position: absolute;width: 1px;}#sk-container-id-2 div.sk-estimator {font-family: monospace;background-color: #f0f8ff;border: 1px dotted black;border-radius: 0.25em;box-sizing: border-box;margin-bottom: 0.5em;}#sk-container-id-2 div.sk-estimator:hover {background-color: #d4ebff;}#sk-container-id-2 div.sk-parallel-item::after {content: \"\";width: 100%;border-bottom: 1px solid gray;flex-grow: 1;}#sk-container-id-2 div.sk-label:hover label.sk-toggleable__label {background-color: #d4ebff;}#sk-container-id-2 div.sk-serial::before {content: \"\";position: absolute;border-left: 1px solid gray;box-sizing: border-box;top: 0;bottom: 0;left: 50%;z-index: 0;}#sk-container-id-2 div.sk-serial {display: flex;flex-direction: column;align-items: center;background-color: white;padding-right: 0.2em;padding-left: 0.2em;position: relative;}#sk-container-id-2 div.sk-item {position: relative;z-index: 1;}#sk-container-id-2 div.sk-parallel {display: flex;align-items: stretch;justify-content: center;background-color: white;position: relative;}#sk-container-id-2 div.sk-item::before, #sk-container-id-2 div.sk-parallel-item::before {content: \"\";position: absolute;border-left: 1px solid gray;box-sizing: border-box;top: 0;bottom: 0;left: 50%;z-index: -1;}#sk-container-id-2 div.sk-parallel-item {display: flex;flex-direction: column;z-index: 1;position: relative;background-color: white;}#sk-container-id-2 div.sk-parallel-item:first-child::after {align-self: flex-end;width: 50%;}#sk-container-id-2 div.sk-parallel-item:last-child::after {align-self: flex-start;width: 50%;}#sk-container-id-2 div.sk-parallel-item:only-child::after {width: 0;}#sk-container-id-2 div.sk-dashed-wrapped {border: 1px dashed gray;margin: 0 0.4em 0.5em 0.4em;box-sizing: border-box;padding-bottom: 0.4em;background-color: white;}#sk-container-id-2 div.sk-label label {font-family: monospace;font-weight: bold;display: inline-block;line-height: 1.2em;}#sk-container-id-2 div.sk-label-container {text-align: center;}#sk-container-id-2 div.sk-container {/* jupyter's `normalize.less` sets `[hidden] { display: none; }` but bootstrap.min.css set `[hidden] { display: none !important; }` so we also need the `!important` here to be able to override the default hidden behavior on the sphinx rendered scikit-learn.org. See: https://github.com/scikit-learn/scikit-learn/issues/21755 */display: inline-block !important;position: relative;}#sk-container-id-2 div.sk-text-repr-fallback {display: none;}</style><div id=\"sk-container-id-2\" class=\"sk-top-container\"><div class=\"sk-text-repr-fallback\"><pre>KNeighborsClassifier()</pre><b>In a Jupyter environment, please rerun this cell to show the HTML representation or trust the notebook. <br />On GitHub, the HTML representation is unable to render, please try loading this page with nbviewer.org.</b></div><div class=\"sk-container\" hidden><div class=\"sk-item\"><div class=\"sk-estimator sk-toggleable\"><input class=\"sk-toggleable__control sk-hidden--visually\" id=\"sk-estimator-id-2\" type=\"checkbox\" checked><label for=\"sk-estimator-id-2\" class=\"sk-toggleable__label sk-toggleable__label-arrow\">KNeighborsClassifier</label><div class=\"sk-toggleable__content\"><pre>KNeighborsClassifier()</pre></div></div></div></div></div>"
      ],
      "text/plain": [
       "KNeighborsClassifier()"
      ]
     },
     "execution_count": 28,
     "metadata": {},
     "output_type": "execute_result"
    }
   ],
   "source": [
    "cls=KNeighborsClassifier()\n",
    "cls.fit(x_train_trf,y_train)"
   ]
  },
  {
   "cell_type": "code",
   "execution_count": 29,
   "metadata": {
    "execution": {
     "iopub.execute_input": "2024-05-08T19:13:39.869500Z",
     "iopub.status.busy": "2024-05-08T19:13:39.869014Z",
     "iopub.status.idle": "2024-05-08T19:13:48.239292Z",
     "shell.execute_reply": "2024-05-08T19:13:48.238206Z",
     "shell.execute_reply.started": "2024-05-08T19:13:39.869469Z"
    }
   },
   "outputs": [],
   "source": [
    "pre=cls.predict(x_test_trf)"
   ]
  },
  {
   "cell_type": "code",
   "execution_count": 30,
   "metadata": {
    "execution": {
     "iopub.execute_input": "2024-05-08T19:13:48.241946Z",
     "iopub.status.busy": "2024-05-08T19:13:48.241531Z",
     "iopub.status.idle": "2024-05-08T19:13:48.252028Z",
     "shell.execute_reply": "2024-05-08T19:13:48.250643Z",
     "shell.execute_reply.started": "2024-05-08T19:13:48.241910Z"
    }
   },
   "outputs": [
    {
     "data": {
      "text/plain": [
       "0.9391666666666667"
      ]
     },
     "execution_count": 30,
     "metadata": {},
     "output_type": "execute_result"
    }
   ],
   "source": [
    "accuracy_score(y_test,pre)"
   ]
  },
  {
   "cell_type": "markdown",
   "metadata": {},
   "source": [
    "# Now find the best components"
   ]
  },
  {
   "cell_type": "code",
   "execution_count": 31,
   "metadata": {
    "execution": {
     "iopub.execute_input": "2024-05-08T19:13:48.254159Z",
     "iopub.status.busy": "2024-05-08T19:13:48.253623Z",
     "iopub.status.idle": "2024-05-08T19:51:23.970480Z",
     "shell.execute_reply": "2024-05-08T19:51:23.968679Z",
     "shell.execute_reply.started": "2024-05-08T19:13:48.254112Z"
    }
   },
   "outputs": [
    {
     "name": "stdout",
     "output_type": "stream",
     "text": [
      "1  ->  0.25785714285714284\n",
      "2  ->  0.32321428571428573\n",
      "3  ->  0.5105952380952381\n",
      "4  ->  0.6663095238095238\n",
      "5  ->  0.7377380952380952\n",
      "6  ->  0.8226190476190476\n",
      "7  ->  0.8438095238095238\n",
      "8  ->  0.8722619047619048\n",
      "9  ->  0.8863095238095238\n",
      "10  ->  0.9055952380952381\n",
      "11  ->  0.9120238095238096\n",
      "12  ->  0.9180952380952381\n",
      "13  ->  0.9267857142857143\n",
      "14  ->  0.935\n",
      "15  ->  0.9389285714285714\n",
      "16  ->  0.9366666666666666\n",
      "17  ->  0.94\n",
      "18  ->  0.9414285714285714\n",
      "19  ->  0.9427380952380953\n",
      "20  ->  0.9444047619047619\n",
      "21  ->  0.9444047619047619\n",
      "22  ->  0.9435714285714286\n",
      "23  ->  0.9446428571428571\n",
      "24  ->  0.9453571428571429\n",
      "25  ->  0.9472619047619047\n",
      "26  ->  0.9482142857142857\n",
      "27  ->  0.9475\n",
      "28  ->  0.9466666666666667\n",
      "29  ->  0.9496428571428571\n",
      "30  ->  0.9496428571428571\n",
      "31  ->  0.9510714285714286\n",
      "32  ->  0.9523809523809523\n",
      "33  ->  0.9501190476190476\n",
      "34  ->  0.9507142857142857\n",
      "35  ->  0.9503571428571429\n",
      "36  ->  0.9525\n",
      "37  ->  0.9508333333333333\n",
      "38  ->  0.9530952380952381\n",
      "39  ->  0.9532142857142857\n",
      "40  ->  0.9534523809523809\n",
      "41  ->  0.9521428571428572\n",
      "42  ->  0.9523809523809523\n",
      "43  ->  0.9528571428571428\n",
      "44  ->  0.9534523809523809\n",
      "45  ->  0.9532142857142857\n",
      "46  ->  0.9529761904761904\n",
      "47  ->  0.9541666666666667\n",
      "48  ->  0.9536904761904762\n",
      "49  ->  0.9528571428571428\n",
      "50  ->  0.9538095238095238\n",
      "51  ->  0.9534523809523809\n",
      "52  ->  0.9533333333333334\n",
      "53  ->  0.9541666666666667\n",
      "54  ->  0.9548809523809524\n",
      "55  ->  0.9542857142857143\n",
      "56  ->  0.9541666666666667\n",
      "57  ->  0.9542857142857143\n",
      "58  ->  0.9536904761904762\n",
      "59  ->  0.9532142857142857\n",
      "60  ->  0.9535714285714286\n",
      "61  ->  0.9542857142857143\n",
      "62  ->  0.9532142857142857\n",
      "63  ->  0.9544047619047619\n",
      "64  ->  0.9542857142857143\n",
      "65  ->  0.9541666666666667\n",
      "66  ->  0.9553571428571429\n",
      "67  ->  0.9538095238095238\n",
      "68  ->  0.9554761904761905\n",
      "69  ->  0.9545238095238096\n",
      "70  ->  0.9544047619047619\n",
      "71  ->  0.9553571428571429\n",
      "72  ->  0.9554761904761905\n",
      "73  ->  0.9546428571428571\n",
      "74  ->  0.9539285714285715\n",
      "75  ->  0.9548809523809524\n",
      "76  ->  0.9545238095238096\n",
      "77  ->  0.9558333333333333\n",
      "78  ->  0.9554761904761905\n",
      "79  ->  0.9539285714285715\n",
      "80  ->  0.9542857142857143\n",
      "81  ->  0.954047619047619\n",
      "82  ->  0.9534523809523809\n",
      "83  ->  0.9532142857142857\n",
      "84  ->  0.9546428571428571\n",
      "85  ->  0.9542857142857143\n",
      "86  ->  0.9544047619047619\n",
      "87  ->  0.954047619047619\n",
      "88  ->  0.9547619047619048\n",
      "89  ->  0.9547619047619048\n",
      "90  ->  0.9553571428571429\n",
      "91  ->  0.9541666666666667\n",
      "92  ->  0.9551190476190476\n",
      "93  ->  0.955\n",
      "94  ->  0.9542857142857143\n",
      "95  ->  0.9547619047619048\n",
      "96  ->  0.9546428571428571\n",
      "97  ->  0.9539285714285715\n",
      "98  ->  0.9548809523809524\n",
      "99  ->  0.954047619047619\n",
      "100  ->  0.9538095238095238\n",
      "101  ->  0.9532142857142857\n",
      "102  ->  0.9533333333333334\n",
      "103  ->  0.9534523809523809\n",
      "104  ->  0.9535714285714286\n",
      "105  ->  0.9535714285714286\n",
      "106  ->  0.9539285714285715\n",
      "107  ->  0.9532142857142857\n",
      "108  ->  0.9536904761904762\n",
      "109  ->  0.9522619047619048\n",
      "110  ->  0.9538095238095238\n",
      "111  ->  0.9533333333333334\n",
      "112  ->  0.9525\n",
      "113  ->  0.9533333333333334\n",
      "114  ->  0.9527380952380953\n",
      "115  ->  0.9533333333333334\n",
      "116  ->  0.9521428571428572\n",
      "117  ->  0.9527380952380953\n",
      "118  ->  0.9530952380952381\n",
      "119  ->  0.9529761904761904\n",
      "120  ->  0.9526190476190476\n",
      "121  ->  0.9536904761904762\n",
      "122  ->  0.9538095238095238\n",
      "123  ->  0.9521428571428572\n",
      "124  ->  0.9528571428571428\n",
      "125  ->  0.9522619047619048\n",
      "126  ->  0.9529761904761904\n",
      "127  ->  0.9525\n",
      "128  ->  0.9516666666666667\n",
      "129  ->  0.9520238095238095\n",
      "130  ->  0.9533333333333334\n",
      "131  ->  0.9523809523809523\n",
      "132  ->  0.9523809523809523\n",
      "133  ->  0.9528571428571428\n",
      "134  ->  0.9533333333333334\n",
      "135  ->  0.9533333333333334\n",
      "136  ->  0.9517857142857142\n",
      "137  ->  0.9529761904761904\n",
      "138  ->  0.9513095238095238\n",
      "139  ->  0.9525\n",
      "140  ->  0.9517857142857142\n",
      "141  ->  0.9532142857142857\n",
      "142  ->  0.9525\n",
      "143  ->  0.9522619047619048\n",
      "144  ->  0.9521428571428572\n",
      "145  ->  0.9520238095238095\n",
      "146  ->  0.9527380952380953\n",
      "147  ->  0.9523809523809523\n",
      "148  ->  0.9525\n",
      "149  ->  0.9525\n",
      "150  ->  0.9517857142857142\n",
      "151  ->  0.9522619047619048\n",
      "152  ->  0.9515476190476191\n",
      "153  ->  0.9521428571428572\n",
      "154  ->  0.950952380952381\n",
      "155  ->  0.9525\n",
      "156  ->  0.9523809523809523\n",
      "157  ->  0.9514285714285714\n",
      "158  ->  0.9519047619047619\n",
      "159  ->  0.9511904761904761\n",
      "160  ->  0.950952380952381\n",
      "161  ->  0.9522619047619048\n",
      "162  ->  0.9519047619047619\n",
      "163  ->  0.9511904761904761\n",
      "164  ->  0.9511904761904761\n",
      "165  ->  0.9521428571428572\n",
      "166  ->  0.9515476190476191\n",
      "167  ->  0.9515476190476191\n",
      "168  ->  0.950952380952381\n",
      "169  ->  0.9510714285714286\n",
      "170  ->  0.9516666666666667\n",
      "171  ->  0.9504761904761905\n",
      "172  ->  0.950952380952381\n",
      "173  ->  0.9510714285714286\n",
      "174  ->  0.9513095238095238\n",
      "175  ->  0.9511904761904761\n",
      "176  ->  0.9508333333333333\n",
      "177  ->  0.9514285714285714\n",
      "178  ->  0.9514285714285714\n",
      "179  ->  0.9515476190476191\n",
      "180  ->  0.950952380952381\n",
      "181  ->  0.9521428571428572\n",
      "182  ->  0.9514285714285714\n",
      "183  ->  0.9510714285714286\n",
      "184  ->  0.9507142857142857\n",
      "185  ->  0.95\n",
      "186  ->  0.9508333333333333\n",
      "187  ->  0.9511904761904761\n",
      "188  ->  0.9503571428571429\n",
      "189  ->  0.9502380952380952\n",
      "190  ->  0.950595238095238\n",
      "191  ->  0.9504761904761905\n",
      "192  ->  0.9503571428571429\n",
      "193  ->  0.9508333333333333\n",
      "194  ->  0.9508333333333333\n",
      "195  ->  0.9507142857142857\n",
      "196  ->  0.950595238095238\n",
      "197  ->  0.950595238095238\n",
      "198  ->  0.950595238095238\n",
      "199  ->  0.9515476190476191\n",
      "200  ->  0.95\n",
      "201  ->  0.950595238095238\n",
      "202  ->  0.9501190476190476\n",
      "203  ->  0.9496428571428571\n",
      "204  ->  0.9502380952380952\n",
      "205  ->  0.950952380952381\n",
      "206  ->  0.9502380952380952\n",
      "207  ->  0.950952380952381\n",
      "208  ->  0.9501190476190476\n",
      "209  ->  0.9497619047619048\n",
      "210  ->  0.9498809523809524\n",
      "211  ->  0.9498809523809524\n",
      "212  ->  0.9497619047619048\n",
      "213  ->  0.9504761904761905\n",
      "214  ->  0.9497619047619048\n",
      "215  ->  0.9495238095238095\n",
      "216  ->  0.9502380952380952\n",
      "217  ->  0.9496428571428571\n",
      "218  ->  0.9497619047619048\n",
      "219  ->  0.949047619047619\n",
      "220  ->  0.9495238095238095\n",
      "221  ->  0.95\n",
      "222  ->  0.9504761904761905\n",
      "223  ->  0.9496428571428571\n",
      "224  ->  0.9495238095238095\n",
      "225  ->  0.9498809523809524\n",
      "226  ->  0.9488095238095238\n",
      "227  ->  0.9494047619047619\n",
      "228  ->  0.9488095238095238\n",
      "229  ->  0.9486904761904762\n",
      "230  ->  0.9479761904761905\n",
      "231  ->  0.9492857142857143\n",
      "232  ->  0.9480952380952381\n",
      "233  ->  0.9486904761904762\n",
      "234  ->  0.9492857142857143\n",
      "235  ->  0.9485714285714286\n",
      "236  ->  0.9477380952380953\n",
      "237  ->  0.9488095238095238\n",
      "238  ->  0.9473809523809524\n",
      "239  ->  0.9486904761904762\n",
      "240  ->  0.9486904761904762\n",
      "241  ->  0.9485714285714286\n",
      "242  ->  0.9479761904761905\n",
      "243  ->  0.9476190476190476\n",
      "244  ->  0.9486904761904762\n",
      "245  ->  0.9483333333333334\n",
      "246  ->  0.9483333333333334\n",
      "247  ->  0.9485714285714286\n",
      "248  ->  0.9482142857142857\n",
      "249  ->  0.9470238095238095\n",
      "250  ->  0.9476190476190476\n",
      "251  ->  0.9480952380952381\n",
      "252  ->  0.9476190476190476\n",
      "253  ->  0.9483333333333334\n",
      "254  ->  0.9478571428571428\n",
      "255  ->  0.9475\n",
      "256  ->  0.9480952380952381\n",
      "257  ->  0.9475\n",
      "258  ->  0.9467857142857142\n",
      "259  ->  0.9467857142857142\n",
      "260  ->  0.9472619047619047\n",
      "261  ->  0.9471428571428572\n",
      "262  ->  0.9472619047619047\n",
      "263  ->  0.9475\n",
      "264  ->  0.9476190476190476\n",
      "265  ->  0.9476190476190476\n",
      "266  ->  0.9466666666666667\n",
      "267  ->  0.9466666666666667\n",
      "268  ->  0.9471428571428572\n",
      "269  ->  0.9476190476190476\n",
      "270  ->  0.9478571428571428\n",
      "271  ->  0.9475\n",
      "272  ->  0.9473809523809524\n",
      "273  ->  0.9461904761904761\n",
      "274  ->  0.9473809523809524\n",
      "275  ->  0.9470238095238095\n",
      "276  ->  0.9473809523809524\n",
      "277  ->  0.9471428571428572\n",
      "278  ->  0.9465476190476191\n",
      "279  ->  0.9473809523809524\n",
      "280  ->  0.9471428571428572\n",
      "281  ->  0.9469047619047619\n",
      "282  ->  0.9472619047619047\n",
      "283  ->  0.9471428571428572\n",
      "284  ->  0.9479761904761905\n",
      "285  ->  0.9470238095238095\n",
      "286  ->  0.9471428571428572\n",
      "287  ->  0.9470238095238095\n",
      "288  ->  0.9478571428571428\n",
      "289  ->  0.9469047619047619\n",
      "290  ->  0.9469047619047619\n",
      "291  ->  0.9466666666666667\n",
      "292  ->  0.9471428571428572\n",
      "293  ->  0.9464285714285714\n",
      "294  ->  0.9466666666666667\n",
      "295  ->  0.9469047619047619\n",
      "296  ->  0.9466666666666667\n",
      "297  ->  0.9467857142857142\n",
      "298  ->  0.9469047619047619\n",
      "299  ->  0.9472619047619047\n",
      "300  ->  0.9469047619047619\n",
      "301  ->  0.9467857142857142\n",
      "302  ->  0.9464285714285714\n",
      "303  ->  0.9469047619047619\n"
     ]
    },
    {
     "ename": "KeyboardInterrupt",
     "evalue": "",
     "output_type": "error",
     "traceback": [
      "\u001b[0;31m---------------------------------------------------------------------------\u001b[0m",
      "\u001b[0;31mKeyboardInterrupt\u001b[0m                         Traceback (most recent call last)",
      "Cell \u001b[0;32mIn[31], line 4\u001b[0m\n\u001b[1;32m      2\u001b[0m \u001b[38;5;28;01mfor\u001b[39;00m i \u001b[38;5;129;01min\u001b[39;00m \u001b[38;5;28mrange\u001b[39m(\u001b[38;5;241m1\u001b[39m,\u001b[38;5;241m785\u001b[39m):\n\u001b[1;32m      3\u001b[0m     pca\u001b[38;5;241m=\u001b[39mPCA(n_components\u001b[38;5;241m=\u001b[39mi)\n\u001b[0;32m----> 4\u001b[0m     x_train_trf\u001b[38;5;241m=\u001b[39m\u001b[43mpca\u001b[49m\u001b[38;5;241;43m.\u001b[39;49m\u001b[43mfit_transform\u001b[49m\u001b[43m(\u001b[49m\u001b[43mx_train_scale\u001b[49m\u001b[43m)\u001b[49m\n\u001b[1;32m      5\u001b[0m     x_test_trf\u001b[38;5;241m=\u001b[39mpca\u001b[38;5;241m.\u001b[39mtransform(x_test_scale)\n\u001b[1;32m      7\u001b[0m     \u001b[38;5;28mcls\u001b[39m\u001b[38;5;241m=\u001b[39mKNeighborsClassifier()\n",
      "File \u001b[0;32m/opt/conda/lib/python3.10/site-packages/sklearn/utils/_set_output.py:140\u001b[0m, in \u001b[0;36m_wrap_method_output.<locals>.wrapped\u001b[0;34m(self, X, *args, **kwargs)\u001b[0m\n\u001b[1;32m    138\u001b[0m \u001b[38;5;129m@wraps\u001b[39m(f)\n\u001b[1;32m    139\u001b[0m \u001b[38;5;28;01mdef\u001b[39;00m \u001b[38;5;21mwrapped\u001b[39m(\u001b[38;5;28mself\u001b[39m, X, \u001b[38;5;241m*\u001b[39margs, \u001b[38;5;241m*\u001b[39m\u001b[38;5;241m*\u001b[39mkwargs):\n\u001b[0;32m--> 140\u001b[0m     data_to_wrap \u001b[38;5;241m=\u001b[39m \u001b[43mf\u001b[49m\u001b[43m(\u001b[49m\u001b[38;5;28;43mself\u001b[39;49m\u001b[43m,\u001b[49m\u001b[43m \u001b[49m\u001b[43mX\u001b[49m\u001b[43m,\u001b[49m\u001b[43m \u001b[49m\u001b[38;5;241;43m*\u001b[39;49m\u001b[43margs\u001b[49m\u001b[43m,\u001b[49m\u001b[43m \u001b[49m\u001b[38;5;241;43m*\u001b[39;49m\u001b[38;5;241;43m*\u001b[39;49m\u001b[43mkwargs\u001b[49m\u001b[43m)\u001b[49m\n\u001b[1;32m    141\u001b[0m     \u001b[38;5;28;01mif\u001b[39;00m \u001b[38;5;28misinstance\u001b[39m(data_to_wrap, \u001b[38;5;28mtuple\u001b[39m):\n\u001b[1;32m    142\u001b[0m         \u001b[38;5;66;03m# only wrap the first output for cross decomposition\u001b[39;00m\n\u001b[1;32m    143\u001b[0m         \u001b[38;5;28;01mreturn\u001b[39;00m (\n\u001b[1;32m    144\u001b[0m             _wrap_data_with_container(method, data_to_wrap[\u001b[38;5;241m0\u001b[39m], X, \u001b[38;5;28mself\u001b[39m),\n\u001b[1;32m    145\u001b[0m             \u001b[38;5;241m*\u001b[39mdata_to_wrap[\u001b[38;5;241m1\u001b[39m:],\n\u001b[1;32m    146\u001b[0m         )\n",
      "File \u001b[0;32m/opt/conda/lib/python3.10/site-packages/sklearn/decomposition/_pca.py:462\u001b[0m, in \u001b[0;36mPCA.fit_transform\u001b[0;34m(self, X, y)\u001b[0m\n\u001b[1;32m    439\u001b[0m \u001b[38;5;250m\u001b[39m\u001b[38;5;124;03m\"\"\"Fit the model with X and apply the dimensionality reduction on X.\u001b[39;00m\n\u001b[1;32m    440\u001b[0m \n\u001b[1;32m    441\u001b[0m \u001b[38;5;124;03mParameters\u001b[39;00m\n\u001b[0;32m   (...)\u001b[0m\n\u001b[1;32m    458\u001b[0m \u001b[38;5;124;03mC-ordered array, use 'np.ascontiguousarray'.\u001b[39;00m\n\u001b[1;32m    459\u001b[0m \u001b[38;5;124;03m\"\"\"\u001b[39;00m\n\u001b[1;32m    460\u001b[0m \u001b[38;5;28mself\u001b[39m\u001b[38;5;241m.\u001b[39m_validate_params()\n\u001b[0;32m--> 462\u001b[0m U, S, Vt \u001b[38;5;241m=\u001b[39m \u001b[38;5;28;43mself\u001b[39;49m\u001b[38;5;241;43m.\u001b[39;49m\u001b[43m_fit\u001b[49m\u001b[43m(\u001b[49m\u001b[43mX\u001b[49m\u001b[43m)\u001b[49m\n\u001b[1;32m    463\u001b[0m U \u001b[38;5;241m=\u001b[39m U[:, : \u001b[38;5;28mself\u001b[39m\u001b[38;5;241m.\u001b[39mn_components_]\n\u001b[1;32m    465\u001b[0m \u001b[38;5;28;01mif\u001b[39;00m \u001b[38;5;28mself\u001b[39m\u001b[38;5;241m.\u001b[39mwhiten:\n\u001b[1;32m    466\u001b[0m     \u001b[38;5;66;03m# X_new = X * V / S * sqrt(n_samples) = U * sqrt(n_samples)\u001b[39;00m\n",
      "File \u001b[0;32m/opt/conda/lib/python3.10/site-packages/sklearn/decomposition/_pca.py:514\u001b[0m, in \u001b[0;36mPCA._fit\u001b[0;34m(self, X)\u001b[0m\n\u001b[1;32m    512\u001b[0m     \u001b[38;5;28;01mreturn\u001b[39;00m \u001b[38;5;28mself\u001b[39m\u001b[38;5;241m.\u001b[39m_fit_full(X, n_components)\n\u001b[1;32m    513\u001b[0m \u001b[38;5;28;01melif\u001b[39;00m \u001b[38;5;28mself\u001b[39m\u001b[38;5;241m.\u001b[39m_fit_svd_solver \u001b[38;5;129;01min\u001b[39;00m [\u001b[38;5;124m\"\u001b[39m\u001b[38;5;124marpack\u001b[39m\u001b[38;5;124m\"\u001b[39m, \u001b[38;5;124m\"\u001b[39m\u001b[38;5;124mrandomized\u001b[39m\u001b[38;5;124m\"\u001b[39m]:\n\u001b[0;32m--> 514\u001b[0m     \u001b[38;5;28;01mreturn\u001b[39;00m \u001b[38;5;28;43mself\u001b[39;49m\u001b[38;5;241;43m.\u001b[39;49m\u001b[43m_fit_truncated\u001b[49m\u001b[43m(\u001b[49m\u001b[43mX\u001b[49m\u001b[43m,\u001b[49m\u001b[43m \u001b[49m\u001b[43mn_components\u001b[49m\u001b[43m,\u001b[49m\u001b[43m \u001b[49m\u001b[38;5;28;43mself\u001b[39;49m\u001b[38;5;241;43m.\u001b[39;49m\u001b[43m_fit_svd_solver\u001b[49m\u001b[43m)\u001b[49m\n",
      "File \u001b[0;32m/opt/conda/lib/python3.10/site-packages/sklearn/decomposition/_pca.py:618\u001b[0m, in \u001b[0;36mPCA._fit_truncated\u001b[0;34m(self, X, n_components, svd_solver)\u001b[0m\n\u001b[1;32m    614\u001b[0m     U, Vt \u001b[38;5;241m=\u001b[39m svd_flip(U[:, ::\u001b[38;5;241m-\u001b[39m\u001b[38;5;241m1\u001b[39m], Vt[::\u001b[38;5;241m-\u001b[39m\u001b[38;5;241m1\u001b[39m])\n\u001b[1;32m    616\u001b[0m \u001b[38;5;28;01melif\u001b[39;00m svd_solver \u001b[38;5;241m==\u001b[39m \u001b[38;5;124m\"\u001b[39m\u001b[38;5;124mrandomized\u001b[39m\u001b[38;5;124m\"\u001b[39m:\n\u001b[1;32m    617\u001b[0m     \u001b[38;5;66;03m# sign flipping is done inside\u001b[39;00m\n\u001b[0;32m--> 618\u001b[0m     U, S, Vt \u001b[38;5;241m=\u001b[39m \u001b[43mrandomized_svd\u001b[49m\u001b[43m(\u001b[49m\n\u001b[1;32m    619\u001b[0m \u001b[43m        \u001b[49m\u001b[43mX\u001b[49m\u001b[43m,\u001b[49m\n\u001b[1;32m    620\u001b[0m \u001b[43m        \u001b[49m\u001b[43mn_components\u001b[49m\u001b[38;5;241;43m=\u001b[39;49m\u001b[43mn_components\u001b[49m\u001b[43m,\u001b[49m\n\u001b[1;32m    621\u001b[0m \u001b[43m        \u001b[49m\u001b[43mn_oversamples\u001b[49m\u001b[38;5;241;43m=\u001b[39;49m\u001b[38;5;28;43mself\u001b[39;49m\u001b[38;5;241;43m.\u001b[39;49m\u001b[43mn_oversamples\u001b[49m\u001b[43m,\u001b[49m\n\u001b[1;32m    622\u001b[0m \u001b[43m        \u001b[49m\u001b[43mn_iter\u001b[49m\u001b[38;5;241;43m=\u001b[39;49m\u001b[38;5;28;43mself\u001b[39;49m\u001b[38;5;241;43m.\u001b[39;49m\u001b[43miterated_power\u001b[49m\u001b[43m,\u001b[49m\n\u001b[1;32m    623\u001b[0m \u001b[43m        \u001b[49m\u001b[43mpower_iteration_normalizer\u001b[49m\u001b[38;5;241;43m=\u001b[39;49m\u001b[38;5;28;43mself\u001b[39;49m\u001b[38;5;241;43m.\u001b[39;49m\u001b[43mpower_iteration_normalizer\u001b[49m\u001b[43m,\u001b[49m\n\u001b[1;32m    624\u001b[0m \u001b[43m        \u001b[49m\u001b[43mflip_sign\u001b[49m\u001b[38;5;241;43m=\u001b[39;49m\u001b[38;5;28;43;01mTrue\u001b[39;49;00m\u001b[43m,\u001b[49m\n\u001b[1;32m    625\u001b[0m \u001b[43m        \u001b[49m\u001b[43mrandom_state\u001b[49m\u001b[38;5;241;43m=\u001b[39;49m\u001b[43mrandom_state\u001b[49m\u001b[43m,\u001b[49m\n\u001b[1;32m    626\u001b[0m \u001b[43m    \u001b[49m\u001b[43m)\u001b[49m\n\u001b[1;32m    628\u001b[0m \u001b[38;5;28mself\u001b[39m\u001b[38;5;241m.\u001b[39mn_samples_ \u001b[38;5;241m=\u001b[39m n_samples\n\u001b[1;32m    629\u001b[0m \u001b[38;5;28mself\u001b[39m\u001b[38;5;241m.\u001b[39mcomponents_ \u001b[38;5;241m=\u001b[39m Vt\n",
      "File \u001b[0;32m/opt/conda/lib/python3.10/site-packages/sklearn/utils/extmath.py:446\u001b[0m, in \u001b[0;36mrandomized_svd\u001b[0;34m(M, n_components, n_oversamples, n_iter, power_iteration_normalizer, transpose, flip_sign, random_state, svd_lapack_driver)\u001b[0m\n\u001b[1;32m    442\u001b[0m \u001b[38;5;28;01mif\u001b[39;00m transpose:\n\u001b[1;32m    443\u001b[0m     \u001b[38;5;66;03m# this implementation is a bit faster with smaller shape[1]\u001b[39;00m\n\u001b[1;32m    444\u001b[0m     M \u001b[38;5;241m=\u001b[39m M\u001b[38;5;241m.\u001b[39mT\n\u001b[0;32m--> 446\u001b[0m Q \u001b[38;5;241m=\u001b[39m \u001b[43mrandomized_range_finder\u001b[49m\u001b[43m(\u001b[49m\n\u001b[1;32m    447\u001b[0m \u001b[43m    \u001b[49m\u001b[43mM\u001b[49m\u001b[43m,\u001b[49m\n\u001b[1;32m    448\u001b[0m \u001b[43m    \u001b[49m\u001b[43msize\u001b[49m\u001b[38;5;241;43m=\u001b[39;49m\u001b[43mn_random\u001b[49m\u001b[43m,\u001b[49m\n\u001b[1;32m    449\u001b[0m \u001b[43m    \u001b[49m\u001b[43mn_iter\u001b[49m\u001b[38;5;241;43m=\u001b[39;49m\u001b[43mn_iter\u001b[49m\u001b[43m,\u001b[49m\n\u001b[1;32m    450\u001b[0m \u001b[43m    \u001b[49m\u001b[43mpower_iteration_normalizer\u001b[49m\u001b[38;5;241;43m=\u001b[39;49m\u001b[43mpower_iteration_normalizer\u001b[49m\u001b[43m,\u001b[49m\n\u001b[1;32m    451\u001b[0m \u001b[43m    \u001b[49m\u001b[43mrandom_state\u001b[49m\u001b[38;5;241;43m=\u001b[39;49m\u001b[43mrandom_state\u001b[49m\u001b[43m,\u001b[49m\n\u001b[1;32m    452\u001b[0m \u001b[43m\u001b[49m\u001b[43m)\u001b[49m\n\u001b[1;32m    454\u001b[0m \u001b[38;5;66;03m# project M to the (k + p) dimensional space using the basis vectors\u001b[39;00m\n\u001b[1;32m    455\u001b[0m B \u001b[38;5;241m=\u001b[39m safe_sparse_dot(Q\u001b[38;5;241m.\u001b[39mT, M)\n",
      "File \u001b[0;32m/opt/conda/lib/python3.10/site-packages/sklearn/utils/extmath.py:274\u001b[0m, in \u001b[0;36mrandomized_range_finder\u001b[0;34m(A, size, n_iter, power_iteration_normalizer, random_state)\u001b[0m\n\u001b[1;32m    272\u001b[0m     Q \u001b[38;5;241m=\u001b[39m safe_sparse_dot(A\u001b[38;5;241m.\u001b[39mT, Q)\n\u001b[1;32m    273\u001b[0m \u001b[38;5;28;01melif\u001b[39;00m power_iteration_normalizer \u001b[38;5;241m==\u001b[39m \u001b[38;5;124m\"\u001b[39m\u001b[38;5;124mLU\u001b[39m\u001b[38;5;124m\"\u001b[39m:\n\u001b[0;32m--> 274\u001b[0m     Q, _ \u001b[38;5;241m=\u001b[39m \u001b[43mlinalg\u001b[49m\u001b[38;5;241;43m.\u001b[39;49m\u001b[43mlu\u001b[49m\u001b[43m(\u001b[49m\u001b[43msafe_sparse_dot\u001b[49m\u001b[43m(\u001b[49m\u001b[43mA\u001b[49m\u001b[43m,\u001b[49m\u001b[43m \u001b[49m\u001b[43mQ\u001b[49m\u001b[43m)\u001b[49m\u001b[43m,\u001b[49m\u001b[43m \u001b[49m\u001b[43mpermute_l\u001b[49m\u001b[38;5;241;43m=\u001b[39;49m\u001b[38;5;28;43;01mTrue\u001b[39;49;00m\u001b[43m)\u001b[49m\n\u001b[1;32m    275\u001b[0m     Q, _ \u001b[38;5;241m=\u001b[39m linalg\u001b[38;5;241m.\u001b[39mlu(safe_sparse_dot(A\u001b[38;5;241m.\u001b[39mT, Q), permute_l\u001b[38;5;241m=\u001b[39m\u001b[38;5;28;01mTrue\u001b[39;00m)\n\u001b[1;32m    276\u001b[0m \u001b[38;5;28;01melif\u001b[39;00m power_iteration_normalizer \u001b[38;5;241m==\u001b[39m \u001b[38;5;124m\"\u001b[39m\u001b[38;5;124mQR\u001b[39m\u001b[38;5;124m\"\u001b[39m:\n",
      "File \u001b[0;32m/opt/conda/lib/python3.10/site-packages/scipy/linalg/_decomp_lu.py:313\u001b[0m, in \u001b[0;36mlu\u001b[0;34m(a, permute_l, overwrite_a, check_finite, p_indices)\u001b[0m\n\u001b[1;32m    311\u001b[0m     p \u001b[38;5;241m=\u001b[39m np\u001b[38;5;241m.\u001b[39mempty(m, dtype\u001b[38;5;241m=\u001b[39mnp\u001b[38;5;241m.\u001b[39mint32)\n\u001b[1;32m    312\u001b[0m     u \u001b[38;5;241m=\u001b[39m np\u001b[38;5;241m.\u001b[39mzeros([k, k], dtype\u001b[38;5;241m=\u001b[39ma1\u001b[38;5;241m.\u001b[39mdtype)\n\u001b[0;32m--> 313\u001b[0m     \u001b[43mlu_dispatcher\u001b[49m\u001b[43m(\u001b[49m\u001b[43ma1\u001b[49m\u001b[43m,\u001b[49m\u001b[43m \u001b[49m\u001b[43mu\u001b[49m\u001b[43m,\u001b[49m\u001b[43m \u001b[49m\u001b[43mp\u001b[49m\u001b[43m,\u001b[49m\u001b[43m \u001b[49m\u001b[43mpermute_l\u001b[49m\u001b[43m)\u001b[49m\n\u001b[1;32m    314\u001b[0m     P, L, U \u001b[38;5;241m=\u001b[39m (p, a1, u) \u001b[38;5;28;01mif\u001b[39;00m m \u001b[38;5;241m>\u001b[39m n \u001b[38;5;28;01melse\u001b[39;00m (p, u, a1)\n\u001b[1;32m    316\u001b[0m \u001b[38;5;28;01melse\u001b[39;00m:  \u001b[38;5;66;03m# Stacked array\u001b[39;00m\n\u001b[1;32m    317\u001b[0m \n\u001b[1;32m    318\u001b[0m     \u001b[38;5;66;03m# Prepare the contiguous data holders\u001b[39;00m\n",
      "\u001b[0;31mKeyboardInterrupt\u001b[0m: "
     ]
    }
   ],
   "source": [
    "score_point=[]\n",
    "for i in range(1,785):\n",
    "    pca=PCA(n_components=i)\n",
    "    x_train_trf=pca.fit_transform(x_train_scale)\n",
    "    x_test_trf=pca.transform(x_test_scale)\n",
    "    \n",
    "    cls=KNeighborsClassifier()\n",
    "    cls.fit(x_train_trf,y_train)\n",
    "    \n",
    "    pre=cls.predict(x_test_trf)\n",
    "    score=accuracy_score(y_test,pre)\n",
    "    score_point.append(score)\n",
    "    print(i,\" -> \",score)\n",
    "    if(score>=96):\n",
    "        break"
   ]
  },
  {
   "cell_type": "markdown",
   "metadata": {},
   "source": [
    "# Conclussion\n",
    "- We can get `95` accuracy at 200 component after 200 acuuracy should be go down. "
   ]
  },
  {
   "cell_type": "code",
   "execution_count": null,
   "metadata": {},
   "outputs": [],
   "source": []
  }
 ],
 "metadata": {
  "kaggle": {
   "accelerator": "none",
   "dataSources": [
    {
     "datasetId": 3147,
     "sourceId": 5196,
     "sourceType": "datasetVersion"
    }
   ],
   "dockerImageVersionId": 30698,
   "isGpuEnabled": false,
   "isInternetEnabled": true,
   "language": "python",
   "sourceType": "notebook"
  },
  "kernelspec": {
   "display_name": "Python 3 (ipykernel)",
   "language": "python",
   "name": "python3"
  },
  "language_info": {
   "codemirror_mode": {
    "name": "ipython",
    "version": 3
   },
   "file_extension": ".py",
   "mimetype": "text/x-python",
   "name": "python",
   "nbconvert_exporter": "python",
   "pygments_lexer": "ipython3",
   "version": "3.11.5"
  }
 },
 "nbformat": 4,
 "nbformat_minor": 4
}
