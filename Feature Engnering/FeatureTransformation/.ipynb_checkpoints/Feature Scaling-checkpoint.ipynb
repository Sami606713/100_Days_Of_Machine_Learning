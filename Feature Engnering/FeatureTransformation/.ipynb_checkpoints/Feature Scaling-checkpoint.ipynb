{
 "cells": [
  {
   "cell_type": "markdown",
   "id": "b2599a1b",
   "metadata": {},
   "source": [
    "# Feature Scaling\n",
    "**This is the part of feature engnering in feature scaling we can scale the feture in the range of (-1,1) b/c most of the algorithm can work better on scale feature**"
   ]
  },
  {
   "cell_type": "markdown",
   "id": "746f5128",
   "metadata": {},
   "source": [
    "# Import packages"
   ]
  },
  {
   "cell_type": "code",
   "execution_count": 1,
   "id": "dc88cd8a",
   "metadata": {},
   "outputs": [],
   "source": [
    "import pandas as pd\n",
    "import numpy as np"
   ]
  },
  {
   "cell_type": "markdown",
   "id": "e1693978",
   "metadata": {},
   "source": [
    "# Load the data set"
   ]
  },
  {
   "cell_type": "code",
   "execution_count": 42,
   "id": "a934c50a",
   "metadata": {},
   "outputs": [],
   "source": [
    "data=pd.read_csv('insurance_data.csv')"
   ]
  },
  {
   "cell_type": "code",
   "execution_count": 43,
   "id": "e792cf1f",
   "metadata": {},
   "outputs": [
    {
     "data": {
      "text/html": [
       "<div>\n",
       "<style scoped>\n",
       "    .dataframe tbody tr th:only-of-type {\n",
       "        vertical-align: middle;\n",
       "    }\n",
       "\n",
       "    .dataframe tbody tr th {\n",
       "        vertical-align: top;\n",
       "    }\n",
       "\n",
       "    .dataframe thead th {\n",
       "        text-align: right;\n",
       "    }\n",
       "</style>\n",
       "<table border=\"1\" class=\"dataframe\">\n",
       "  <thead>\n",
       "    <tr style=\"text-align: right;\">\n",
       "      <th></th>\n",
       "      <th>index</th>\n",
       "      <th>PatientID</th>\n",
       "      <th>age</th>\n",
       "      <th>gender</th>\n",
       "      <th>bmi</th>\n",
       "      <th>bloodpressure</th>\n",
       "      <th>diabetic</th>\n",
       "      <th>children</th>\n",
       "      <th>smoker</th>\n",
       "      <th>region</th>\n",
       "      <th>claim</th>\n",
       "    </tr>\n",
       "  </thead>\n",
       "  <tbody>\n",
       "    <tr>\n",
       "      <th>0</th>\n",
       "      <td>0</td>\n",
       "      <td>1</td>\n",
       "      <td>39.0</td>\n",
       "      <td>male</td>\n",
       "      <td>23.2</td>\n",
       "      <td>91</td>\n",
       "      <td>Yes</td>\n",
       "      <td>0</td>\n",
       "      <td>No</td>\n",
       "      <td>southeast</td>\n",
       "      <td>1121.87</td>\n",
       "    </tr>\n",
       "    <tr>\n",
       "      <th>1</th>\n",
       "      <td>1</td>\n",
       "      <td>2</td>\n",
       "      <td>24.0</td>\n",
       "      <td>male</td>\n",
       "      <td>30.1</td>\n",
       "      <td>87</td>\n",
       "      <td>No</td>\n",
       "      <td>0</td>\n",
       "      <td>No</td>\n",
       "      <td>southeast</td>\n",
       "      <td>1131.51</td>\n",
       "    </tr>\n",
       "  </tbody>\n",
       "</table>\n",
       "</div>"
      ],
      "text/plain": [
       "   index  PatientID   age gender   bmi  bloodpressure diabetic  children  \\\n",
       "0      0          1  39.0   male  23.2             91      Yes         0   \n",
       "1      1          2  24.0   male  30.1             87       No         0   \n",
       "\n",
       "  smoker     region    claim  \n",
       "0     No  southeast  1121.87  \n",
       "1     No  southeast  1131.51  "
      ]
     },
     "execution_count": 43,
     "metadata": {},
     "output_type": "execute_result"
    }
   ],
   "source": [
    "data.head(2)"
   ]
  },
  {
   "cell_type": "markdown",
   "id": "f5a9bce5",
   "metadata": {},
   "source": [
    "# Get only numerical columns"
   ]
  },
  {
   "cell_type": "code",
   "execution_count": 44,
   "id": "29afca04",
   "metadata": {},
   "outputs": [],
   "source": [
    "data.drop(columns=['index','PatientID','gender','region','diabetic','smoker'],inplace=True)"
   ]
  },
  {
   "cell_type": "code",
   "execution_count": 45,
   "id": "d8cba8ed",
   "metadata": {},
   "outputs": [
    {
     "data": {
      "text/html": [
       "<div>\n",
       "<style scoped>\n",
       "    .dataframe tbody tr th:only-of-type {\n",
       "        vertical-align: middle;\n",
       "    }\n",
       "\n",
       "    .dataframe tbody tr th {\n",
       "        vertical-align: top;\n",
       "    }\n",
       "\n",
       "    .dataframe thead th {\n",
       "        text-align: right;\n",
       "    }\n",
       "</style>\n",
       "<table border=\"1\" class=\"dataframe\">\n",
       "  <thead>\n",
       "    <tr style=\"text-align: right;\">\n",
       "      <th></th>\n",
       "      <th>age</th>\n",
       "      <th>bmi</th>\n",
       "      <th>bloodpressure</th>\n",
       "      <th>children</th>\n",
       "      <th>claim</th>\n",
       "    </tr>\n",
       "  </thead>\n",
       "  <tbody>\n",
       "    <tr>\n",
       "      <th>0</th>\n",
       "      <td>39.0</td>\n",
       "      <td>23.2</td>\n",
       "      <td>91</td>\n",
       "      <td>0</td>\n",
       "      <td>1121.87</td>\n",
       "    </tr>\n",
       "    <tr>\n",
       "      <th>1</th>\n",
       "      <td>24.0</td>\n",
       "      <td>30.1</td>\n",
       "      <td>87</td>\n",
       "      <td>0</td>\n",
       "      <td>1131.51</td>\n",
       "    </tr>\n",
       "  </tbody>\n",
       "</table>\n",
       "</div>"
      ],
      "text/plain": [
       "    age   bmi  bloodpressure  children    claim\n",
       "0  39.0  23.2             91         0  1121.87\n",
       "1  24.0  30.1             87         0  1131.51"
      ]
     },
     "execution_count": 45,
     "metadata": {},
     "output_type": "execute_result"
    }
   ],
   "source": [
    "data.head(2)"
   ]
  },
  {
   "cell_type": "markdown",
   "id": "789b9457",
   "metadata": {},
   "source": [
    "# Drop null values"
   ]
  },
  {
   "cell_type": "code",
   "execution_count": 56,
   "id": "44d1cc4a",
   "metadata": {},
   "outputs": [
    {
     "data": {
      "text/plain": [
       "age              5\n",
       "bmi              0\n",
       "bloodpressure    0\n",
       "children         0\n",
       "claim            0\n",
       "dtype: int64"
      ]
     },
     "execution_count": 56,
     "metadata": {},
     "output_type": "execute_result"
    }
   ],
   "source": [
    "data.isnull().sum()"
   ]
  },
  {
   "cell_type": "code",
   "execution_count": 58,
   "id": "ab814482",
   "metadata": {},
   "outputs": [],
   "source": [
    "data.dropna(inplace=True)"
   ]
  },
  {
   "cell_type": "markdown",
   "id": "b91aa081",
   "metadata": {},
   "source": [
    "# Saperate feature and target"
   ]
  },
  {
   "cell_type": "code",
   "execution_count": 59,
   "id": "ae0c58fb",
   "metadata": {},
   "outputs": [],
   "source": [
    "feature=data.drop(columns=['claim'])\n",
    "label=data['claim']"
   ]
  },
  {
   "cell_type": "markdown",
   "id": "31e661ef",
   "metadata": {},
   "source": [
    "# Now First train the model before `standization`"
   ]
  },
  {
   "cell_type": "code",
   "execution_count": 60,
   "id": "5f0ad384",
   "metadata": {},
   "outputs": [],
   "source": [
    "from sklearn.model_selection import train_test_split"
   ]
  },
  {
   "cell_type": "code",
   "execution_count": 61,
   "id": "fb6c720b",
   "metadata": {},
   "outputs": [],
   "source": [
    "x_train,x_test,y_train,y_test=train_test_split(feature,label,test_size=0.2,random_state=42)"
   ]
  },
  {
   "cell_type": "markdown",
   "id": "d03cd31d",
   "metadata": {},
   "source": [
    "# Fit the model"
   ]
  },
  {
   "cell_type": "code",
   "execution_count": 62,
   "id": "79fd0c40",
   "metadata": {},
   "outputs": [],
   "source": [
    "from sklearn.linear_model import LinearRegression"
   ]
  },
  {
   "cell_type": "code",
   "execution_count": 63,
   "id": "35eb78ba",
   "metadata": {},
   "outputs": [],
   "source": [
    "cls=LinearRegression()"
   ]
  },
  {
   "cell_type": "code",
   "execution_count": 64,
   "id": "abc8c8cc",
   "metadata": {},
   "outputs": [
    {
     "data": {
      "text/html": [
       "<style>#sk-container-id-3 {color: black;}#sk-container-id-3 pre{padding: 0;}#sk-container-id-3 div.sk-toggleable {background-color: white;}#sk-container-id-3 label.sk-toggleable__label {cursor: pointer;display: block;width: 100%;margin-bottom: 0;padding: 0.3em;box-sizing: border-box;text-align: center;}#sk-container-id-3 label.sk-toggleable__label-arrow:before {content: \"▸\";float: left;margin-right: 0.25em;color: #696969;}#sk-container-id-3 label.sk-toggleable__label-arrow:hover:before {color: black;}#sk-container-id-3 div.sk-estimator:hover label.sk-toggleable__label-arrow:before {color: black;}#sk-container-id-3 div.sk-toggleable__content {max-height: 0;max-width: 0;overflow: hidden;text-align: left;background-color: #f0f8ff;}#sk-container-id-3 div.sk-toggleable__content pre {margin: 0.2em;color: black;border-radius: 0.25em;background-color: #f0f8ff;}#sk-container-id-3 input.sk-toggleable__control:checked~div.sk-toggleable__content {max-height: 200px;max-width: 100%;overflow: auto;}#sk-container-id-3 input.sk-toggleable__control:checked~label.sk-toggleable__label-arrow:before {content: \"▾\";}#sk-container-id-3 div.sk-estimator input.sk-toggleable__control:checked~label.sk-toggleable__label {background-color: #d4ebff;}#sk-container-id-3 div.sk-label input.sk-toggleable__control:checked~label.sk-toggleable__label {background-color: #d4ebff;}#sk-container-id-3 input.sk-hidden--visually {border: 0;clip: rect(1px 1px 1px 1px);clip: rect(1px, 1px, 1px, 1px);height: 1px;margin: -1px;overflow: hidden;padding: 0;position: absolute;width: 1px;}#sk-container-id-3 div.sk-estimator {font-family: monospace;background-color: #f0f8ff;border: 1px dotted black;border-radius: 0.25em;box-sizing: border-box;margin-bottom: 0.5em;}#sk-container-id-3 div.sk-estimator:hover {background-color: #d4ebff;}#sk-container-id-3 div.sk-parallel-item::after {content: \"\";width: 100%;border-bottom: 1px solid gray;flex-grow: 1;}#sk-container-id-3 div.sk-label:hover label.sk-toggleable__label {background-color: #d4ebff;}#sk-container-id-3 div.sk-serial::before {content: \"\";position: absolute;border-left: 1px solid gray;box-sizing: border-box;top: 0;bottom: 0;left: 50%;z-index: 0;}#sk-container-id-3 div.sk-serial {display: flex;flex-direction: column;align-items: center;background-color: white;padding-right: 0.2em;padding-left: 0.2em;position: relative;}#sk-container-id-3 div.sk-item {position: relative;z-index: 1;}#sk-container-id-3 div.sk-parallel {display: flex;align-items: stretch;justify-content: center;background-color: white;position: relative;}#sk-container-id-3 div.sk-item::before, #sk-container-id-3 div.sk-parallel-item::before {content: \"\";position: absolute;border-left: 1px solid gray;box-sizing: border-box;top: 0;bottom: 0;left: 50%;z-index: -1;}#sk-container-id-3 div.sk-parallel-item {display: flex;flex-direction: column;z-index: 1;position: relative;background-color: white;}#sk-container-id-3 div.sk-parallel-item:first-child::after {align-self: flex-end;width: 50%;}#sk-container-id-3 div.sk-parallel-item:last-child::after {align-self: flex-start;width: 50%;}#sk-container-id-3 div.sk-parallel-item:only-child::after {width: 0;}#sk-container-id-3 div.sk-dashed-wrapped {border: 1px dashed gray;margin: 0 0.4em 0.5em 0.4em;box-sizing: border-box;padding-bottom: 0.4em;background-color: white;}#sk-container-id-3 div.sk-label label {font-family: monospace;font-weight: bold;display: inline-block;line-height: 1.2em;}#sk-container-id-3 div.sk-label-container {text-align: center;}#sk-container-id-3 div.sk-container {/* jupyter's `normalize.less` sets `[hidden] { display: none; }` but bootstrap.min.css set `[hidden] { display: none !important; }` so we also need the `!important` here to be able to override the default hidden behavior on the sphinx rendered scikit-learn.org. See: https://github.com/scikit-learn/scikit-learn/issues/21755 */display: inline-block !important;position: relative;}#sk-container-id-3 div.sk-text-repr-fallback {display: none;}</style><div id=\"sk-container-id-3\" class=\"sk-top-container\"><div class=\"sk-text-repr-fallback\"><pre>LinearRegression()</pre><b>In a Jupyter environment, please rerun this cell to show the HTML representation or trust the notebook. <br />On GitHub, the HTML representation is unable to render, please try loading this page with nbviewer.org.</b></div><div class=\"sk-container\" hidden><div class=\"sk-item\"><div class=\"sk-estimator sk-toggleable\"><input class=\"sk-toggleable__control sk-hidden--visually\" id=\"sk-estimator-id-3\" type=\"checkbox\" checked><label for=\"sk-estimator-id-3\" class=\"sk-toggleable__label sk-toggleable__label-arrow\">LinearRegression</label><div class=\"sk-toggleable__content\"><pre>LinearRegression()</pre></div></div></div></div></div>"
      ],
      "text/plain": [
       "LinearRegression()"
      ]
     },
     "execution_count": 64,
     "metadata": {},
     "output_type": "execute_result"
    }
   ],
   "source": [
    "cls.fit(x_train,y_train)"
   ]
  },
  {
   "cell_type": "code",
   "execution_count": 65,
   "id": "8e1dd9ba",
   "metadata": {},
   "outputs": [
    {
     "data": {
      "text/plain": [
       "array([14220.62730437, 11939.43187214, 35920.81956386,  9081.28622021,\n",
       "        9857.50977933, 12149.31860889, 10057.97493256, 16784.14312331,\n",
       "       12184.69941911, 16156.8052608 ,  7499.09519236, 13898.2020896 ,\n",
       "       10635.15973311, 14761.15199466, 16189.37763188,  7108.40557611,\n",
       "       12205.32678132,  7505.55140675, 13541.49121674, 10026.02069637,\n",
       "       17015.51779354, 12058.73844468,  9899.2495836 ,  9373.75063544,\n",
       "       22448.35052831,  8498.40359076, 21066.80768879,  9157.28613613,\n",
       "       12007.40086578, 14412.46352859, 10408.14210479,  7002.26922821,\n",
       "       11977.30148712,  8930.20038396, 10606.68615521, 20298.4752542 ,\n",
       "        5042.87236038,  9899.88474945, 20669.50558811, 15322.07732183,\n",
       "       11546.26074799, 18930.61736984, 11927.90447922, 14535.96301747,\n",
       "       12667.94560527,  7791.38529506,  8742.21797802, 15327.82857504,\n",
       "       10218.8997612 ,  4977.36363367, 10092.40768526, 22279.75212503,\n",
       "       22137.80031999, 12001.93949631,  8202.44148627, 13791.14556207,\n",
       "       19462.74705201, 16513.8637472 , 16908.02616623,  5591.34778356,\n",
       "       14651.46752457, 16883.4834988 , 10024.21992311, 13585.5818053 ,\n",
       "        6302.27165038, 17995.4076745 ,  4300.06471265, 15915.13992029,\n",
       "        9041.07666785, 17642.3609479 , 28662.76367446, 14756.34094343,\n",
       "       21976.88400683, 11004.77948471,  9081.38222193,  9811.36614574,\n",
       "       14902.93967412,  7013.16997076, 16297.35733044,  9545.15813781,\n",
       "       34325.18855577, 15443.54997208, 29596.5377997 , 10428.66494979,\n",
       "        7717.159946  , 12121.73226153, 10945.9785842 , 12352.43725112,\n",
       "       10349.30714236,  7488.29045154,  9221.14969968, 24489.02752499,\n",
       "       18007.54468682,  6041.53540597,  8055.81057223, 11950.51443117,\n",
       "        5066.09127179,  9838.97849242,  2910.83126754,  9579.91295761,\n",
       "        6801.14336269, 17110.63970625,  7659.21176124,  8383.34954293,\n",
       "       13114.47992833, 12781.55434892,  8040.58497112, 12221.02960675,\n",
       "       20847.29099406, 15190.26909246,  3195.49204449,  7353.99519018,\n",
       "       10460.20111716, 16401.81268047, 12223.50006064,  9387.26847363,\n",
       "       14945.28909779, 34937.80637224, 14356.15928837, 29701.65497485,\n",
       "        8795.73866559, 14945.61968037, 14073.87484216, 42617.4876013 ,\n",
       "       15543.38693429, 12403.68734377, 14399.9351067 , 14435.7869572 ,\n",
       "       12288.48620133,  7416.95383228, 16363.32559056, 12550.02406859,\n",
       "       13258.11947393, 15269.32186375,  5128.76302153, 16121.42379063,\n",
       "        7278.49120103,  7906.41125793, 16864.59674282,  5797.25849392,\n",
       "        8926.45959836, 17463.17535369,  7506.89031517, 17489.26530399,\n",
       "        3559.34417186, 11265.58573154, 18355.45089243,  8544.21542316,\n",
       "       16787.98908606,  9981.9920476 , 13747.99451554, 19257.87000684,\n",
       "       10392.81497787, 36489.81053518,  8733.4060139 ,  8300.21754793,\n",
       "        6971.06364342, 13972.97678975, 10491.71959362, 18926.66754983,\n",
       "       15309.2110205 , 10431.22243706, 24010.21923008, 20747.48809377,\n",
       "       14720.93392682, 10130.03354396,  4828.45239061, 10999.52481821,\n",
       "       13451.11223141, 14781.10967623, 27649.16369289, 14404.77292299,\n",
       "       13544.84181139, 13344.07207489, 16779.81162784, 13427.81368929,\n",
       "       19582.98343249, 24771.20015713,  5344.98442451,  6943.90342749,\n",
       "        7055.30184454, 10897.40940556, 10832.23126142, 13086.5806893 ,\n",
       "       17465.34077145, 20920.42838657,  7471.1867779 , 10321.62545322,\n",
       "        9398.56980117,  9025.94706847,  7545.41146701,  8694.58834141,\n",
       "       10663.44130756, 18648.83614726, 13115.71553815, 21480.6317216 ,\n",
       "       14425.21679723, 11466.38998283,  7632.85980508, 11553.98541551,\n",
       "        8337.87746855, 14874.89931744, 17646.85844751, 13162.83343565,\n",
       "       23623.91220218,  6017.60235795,  7536.13034118, 10251.38464604,\n",
       "        9510.51635069,  5395.12897099, 21981.33826908, 19948.39323678,\n",
       "       16930.37533093,  6296.57448144,  4469.53286263,  9578.24224801,\n",
       "        4523.57380479,  8133.88907962, 14863.10328174, 34903.59071657,\n",
       "       15945.25632992, 12916.40625823, 14047.08778622, 10846.64672419,\n",
       "       21570.03644301,  9033.17702784, 13237.37167637, 15397.85968785,\n",
       "       13574.42945094, 10641.78858855, 25468.04765925,  9332.65263393,\n",
       "        8325.24574807,  6102.02404705,  6124.37321175, 17386.93168148,\n",
       "       29137.08486381, 21556.30105494,  9242.33259702, 14593.46758697,\n",
       "       19166.62082194, 11038.47255436, 11898.38729495, 14876.60474892,\n",
       "       15498.80097762, 17495.76409578,  5889.70988667,  2880.01775226,\n",
       "       16018.2125659 , 12326.90394878,  2976.46154242, 18823.95103325,\n",
       "       15606.62506609,  7443.63637102,  9025.59945493,  8021.30736424,\n",
       "       12974.76354347, 20970.43435392, 11350.94574404,  7867.38455103,\n",
       "        5162.45609118,  3134.2892668 , 14358.60374296, 12757.90885321,\n",
       "       14178.80001386,  6882.68361884, 17483.14940627])"
      ]
     },
     "execution_count": 65,
     "metadata": {},
     "output_type": "execute_result"
    }
   ],
   "source": [
    "pre=cls.predict(x_test)\n",
    "pre"
   ]
  },
  {
   "cell_type": "markdown",
   "id": "f9bc4d67",
   "metadata": {},
   "source": [
    "# Accuracy"
   ]
  },
  {
   "cell_type": "code",
   "execution_count": 70,
   "id": "41e665a1",
   "metadata": {},
   "outputs": [],
   "source": [
    "from sklearn.metrics import mean_squared_error,r2_score"
   ]
  },
  {
   "cell_type": "code",
   "execution_count": 69,
   "id": "949e1096",
   "metadata": {},
   "outputs": [
    {
     "data": {
      "text/plain": [
       "117016350.88551871"
      ]
     },
     "execution_count": 69,
     "metadata": {},
     "output_type": "execute_result"
    }
   ],
   "source": [
    "score=mean_squared_error(y_test,pre)\n",
    "score"
   ]
  },
  {
   "cell_type": "code",
   "execution_count": 71,
   "id": "ab4e0ee0",
   "metadata": {},
   "outputs": [
    {
     "data": {
      "text/plain": [
       "0.24473196348397164"
      ]
     },
     "execution_count": 71,
     "metadata": {},
     "output_type": "execute_result"
    }
   ],
   "source": [
    "score=r2_score(y_test,pre)\n",
    "score"
   ]
  },
  {
   "cell_type": "markdown",
   "id": "7304480e",
   "metadata": {},
   "source": [
    "# We see that `Error` is to large and `score` is to low"
   ]
  },
  {
   "cell_type": "markdown",
   "id": "0e10f0ab",
   "metadata": {},
   "source": [
    "# Now apply `Standization`"
   ]
  },
  {
   "cell_type": "code",
   "execution_count": 72,
   "id": "27c95ba2",
   "metadata": {},
   "outputs": [],
   "source": [
    "from sklearn.preprocessing import StandardScaler"
   ]
  },
  {
   "cell_type": "code",
   "execution_count": null,
   "id": "efb5cb17",
   "metadata": {},
   "outputs": [],
   "source": []
  }
 ],
 "metadata": {
  "kernelspec": {
   "display_name": "Python 3 (ipykernel)",
   "language": "python",
   "name": "python3"
  },
  "language_info": {
   "codemirror_mode": {
    "name": "ipython",
    "version": 3
   },
   "file_extension": ".py",
   "mimetype": "text/x-python",
   "name": "python",
   "nbconvert_exporter": "python",
   "pygments_lexer": "ipython3",
   "version": "3.11.5"
  }
 },
 "nbformat": 4,
 "nbformat_minor": 5
}
