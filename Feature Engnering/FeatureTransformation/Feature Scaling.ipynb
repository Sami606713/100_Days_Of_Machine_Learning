{
 "cells": [
  {
   "cell_type": "markdown",
   "id": "b2599a1b",
   "metadata": {},
   "source": [
    "# Feature Scaling\n",
    "**This is the part of feature engnering in feature scaling we can scale the feture in the range of (-1,1) b/c most of the algorithm can work better on scale feature**"
   ]
  },
  {
   "cell_type": "code",
   "execution_count": null,
   "id": "cc17a9e7",
   "metadata": {},
   "outputs": [],
   "source": []
  }
 ],
 "metadata": {
  "kernelspec": {
   "display_name": "Python 3 (ipykernel)",
   "language": "python",
   "name": "python3"
  },
  "language_info": {
   "codemirror_mode": {
    "name": "ipython",
    "version": 3
   },
   "file_extension": ".py",
   "mimetype": "text/x-python",
   "name": "python",
   "nbconvert_exporter": "python",
   "pygments_lexer": "ipython3",
   "version": "3.11.5"
  }
 },
 "nbformat": 4,
 "nbformat_minor": 5
}
