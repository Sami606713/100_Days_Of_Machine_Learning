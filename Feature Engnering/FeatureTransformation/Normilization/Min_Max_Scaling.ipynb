{
 "cells": [
  {
   "cell_type": "markdown",
   "id": "dd97164e",
   "metadata": {},
   "source": [
    "# Normalization\n",
    "1. It is a technique that are used to  scale the value.\n",
    "# It consist of following these types\n",
    "1. **MinMaxScaling**\n",
    "2. **MeanNormilization**\n",
    "3. **MaxAbsScaling**\n",
    "4. **RoboustScaling**"
   ]
  },
  {
   "cell_type": "markdown",
   "id": "7671559d",
   "metadata": {},
   "source": [
    "1. Two Popular and most used technique are `MinMaxScaling` and `Roboust Scaling`"
   ]
  },
  {
   "cell_type": "markdown",
   "id": "6b6e5390",
   "metadata": {},
   "source": [
    "# Import Packages"
   ]
  },
  {
   "cell_type": "code",
   "execution_count": 29,
   "id": "f2b289d9",
   "metadata": {},
   "outputs": [],
   "source": [
    "import pandas as pd\n",
    "import numpy as np\n",
    "import matplotlib.pyplot as plt\n",
    "import seaborn as sns\n",
    "import warnings\n",
    "warnings.filterwarnings('ignore')"
   ]
  },
  {
   "cell_type": "markdown",
   "id": "d9a5f224",
   "metadata": {},
   "source": [
    "# Load the Dataset"
   ]
  },
  {
   "cell_type": "code",
   "execution_count": 2,
   "id": "a6e7986a",
   "metadata": {},
   "outputs": [
    {
     "data": {
      "text/html": [
       "<div>\n",
       "<style scoped>\n",
       "    .dataframe tbody tr th:only-of-type {\n",
       "        vertical-align: middle;\n",
       "    }\n",
       "\n",
       "    .dataframe tbody tr th {\n",
       "        vertical-align: top;\n",
       "    }\n",
       "\n",
       "    .dataframe thead th {\n",
       "        text-align: right;\n",
       "    }\n",
       "</style>\n",
       "<table border=\"1\" class=\"dataframe\">\n",
       "  <thead>\n",
       "    <tr style=\"text-align: right;\">\n",
       "      <th></th>\n",
       "      <th>age</th>\n",
       "      <th>bmi</th>\n",
       "      <th>bloodpressure</th>\n",
       "      <th>claim</th>\n",
       "    </tr>\n",
       "  </thead>\n",
       "  <tbody>\n",
       "    <tr>\n",
       "      <th>0</th>\n",
       "      <td>39.0</td>\n",
       "      <td>23.2</td>\n",
       "      <td>91</td>\n",
       "      <td>1121.87</td>\n",
       "    </tr>\n",
       "    <tr>\n",
       "      <th>1</th>\n",
       "      <td>24.0</td>\n",
       "      <td>30.1</td>\n",
       "      <td>87</td>\n",
       "      <td>1131.51</td>\n",
       "    </tr>\n",
       "  </tbody>\n",
       "</table>\n",
       "</div>"
      ],
      "text/plain": [
       "    age   bmi  bloodpressure    claim\n",
       "0  39.0  23.2             91  1121.87\n",
       "1  24.0  30.1             87  1131.51"
      ]
     },
     "execution_count": 2,
     "metadata": {},
     "output_type": "execute_result"
    }
   ],
   "source": [
    "df=pd.read_csv('insurance_data.csv',usecols=['age','bmi','bloodpressure','claim'])\n",
    "df.head(2)"
   ]
  },
  {
   "cell_type": "code",
   "execution_count": 3,
   "id": "e3743065",
   "metadata": {},
   "outputs": [
    {
     "data": {
      "text/plain": [
       "age              5\n",
       "bmi              0\n",
       "bloodpressure    0\n",
       "claim            0\n",
       "dtype: int64"
      ]
     },
     "execution_count": 3,
     "metadata": {},
     "output_type": "execute_result"
    }
   ],
   "source": [
    "df.isnull().sum()"
   ]
  },
  {
   "cell_type": "code",
   "execution_count": 4,
   "id": "5c6dc98c",
   "metadata": {},
   "outputs": [],
   "source": [
    "df.dropna(inplace=True)"
   ]
  },
  {
   "cell_type": "code",
   "execution_count": 5,
   "id": "f37fa78e",
   "metadata": {},
   "outputs": [
    {
     "data": {
      "text/html": [
       "<div>\n",
       "<style scoped>\n",
       "    .dataframe tbody tr th:only-of-type {\n",
       "        vertical-align: middle;\n",
       "    }\n",
       "\n",
       "    .dataframe tbody tr th {\n",
       "        vertical-align: top;\n",
       "    }\n",
       "\n",
       "    .dataframe thead th {\n",
       "        text-align: right;\n",
       "    }\n",
       "</style>\n",
       "<table border=\"1\" class=\"dataframe\">\n",
       "  <thead>\n",
       "    <tr style=\"text-align: right;\">\n",
       "      <th></th>\n",
       "      <th>age</th>\n",
       "      <th>bmi</th>\n",
       "      <th>bloodpressure</th>\n",
       "      <th>claim</th>\n",
       "    </tr>\n",
       "  </thead>\n",
       "  <tbody>\n",
       "    <tr>\n",
       "      <th>count</th>\n",
       "      <td>1335.000000</td>\n",
       "      <td>1335.000000</td>\n",
       "      <td>1335.000000</td>\n",
       "      <td>1335.000000</td>\n",
       "    </tr>\n",
       "    <tr>\n",
       "      <th>mean</th>\n",
       "      <td>38.078652</td>\n",
       "      <td>30.654382</td>\n",
       "      <td>94.177528</td>\n",
       "      <td>13298.120517</td>\n",
       "    </tr>\n",
       "    <tr>\n",
       "      <th>std</th>\n",
       "      <td>11.102924</td>\n",
       "      <td>6.112894</td>\n",
       "      <td>11.441296</td>\n",
       "      <td>12109.503660</td>\n",
       "    </tr>\n",
       "    <tr>\n",
       "      <th>min</th>\n",
       "      <td>18.000000</td>\n",
       "      <td>16.000000</td>\n",
       "      <td>80.000000</td>\n",
       "      <td>1121.870000</td>\n",
       "    </tr>\n",
       "    <tr>\n",
       "      <th>25%</th>\n",
       "      <td>29.000000</td>\n",
       "      <td>26.200000</td>\n",
       "      <td>86.000000</td>\n",
       "      <td>4749.060000</td>\n",
       "    </tr>\n",
       "    <tr>\n",
       "      <th>50%</th>\n",
       "      <td>38.000000</td>\n",
       "      <td>30.300000</td>\n",
       "      <td>92.000000</td>\n",
       "      <td>9391.350000</td>\n",
       "    </tr>\n",
       "    <tr>\n",
       "      <th>75%</th>\n",
       "      <td>47.000000</td>\n",
       "      <td>34.700000</td>\n",
       "      <td>99.000000</td>\n",
       "      <td>16717.010000</td>\n",
       "    </tr>\n",
       "    <tr>\n",
       "      <th>max</th>\n",
       "      <td>60.000000</td>\n",
       "      <td>53.100000</td>\n",
       "      <td>140.000000</td>\n",
       "      <td>63770.430000</td>\n",
       "    </tr>\n",
       "  </tbody>\n",
       "</table>\n",
       "</div>"
      ],
      "text/plain": [
       "               age          bmi  bloodpressure         claim\n",
       "count  1335.000000  1335.000000    1335.000000   1335.000000\n",
       "mean     38.078652    30.654382      94.177528  13298.120517\n",
       "std      11.102924     6.112894      11.441296  12109.503660\n",
       "min      18.000000    16.000000      80.000000   1121.870000\n",
       "25%      29.000000    26.200000      86.000000   4749.060000\n",
       "50%      38.000000    30.300000      92.000000   9391.350000\n",
       "75%      47.000000    34.700000      99.000000  16717.010000\n",
       "max      60.000000    53.100000     140.000000  63770.430000"
      ]
     },
     "execution_count": 5,
     "metadata": {},
     "output_type": "execute_result"
    }
   ],
   "source": [
    "df.describe()"
   ]
  },
  {
   "cell_type": "markdown",
   "id": "afe9c8cc",
   "metadata": {},
   "source": [
    "# Conclussion\n",
    "1. we see that `mean` is not 0 and `std` is not 1"
   ]
  },
  {
   "cell_type": "code",
   "execution_count": 6,
   "id": "4c760cdb",
   "metadata": {},
   "outputs": [
    {
     "name": "stdout",
     "output_type": "stream",
     "text": [
      "<class 'pandas.core.frame.DataFrame'>\n",
      "Index: 1335 entries, 0 to 1339\n",
      "Data columns (total 4 columns):\n",
      " #   Column         Non-Null Count  Dtype  \n",
      "---  ------         --------------  -----  \n",
      " 0   age            1335 non-null   float64\n",
      " 1   bmi            1335 non-null   float64\n",
      " 2   bloodpressure  1335 non-null   int64  \n",
      " 3   claim          1335 non-null   float64\n",
      "dtypes: float64(3), int64(1)\n",
      "memory usage: 52.1 KB\n"
     ]
    }
   ],
   "source": [
    "df.info()"
   ]
  },
  {
   "cell_type": "markdown",
   "id": "77283bff",
   "metadata": {},
   "source": [
    "# Saperate feature and label"
   ]
  },
  {
   "cell_type": "code",
   "execution_count": 7,
   "id": "f4356037",
   "metadata": {},
   "outputs": [],
   "source": [
    "featue=df.drop(columns=['claim'])\n",
    "label=df['claim']"
   ]
  },
  {
   "cell_type": "code",
   "execution_count": null,
   "id": "7770b184",
   "metadata": {},
   "outputs": [],
   "source": []
  },
  {
   "cell_type": "markdown",
   "id": "e6e4b83c",
   "metadata": {},
   "source": [
    "# without apply `MinMaxScaling`"
   ]
  },
  {
   "cell_type": "code",
   "execution_count": 8,
   "id": "4adeed19",
   "metadata": {},
   "outputs": [],
   "source": [
    "from sklearn.model_selection import train_test_split"
   ]
  },
  {
   "cell_type": "code",
   "execution_count": 9,
   "id": "7b1c5052",
   "metadata": {},
   "outputs": [],
   "source": [
    "x_train,x_test,y_train,y_test=train_test_split(featue,label,test_size=0.2,random_state=43)"
   ]
  },
  {
   "cell_type": "markdown",
   "id": "b1653afc",
   "metadata": {},
   "source": [
    "# fit the model"
   ]
  },
  {
   "cell_type": "code",
   "execution_count": 10,
   "id": "f5295725",
   "metadata": {},
   "outputs": [],
   "source": [
    "from sklearn.linear_model import LinearRegression"
   ]
  },
  {
   "cell_type": "code",
   "execution_count": 11,
   "id": "28e8625d",
   "metadata": {},
   "outputs": [
    {
     "data": {
      "text/html": [
       "<style>#sk-container-id-1 {color: black;}#sk-container-id-1 pre{padding: 0;}#sk-container-id-1 div.sk-toggleable {background-color: white;}#sk-container-id-1 label.sk-toggleable__label {cursor: pointer;display: block;width: 100%;margin-bottom: 0;padding: 0.3em;box-sizing: border-box;text-align: center;}#sk-container-id-1 label.sk-toggleable__label-arrow:before {content: \"▸\";float: left;margin-right: 0.25em;color: #696969;}#sk-container-id-1 label.sk-toggleable__label-arrow:hover:before {color: black;}#sk-container-id-1 div.sk-estimator:hover label.sk-toggleable__label-arrow:before {color: black;}#sk-container-id-1 div.sk-toggleable__content {max-height: 0;max-width: 0;overflow: hidden;text-align: left;background-color: #f0f8ff;}#sk-container-id-1 div.sk-toggleable__content pre {margin: 0.2em;color: black;border-radius: 0.25em;background-color: #f0f8ff;}#sk-container-id-1 input.sk-toggleable__control:checked~div.sk-toggleable__content {max-height: 200px;max-width: 100%;overflow: auto;}#sk-container-id-1 input.sk-toggleable__control:checked~label.sk-toggleable__label-arrow:before {content: \"▾\";}#sk-container-id-1 div.sk-estimator input.sk-toggleable__control:checked~label.sk-toggleable__label {background-color: #d4ebff;}#sk-container-id-1 div.sk-label input.sk-toggleable__control:checked~label.sk-toggleable__label {background-color: #d4ebff;}#sk-container-id-1 input.sk-hidden--visually {border: 0;clip: rect(1px 1px 1px 1px);clip: rect(1px, 1px, 1px, 1px);height: 1px;margin: -1px;overflow: hidden;padding: 0;position: absolute;width: 1px;}#sk-container-id-1 div.sk-estimator {font-family: monospace;background-color: #f0f8ff;border: 1px dotted black;border-radius: 0.25em;box-sizing: border-box;margin-bottom: 0.5em;}#sk-container-id-1 div.sk-estimator:hover {background-color: #d4ebff;}#sk-container-id-1 div.sk-parallel-item::after {content: \"\";width: 100%;border-bottom: 1px solid gray;flex-grow: 1;}#sk-container-id-1 div.sk-label:hover label.sk-toggleable__label {background-color: #d4ebff;}#sk-container-id-1 div.sk-serial::before {content: \"\";position: absolute;border-left: 1px solid gray;box-sizing: border-box;top: 0;bottom: 0;left: 50%;z-index: 0;}#sk-container-id-1 div.sk-serial {display: flex;flex-direction: column;align-items: center;background-color: white;padding-right: 0.2em;padding-left: 0.2em;position: relative;}#sk-container-id-1 div.sk-item {position: relative;z-index: 1;}#sk-container-id-1 div.sk-parallel {display: flex;align-items: stretch;justify-content: center;background-color: white;position: relative;}#sk-container-id-1 div.sk-item::before, #sk-container-id-1 div.sk-parallel-item::before {content: \"\";position: absolute;border-left: 1px solid gray;box-sizing: border-box;top: 0;bottom: 0;left: 50%;z-index: -1;}#sk-container-id-1 div.sk-parallel-item {display: flex;flex-direction: column;z-index: 1;position: relative;background-color: white;}#sk-container-id-1 div.sk-parallel-item:first-child::after {align-self: flex-end;width: 50%;}#sk-container-id-1 div.sk-parallel-item:last-child::after {align-self: flex-start;width: 50%;}#sk-container-id-1 div.sk-parallel-item:only-child::after {width: 0;}#sk-container-id-1 div.sk-dashed-wrapped {border: 1px dashed gray;margin: 0 0.4em 0.5em 0.4em;box-sizing: border-box;padding-bottom: 0.4em;background-color: white;}#sk-container-id-1 div.sk-label label {font-family: monospace;font-weight: bold;display: inline-block;line-height: 1.2em;}#sk-container-id-1 div.sk-label-container {text-align: center;}#sk-container-id-1 div.sk-container {/* jupyter's `normalize.less` sets `[hidden] { display: none; }` but bootstrap.min.css set `[hidden] { display: none !important; }` so we also need the `!important` here to be able to override the default hidden behavior on the sphinx rendered scikit-learn.org. See: https://github.com/scikit-learn/scikit-learn/issues/21755 */display: inline-block !important;position: relative;}#sk-container-id-1 div.sk-text-repr-fallback {display: none;}</style><div id=\"sk-container-id-1\" class=\"sk-top-container\"><div class=\"sk-text-repr-fallback\"><pre>LinearRegression()</pre><b>In a Jupyter environment, please rerun this cell to show the HTML representation or trust the notebook. <br />On GitHub, the HTML representation is unable to render, please try loading this page with nbviewer.org.</b></div><div class=\"sk-container\" hidden><div class=\"sk-item\"><div class=\"sk-estimator sk-toggleable\"><input class=\"sk-toggleable__control sk-hidden--visually\" id=\"sk-estimator-id-1\" type=\"checkbox\" checked><label for=\"sk-estimator-id-1\" class=\"sk-toggleable__label sk-toggleable__label-arrow\">LinearRegression</label><div class=\"sk-toggleable__content\"><pre>LinearRegression()</pre></div></div></div></div></div>"
      ],
      "text/plain": [
       "LinearRegression()"
      ]
     },
     "execution_count": 11,
     "metadata": {},
     "output_type": "execute_result"
    }
   ],
   "source": [
    "model=LinearRegression()\n",
    "model.fit(x_train,y_train)"
   ]
  },
  {
   "cell_type": "code",
   "execution_count": 12,
   "id": "cbe2c442",
   "metadata": {},
   "outputs": [
    {
     "data": {
      "text/plain": [
       "array([25210.48812834,  7270.93497101, 11956.97116118, 13738.28710325,\n",
       "        6538.73387103, 18709.83969242, 11861.74795936,  5700.53512724,\n",
       "       14211.79111699, 14501.66161501, 17183.1739239 ,  9001.46306461,\n",
       "        5315.69406941, 13943.00756334, 13548.2473215 , 19624.47950269,\n",
       "       34931.15659704, 30707.53914185,  8178.99835482, 11281.10681411,\n",
       "        8928.25566703, 10209.68151156,  6081.71006062,  6864.21878528,\n",
       "       17489.81928147, 13763.79964492,  8168.19520216,  5150.36611568,\n",
       "       11276.23335413, 10606.21256772, 22462.80601454, 10384.87122796,\n",
       "        9651.35082677,  9713.58856169,  9716.28458546, 23386.30877614,\n",
       "       15949.73759151, 16028.76271609, 12374.08387768, 11172.46769085,\n",
       "        9718.81409924, 16294.8627761 , 10217.54852856, 12687.23205981,\n",
       "        2780.43004569, 29106.55519874, 11925.33370616, 11624.23725304,\n",
       "        6206.87062802, 16214.96698638, 15023.88800668, 11077.3564547 ,\n",
       "        5751.29426504, 11884.43633103, 25060.44557251, 15295.94359301,\n",
       "       12779.37844962, 11440.94040774,  8255.8460432 , 10420.59760986,\n",
       "       15082.89207269, 16381.9663189 ,  3840.08209491, 11423.82965118,\n",
       "        8610.932426  , 13068.0003713 , 18569.78704548,  5141.23434179,\n",
       "        4390.86912958, 15287.31787656,  8383.31219302, 19902.97083914,\n",
       "        5295.70172151,  9580.08075351, 11043.80750901, 10758.90913312,\n",
       "       20630.59025833, 17347.85514386,  8157.65799503, 20889.76469133,\n",
       "       16849.49862576,  5989.21159325, 15267.64889555, 15911.14579881,\n",
       "       19167.51023661, 16341.06894378, 10273.40793471, 16794.63803096,\n",
       "        7876.25923359,  8632.09009524,  8228.63341208,  8976.7512366 ,\n",
       "       27811.06382197,  7440.87043919, 12327.84899933,  7342.82306737,\n",
       "       12204.87839828, 14440.92874888, 12832.16104376, 14872.73467384,\n",
       "        6693.84798454, 14873.59280883,  4523.89671397, 18439.94536175,\n",
       "        7228.87227454,  5637.27274733,  6588.6635845 , 11998.16319252,\n",
       "        6760.18717646,  9212.70252981,  4687.11795637, 12676.55705336,\n",
       "        9868.81464087, 34324.59628824, 10299.97383205,  8460.53779261,\n",
       "       11704.61038951,  7229.95434088,  6711.52221988, 17442.67172379,\n",
       "       28456.48474603,  4482.50946196,  9040.12558218,  8687.86336937,\n",
       "       22788.69755068, 10108.93811596, 13418.26783844,  8053.36044067,\n",
       "        5782.90300938, 10208.54490088, 11631.16288004, 31028.6824872 ,\n",
       "        8877.17316235,  5946.31947245,  6586.99220573, 22779.01847856,\n",
       "       10631.3597283 , 26173.79289519,  8533.71935654, 11789.6197511 ,\n",
       "       12916.90445981, 15008.39120755,  9689.60672245, 15916.8353796 ,\n",
       "       19796.16960466, 13855.56812352, 11171.82095707,  8152.83907937,\n",
       "       12307.20991765,  6925.92175209, 17664.27900909,  7646.61554427,\n",
       "        6286.10715382, 12827.52481864, 21918.29787309, 15267.88900744,\n",
       "       13609.2490102 ,  8852.22122244, 32103.33858165, 37904.95695206,\n",
       "        8712.46323172, 11091.5310756 ,  8292.5138151 ,  9341.6286572 ,\n",
       "        8738.65121784,  8859.06359444, 12660.52548613, 10815.27459671,\n",
       "       11104.42840947,  8210.58126552,  6175.34513867, 11725.54412741,\n",
       "        8490.30864818,  9993.75127691, 31635.18825168,  7774.11040477,\n",
       "        9637.49957277,  9708.03965725, 12130.46078814, 11942.76782961,\n",
       "       13649.58290654, 34895.34696014, 16341.28034499,  7051.71652313,\n",
       "       13272.63757639,  9053.59892497, 19539.23002921, 10349.79157984,\n",
       "        6990.74354511, 15893.58352914, 10725.712265  ,  9834.6189614 ,\n",
       "        7599.65067714,  9894.97391632, 16531.53152796, 17124.46451411,\n",
       "       14764.36149611, 12425.22092669, 12397.17887125,  5842.93459741,\n",
       "       18828.04592214,  9323.9285882 , 11373.92864838,  5411.53529435,\n",
       "       11398.6404764 , 13047.3900003 , 13323.91530175, 19656.94638204,\n",
       "       17630.51866219, 18369.78606551, 15980.20972519,  9034.90004463,\n",
       "       15341.7431388 ,  8784.5627293 , 15864.23547601, 18813.14131246,\n",
       "       15473.01608941,  6917.29603564, 11996.57506874,  8548.72340176,\n",
       "        6457.68529011, 17935.98539489, 15284.67639711,  8259.42891264,\n",
       "       12677.69366404,  7828.9422889 , 10767.01626201,  4026.39833087,\n",
       "       28267.00844306, 11559.30349435,  8088.44008879, 16109.45921946,\n",
       "       16105.55298312, 22225.61867511, 16174.30972315, 12669.15120258,\n",
       "       12373.76051079, 18304.85230682, 15644.53968137, 16341.30905566,\n",
       "       10122.38274808, 10205.50932968,  5603.75251231,  3908.79394372,\n",
       "       27858.00285545, 15491.63171475, 15388.06414917, 26219.70440665,\n",
       "       20915.03999813, 10208.98023345,  3517.32191511, 14376.58430262,\n",
       "       16364.58673978,  8208.85246539, 34753.78944443, 22171.45935841,\n",
       "        9700.52184079,  5914.71072811,  3520.37001645, 11228.67629754,\n",
       "       15391.23751971, 11777.14521966,  3574.3886568 ,  9873.50541031,\n",
       "        4088.18455268,  8084.09851989, 36025.27027128])"
      ]
     },
     "execution_count": 12,
     "metadata": {},
     "output_type": "execute_result"
    }
   ],
   "source": [
    "pre=model.predict(x_test)\n",
    "pre"
   ]
  },
  {
   "cell_type": "markdown",
   "id": "61c9bd29",
   "metadata": {},
   "source": [
    "# Score and error"
   ]
  },
  {
   "cell_type": "code",
   "execution_count": 13,
   "id": "6d759d76",
   "metadata": {},
   "outputs": [],
   "source": [
    "from sklearn.metrics import r2_score,mean_squared_error"
   ]
  },
  {
   "cell_type": "code",
   "execution_count": 14,
   "id": "b6c94559",
   "metadata": {},
   "outputs": [
    {
     "data": {
      "text/plain": [
       "107736692.03787054"
      ]
     },
     "execution_count": 14,
     "metadata": {},
     "output_type": "execute_result"
    }
   ],
   "source": [
    "error=mean_squared_error(y_test,pre)\n",
    "error"
   ]
  },
  {
   "cell_type": "code",
   "execution_count": 15,
   "id": "09058535",
   "metadata": {},
   "outputs": [
    {
     "data": {
      "text/plain": [
       "0.36737021692761795"
      ]
     },
     "execution_count": 15,
     "metadata": {},
     "output_type": "execute_result"
    }
   ],
   "source": [
    "score=r2_score(y_test,pre)\n",
    "score"
   ]
  },
  {
   "cell_type": "markdown",
   "id": "782702d2",
   "metadata": {},
   "source": [
    "# Now Apply the min max Scaling"
   ]
  },
  {
   "cell_type": "code",
   "execution_count": 16,
   "id": "933771c6",
   "metadata": {},
   "outputs": [],
   "source": [
    "from sklearn.preprocessing import MinMaxScaler"
   ]
  },
  {
   "cell_type": "code",
   "execution_count": 17,
   "id": "5af5d3c8",
   "metadata": {},
   "outputs": [],
   "source": [
    "scale=MinMaxScaler()\n",
    "x_train_scale=scale.fit_transform(x_train)\n",
    "x_test_scale=scale.transform(x_test)"
   ]
  },
  {
   "cell_type": "code",
   "execution_count": 18,
   "id": "25e2222e",
   "metadata": {},
   "outputs": [
    {
     "data": {
      "text/html": [
       "<div>\n",
       "<style scoped>\n",
       "    .dataframe tbody tr th:only-of-type {\n",
       "        vertical-align: middle;\n",
       "    }\n",
       "\n",
       "    .dataframe tbody tr th {\n",
       "        vertical-align: top;\n",
       "    }\n",
       "\n",
       "    .dataframe thead th {\n",
       "        text-align: right;\n",
       "    }\n",
       "</style>\n",
       "<table border=\"1\" class=\"dataframe\">\n",
       "  <thead>\n",
       "    <tr style=\"text-align: right;\">\n",
       "      <th></th>\n",
       "      <th>age</th>\n",
       "      <th>bmi</th>\n",
       "      <th>bloodpressure</th>\n",
       "    </tr>\n",
       "  </thead>\n",
       "  <tbody>\n",
       "    <tr>\n",
       "      <th>0</th>\n",
       "      <td>0.666667</td>\n",
       "      <td>0.315364</td>\n",
       "      <td>0.050000</td>\n",
       "    </tr>\n",
       "    <tr>\n",
       "      <th>1</th>\n",
       "      <td>0.095238</td>\n",
       "      <td>0.390836</td>\n",
       "      <td>0.033333</td>\n",
       "    </tr>\n",
       "    <tr>\n",
       "      <th>2</th>\n",
       "      <td>0.952381</td>\n",
       "      <td>0.601078</td>\n",
       "      <td>0.116667</td>\n",
       "    </tr>\n",
       "    <tr>\n",
       "      <th>3</th>\n",
       "      <td>0.380952</td>\n",
       "      <td>0.304582</td>\n",
       "      <td>0.150000</td>\n",
       "    </tr>\n",
       "    <tr>\n",
       "      <th>4</th>\n",
       "      <td>0.214286</td>\n",
       "      <td>0.401617</td>\n",
       "      <td>0.183333</td>\n",
       "    </tr>\n",
       "    <tr>\n",
       "      <th>...</th>\n",
       "      <td>...</td>\n",
       "      <td>...</td>\n",
       "      <td>...</td>\n",
       "    </tr>\n",
       "    <tr>\n",
       "      <th>1063</th>\n",
       "      <td>0.071429</td>\n",
       "      <td>0.603774</td>\n",
       "      <td>0.116667</td>\n",
       "    </tr>\n",
       "    <tr>\n",
       "      <th>1064</th>\n",
       "      <td>0.380952</td>\n",
       "      <td>0.407008</td>\n",
       "      <td>0.266667</td>\n",
       "    </tr>\n",
       "    <tr>\n",
       "      <th>1065</th>\n",
       "      <td>1.000000</td>\n",
       "      <td>0.123989</td>\n",
       "      <td>0.166667</td>\n",
       "    </tr>\n",
       "    <tr>\n",
       "      <th>1066</th>\n",
       "      <td>0.714286</td>\n",
       "      <td>0.466307</td>\n",
       "      <td>0.333333</td>\n",
       "    </tr>\n",
       "    <tr>\n",
       "      <th>1067</th>\n",
       "      <td>0.238095</td>\n",
       "      <td>0.291105</td>\n",
       "      <td>0.200000</td>\n",
       "    </tr>\n",
       "  </tbody>\n",
       "</table>\n",
       "<p>1068 rows × 3 columns</p>\n",
       "</div>"
      ],
      "text/plain": [
       "           age       bmi  bloodpressure\n",
       "0     0.666667  0.315364       0.050000\n",
       "1     0.095238  0.390836       0.033333\n",
       "2     0.952381  0.601078       0.116667\n",
       "3     0.380952  0.304582       0.150000\n",
       "4     0.214286  0.401617       0.183333\n",
       "...        ...       ...            ...\n",
       "1063  0.071429  0.603774       0.116667\n",
       "1064  0.380952  0.407008       0.266667\n",
       "1065  1.000000  0.123989       0.166667\n",
       "1066  0.714286  0.466307       0.333333\n",
       "1067  0.238095  0.291105       0.200000\n",
       "\n",
       "[1068 rows x 3 columns]"
      ]
     },
     "execution_count": 18,
     "metadata": {},
     "output_type": "execute_result"
    }
   ],
   "source": [
    "scale_df=pd.DataFrame(x_train_scale,columns=x_train.columns)\n",
    "scale_df"
   ]
  },
  {
   "cell_type": "code",
   "execution_count": 19,
   "id": "d6a4cbc4",
   "metadata": {},
   "outputs": [
    {
     "data": {
      "text/html": [
       "<div>\n",
       "<style scoped>\n",
       "    .dataframe tbody tr th:only-of-type {\n",
       "        vertical-align: middle;\n",
       "    }\n",
       "\n",
       "    .dataframe tbody tr th {\n",
       "        vertical-align: top;\n",
       "    }\n",
       "\n",
       "    .dataframe thead th {\n",
       "        text-align: right;\n",
       "    }\n",
       "</style>\n",
       "<table border=\"1\" class=\"dataframe\">\n",
       "  <thead>\n",
       "    <tr style=\"text-align: right;\">\n",
       "      <th></th>\n",
       "      <th>age</th>\n",
       "      <th>bmi</th>\n",
       "      <th>bloodpressure</th>\n",
       "    </tr>\n",
       "  </thead>\n",
       "  <tbody>\n",
       "    <tr>\n",
       "      <th>count</th>\n",
       "      <td>1068.000000</td>\n",
       "      <td>1068.000000</td>\n",
       "      <td>1068.000000</td>\n",
       "    </tr>\n",
       "    <tr>\n",
       "      <th>mean</th>\n",
       "      <td>0.474162</td>\n",
       "      <td>0.393912</td>\n",
       "      <td>0.238109</td>\n",
       "    </tr>\n",
       "    <tr>\n",
       "      <th>std</th>\n",
       "      <td>0.267239</td>\n",
       "      <td>0.163874</td>\n",
       "      <td>0.189035</td>\n",
       "    </tr>\n",
       "    <tr>\n",
       "      <th>min</th>\n",
       "      <td>0.000000</td>\n",
       "      <td>0.000000</td>\n",
       "      <td>0.000000</td>\n",
       "    </tr>\n",
       "    <tr>\n",
       "      <th>25%</th>\n",
       "      <td>0.261905</td>\n",
       "      <td>0.274933</td>\n",
       "      <td>0.100000</td>\n",
       "    </tr>\n",
       "    <tr>\n",
       "      <th>50%</th>\n",
       "      <td>0.452381</td>\n",
       "      <td>0.385445</td>\n",
       "      <td>0.216667</td>\n",
       "    </tr>\n",
       "    <tr>\n",
       "      <th>75%</th>\n",
       "      <td>0.672619</td>\n",
       "      <td>0.501348</td>\n",
       "      <td>0.316667</td>\n",
       "    </tr>\n",
       "    <tr>\n",
       "      <th>max</th>\n",
       "      <td>1.000000</td>\n",
       "      <td>1.000000</td>\n",
       "      <td>1.000000</td>\n",
       "    </tr>\n",
       "  </tbody>\n",
       "</table>\n",
       "</div>"
      ],
      "text/plain": [
       "               age          bmi  bloodpressure\n",
       "count  1068.000000  1068.000000    1068.000000\n",
       "mean      0.474162     0.393912       0.238109\n",
       "std       0.267239     0.163874       0.189035\n",
       "min       0.000000     0.000000       0.000000\n",
       "25%       0.261905     0.274933       0.100000\n",
       "50%       0.452381     0.385445       0.216667\n",
       "75%       0.672619     0.501348       0.316667\n",
       "max       1.000000     1.000000       1.000000"
      ]
     },
     "execution_count": 19,
     "metadata": {},
     "output_type": "execute_result"
    }
   ],
   "source": [
    "scale_df.describe()"
   ]
  },
  {
   "cell_type": "markdown",
   "id": "d36e0438",
   "metadata": {},
   "source": [
    "# Conclussion\n",
    "1. we see that `mean` is  0 and `std` is close to 1"
   ]
  },
  {
   "cell_type": "markdown",
   "id": "04c07764",
   "metadata": {},
   "source": [
    "# Fit the model again"
   ]
  },
  {
   "cell_type": "code",
   "execution_count": 20,
   "id": "23293b3b",
   "metadata": {},
   "outputs": [
    {
     "data": {
      "text/html": [
       "<style>#sk-container-id-2 {color: black;}#sk-container-id-2 pre{padding: 0;}#sk-container-id-2 div.sk-toggleable {background-color: white;}#sk-container-id-2 label.sk-toggleable__label {cursor: pointer;display: block;width: 100%;margin-bottom: 0;padding: 0.3em;box-sizing: border-box;text-align: center;}#sk-container-id-2 label.sk-toggleable__label-arrow:before {content: \"▸\";float: left;margin-right: 0.25em;color: #696969;}#sk-container-id-2 label.sk-toggleable__label-arrow:hover:before {color: black;}#sk-container-id-2 div.sk-estimator:hover label.sk-toggleable__label-arrow:before {color: black;}#sk-container-id-2 div.sk-toggleable__content {max-height: 0;max-width: 0;overflow: hidden;text-align: left;background-color: #f0f8ff;}#sk-container-id-2 div.sk-toggleable__content pre {margin: 0.2em;color: black;border-radius: 0.25em;background-color: #f0f8ff;}#sk-container-id-2 input.sk-toggleable__control:checked~div.sk-toggleable__content {max-height: 200px;max-width: 100%;overflow: auto;}#sk-container-id-2 input.sk-toggleable__control:checked~label.sk-toggleable__label-arrow:before {content: \"▾\";}#sk-container-id-2 div.sk-estimator input.sk-toggleable__control:checked~label.sk-toggleable__label {background-color: #d4ebff;}#sk-container-id-2 div.sk-label input.sk-toggleable__control:checked~label.sk-toggleable__label {background-color: #d4ebff;}#sk-container-id-2 input.sk-hidden--visually {border: 0;clip: rect(1px 1px 1px 1px);clip: rect(1px, 1px, 1px, 1px);height: 1px;margin: -1px;overflow: hidden;padding: 0;position: absolute;width: 1px;}#sk-container-id-2 div.sk-estimator {font-family: monospace;background-color: #f0f8ff;border: 1px dotted black;border-radius: 0.25em;box-sizing: border-box;margin-bottom: 0.5em;}#sk-container-id-2 div.sk-estimator:hover {background-color: #d4ebff;}#sk-container-id-2 div.sk-parallel-item::after {content: \"\";width: 100%;border-bottom: 1px solid gray;flex-grow: 1;}#sk-container-id-2 div.sk-label:hover label.sk-toggleable__label {background-color: #d4ebff;}#sk-container-id-2 div.sk-serial::before {content: \"\";position: absolute;border-left: 1px solid gray;box-sizing: border-box;top: 0;bottom: 0;left: 50%;z-index: 0;}#sk-container-id-2 div.sk-serial {display: flex;flex-direction: column;align-items: center;background-color: white;padding-right: 0.2em;padding-left: 0.2em;position: relative;}#sk-container-id-2 div.sk-item {position: relative;z-index: 1;}#sk-container-id-2 div.sk-parallel {display: flex;align-items: stretch;justify-content: center;background-color: white;position: relative;}#sk-container-id-2 div.sk-item::before, #sk-container-id-2 div.sk-parallel-item::before {content: \"\";position: absolute;border-left: 1px solid gray;box-sizing: border-box;top: 0;bottom: 0;left: 50%;z-index: -1;}#sk-container-id-2 div.sk-parallel-item {display: flex;flex-direction: column;z-index: 1;position: relative;background-color: white;}#sk-container-id-2 div.sk-parallel-item:first-child::after {align-self: flex-end;width: 50%;}#sk-container-id-2 div.sk-parallel-item:last-child::after {align-self: flex-start;width: 50%;}#sk-container-id-2 div.sk-parallel-item:only-child::after {width: 0;}#sk-container-id-2 div.sk-dashed-wrapped {border: 1px dashed gray;margin: 0 0.4em 0.5em 0.4em;box-sizing: border-box;padding-bottom: 0.4em;background-color: white;}#sk-container-id-2 div.sk-label label {font-family: monospace;font-weight: bold;display: inline-block;line-height: 1.2em;}#sk-container-id-2 div.sk-label-container {text-align: center;}#sk-container-id-2 div.sk-container {/* jupyter's `normalize.less` sets `[hidden] { display: none; }` but bootstrap.min.css set `[hidden] { display: none !important; }` so we also need the `!important` here to be able to override the default hidden behavior on the sphinx rendered scikit-learn.org. See: https://github.com/scikit-learn/scikit-learn/issues/21755 */display: inline-block !important;position: relative;}#sk-container-id-2 div.sk-text-repr-fallback {display: none;}</style><div id=\"sk-container-id-2\" class=\"sk-top-container\"><div class=\"sk-text-repr-fallback\"><pre>LinearRegression()</pre><b>In a Jupyter environment, please rerun this cell to show the HTML representation or trust the notebook. <br />On GitHub, the HTML representation is unable to render, please try loading this page with nbviewer.org.</b></div><div class=\"sk-container\" hidden><div class=\"sk-item\"><div class=\"sk-estimator sk-toggleable\"><input class=\"sk-toggleable__control sk-hidden--visually\" id=\"sk-estimator-id-2\" type=\"checkbox\" checked><label for=\"sk-estimator-id-2\" class=\"sk-toggleable__label sk-toggleable__label-arrow\">LinearRegression</label><div class=\"sk-toggleable__content\"><pre>LinearRegression()</pre></div></div></div></div></div>"
      ],
      "text/plain": [
       "LinearRegression()"
      ]
     },
     "execution_count": 20,
     "metadata": {},
     "output_type": "execute_result"
    }
   ],
   "source": [
    "model=LinearRegression()\n",
    "model.fit(x_train_scale,y_train)"
   ]
  },
  {
   "cell_type": "code",
   "execution_count": 21,
   "id": "21384653",
   "metadata": {},
   "outputs": [
    {
     "data": {
      "text/plain": [
       "array([25210.48812834,  7270.93497101, 11956.97116118, 13738.28710325,\n",
       "        6538.73387103, 18709.83969242, 11861.74795936,  5700.53512724,\n",
       "       14211.79111699, 14501.66161501, 17183.1739239 ,  9001.46306461,\n",
       "        5315.69406941, 13943.00756334, 13548.2473215 , 19624.47950269,\n",
       "       34931.15659704, 30707.53914185,  8178.99835482, 11281.10681411,\n",
       "        8928.25566703, 10209.68151156,  6081.71006062,  6864.21878528,\n",
       "       17489.81928147, 13763.79964492,  8168.19520216,  5150.36611568,\n",
       "       11276.23335413, 10606.21256772, 22462.80601454, 10384.87122796,\n",
       "        9651.35082677,  9713.58856169,  9716.28458546, 23386.30877614,\n",
       "       15949.73759151, 16028.76271609, 12374.08387768, 11172.46769085,\n",
       "        9718.81409924, 16294.8627761 , 10217.54852856, 12687.23205981,\n",
       "        2780.43004569, 29106.55519874, 11925.33370616, 11624.23725304,\n",
       "        6206.87062802, 16214.96698638, 15023.88800668, 11077.3564547 ,\n",
       "        5751.29426504, 11884.43633103, 25060.44557251, 15295.94359301,\n",
       "       12779.37844962, 11440.94040774,  8255.8460432 , 10420.59760986,\n",
       "       15082.89207269, 16381.9663189 ,  3840.08209491, 11423.82965118,\n",
       "        8610.932426  , 13068.0003713 , 18569.78704548,  5141.23434179,\n",
       "        4390.86912958, 15287.31787656,  8383.31219302, 19902.97083914,\n",
       "        5295.70172151,  9580.08075351, 11043.80750901, 10758.90913312,\n",
       "       20630.59025833, 17347.85514386,  8157.65799503, 20889.76469133,\n",
       "       16849.49862576,  5989.21159325, 15267.64889555, 15911.14579881,\n",
       "       19167.51023661, 16341.06894378, 10273.40793471, 16794.63803096,\n",
       "        7876.25923359,  8632.09009524,  8228.63341208,  8976.7512366 ,\n",
       "       27811.06382197,  7440.87043919, 12327.84899933,  7342.82306737,\n",
       "       12204.87839828, 14440.92874888, 12832.16104376, 14872.73467384,\n",
       "        6693.84798454, 14873.59280883,  4523.89671397, 18439.94536175,\n",
       "        7228.87227454,  5637.27274733,  6588.6635845 , 11998.16319252,\n",
       "        6760.18717646,  9212.70252981,  4687.11795637, 12676.55705336,\n",
       "        9868.81464087, 34324.59628824, 10299.97383205,  8460.53779261,\n",
       "       11704.61038951,  7229.95434088,  6711.52221988, 17442.67172379,\n",
       "       28456.48474603,  4482.50946196,  9040.12558218,  8687.86336937,\n",
       "       22788.69755068, 10108.93811596, 13418.26783844,  8053.36044067,\n",
       "        5782.90300938, 10208.54490088, 11631.16288004, 31028.6824872 ,\n",
       "        8877.17316235,  5946.31947245,  6586.99220573, 22779.01847856,\n",
       "       10631.3597283 , 26173.79289519,  8533.71935654, 11789.6197511 ,\n",
       "       12916.90445981, 15008.39120755,  9689.60672245, 15916.8353796 ,\n",
       "       19796.16960466, 13855.56812352, 11171.82095707,  8152.83907937,\n",
       "       12307.20991765,  6925.92175209, 17664.27900909,  7646.61554427,\n",
       "        6286.10715382, 12827.52481864, 21918.29787309, 15267.88900744,\n",
       "       13609.2490102 ,  8852.22122244, 32103.33858165, 37904.95695206,\n",
       "        8712.46323172, 11091.5310756 ,  8292.5138151 ,  9341.6286572 ,\n",
       "        8738.65121784,  8859.06359444, 12660.52548613, 10815.27459671,\n",
       "       11104.42840947,  8210.58126552,  6175.34513867, 11725.54412741,\n",
       "        8490.30864818,  9993.75127691, 31635.18825168,  7774.11040477,\n",
       "        9637.49957277,  9708.03965725, 12130.46078814, 11942.76782961,\n",
       "       13649.58290654, 34895.34696014, 16341.28034499,  7051.71652313,\n",
       "       13272.63757639,  9053.59892497, 19539.23002921, 10349.79157984,\n",
       "        6990.74354511, 15893.58352914, 10725.712265  ,  9834.6189614 ,\n",
       "        7599.65067714,  9894.97391632, 16531.53152796, 17124.46451411,\n",
       "       14764.36149611, 12425.22092669, 12397.17887125,  5842.93459741,\n",
       "       18828.04592214,  9323.9285882 , 11373.92864838,  5411.53529435,\n",
       "       11398.6404764 , 13047.3900003 , 13323.91530175, 19656.94638204,\n",
       "       17630.51866219, 18369.78606551, 15980.20972519,  9034.90004463,\n",
       "       15341.7431388 ,  8784.5627293 , 15864.23547601, 18813.14131246,\n",
       "       15473.01608941,  6917.29603564, 11996.57506874,  8548.72340176,\n",
       "        6457.68529011, 17935.98539489, 15284.67639711,  8259.42891264,\n",
       "       12677.69366404,  7828.9422889 , 10767.01626201,  4026.39833087,\n",
       "       28267.00844306, 11559.30349435,  8088.44008879, 16109.45921946,\n",
       "       16105.55298312, 22225.61867511, 16174.30972315, 12669.15120258,\n",
       "       12373.76051079, 18304.85230682, 15644.53968137, 16341.30905566,\n",
       "       10122.38274808, 10205.50932968,  5603.75251231,  3908.79394372,\n",
       "       27858.00285545, 15491.63171475, 15388.06414917, 26219.70440665,\n",
       "       20915.03999813, 10208.98023345,  3517.32191511, 14376.58430262,\n",
       "       16364.58673978,  8208.85246539, 34753.78944443, 22171.45935841,\n",
       "        9700.52184079,  5914.71072811,  3520.37001645, 11228.67629754,\n",
       "       15391.23751971, 11777.14521966,  3574.3886568 ,  9873.50541031,\n",
       "        4088.18455268,  8084.09851989, 36025.27027128])"
      ]
     },
     "execution_count": 21,
     "metadata": {},
     "output_type": "execute_result"
    }
   ],
   "source": [
    "pre=model.predict(x_test_scale)\n",
    "pre"
   ]
  },
  {
   "cell_type": "code",
   "execution_count": 22,
   "id": "b687064a",
   "metadata": {},
   "outputs": [
    {
     "data": {
      "text/plain": [
       "107736692.03787057"
      ]
     },
     "execution_count": 22,
     "metadata": {},
     "output_type": "execute_result"
    }
   ],
   "source": [
    "mean_squared_error(y_test,pre)"
   ]
  },
  {
   "cell_type": "code",
   "execution_count": 23,
   "id": "8898a708",
   "metadata": {},
   "outputs": [
    {
     "data": {
      "text/plain": [
       "0.36737021692761784"
      ]
     },
     "execution_count": 23,
     "metadata": {},
     "output_type": "execute_result"
    }
   ],
   "source": [
    "score2=r2_score(y_test,pre)\n",
    "score2"
   ]
  },
  {
   "cell_type": "markdown",
   "id": "f9653e9b",
   "metadata": {},
   "source": [
    "# Check the difference b/2 `score` and `score2`"
   ]
  },
  {
   "cell_type": "code",
   "execution_count": 25,
   "id": "b2123c1e",
   "metadata": {},
   "outputs": [
    {
     "name": "stdout",
     "output_type": "stream",
     "text": [
      "Difference b/w befroe Scaling and after Scaling is:  1.1102230246251565e-16\n"
     ]
    }
   ],
   "source": [
    "print(\"Difference b/w befroe Scaling and after Scaling is: \",score-score2)"
   ]
  },
  {
   "cell_type": "code",
   "execution_count": 31,
   "id": "a3cf5ab4",
   "metadata": {},
   "outputs": [
    {
     "data": {
      "image/png": "[encoded data removed]",
      "text/plain": [
       "<Figure size 1500x700 with 2 Axes>"
      ]
     },
     "metadata": {},
     "output_type": "display_data"
    }
   ],
   "source": [
    "fig,(ax1,ax2)=plt.subplots(1,2,figsize=(15,7))\n",
    "ax1.set_title(\"Distrubution before Scaling\")\n",
    "sns.kdeplot(df['bloodpressure'],ax=ax1)\n",
    "\n",
    "ax2.set_title(\"Distrubution after Scaling\")\n",
    "sns.kdeplot(scale_df['bloodpressure'],ax=ax2)\n",
    "plt.show()"
   ]
  },
  {
   "cell_type": "markdown",
   "id": "cd08fa6c",
   "metadata": {},
   "source": [
    "# Conclussion\n",
    "1. There is not difference before and after scaling except scale"
   ]
  },
  {
   "cell_type": "code",
   "execution_count": null,
   "id": "734c351c",
   "metadata": {},
   "outputs": [],
   "source": []
  }
 ],
 "metadata": {
  "kernelspec": {
   "display_name": "Python 3 (ipykernel)",
   "language": "python",
   "name": "python3"
  },
  "language_info": {
   "codemirror_mode": {
    "name": "ipython",
    "version": 3
   },
   "file_extension": ".py",
   "mimetype": "text/x-python",
   "name": "python",
   "nbconvert_exporter": "python",
   "pygments_lexer": "ipython3",
   "version": "3.11.5"
  }
 },
 "nbformat": 4,
 "nbformat_minor": 5
}
