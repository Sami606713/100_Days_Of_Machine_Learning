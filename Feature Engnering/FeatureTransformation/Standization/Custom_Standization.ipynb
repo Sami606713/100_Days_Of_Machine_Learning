{
 "cells": [
  {
   "cell_type": "markdown",
   "id": "62f36c01",
   "metadata": {},
   "source": [
    "# Plan Of Action \n",
    "1. First i wll use `sklearn standization`.\n",
    "2. I wll make my own class"
   ]
  },
  {
   "cell_type": "markdown",
   "id": "8c23ad50",
   "metadata": {},
   "source": [
    "# Load Libraries"
   ]
  },
  {
   "cell_type": "code",
   "execution_count": 16,
   "id": "d02b3a95",
   "metadata": {},
   "outputs": [],
   "source": [
    "import pandas as pd\n",
    "import numpy as np\n",
    "import warnings\n",
    "warnings.filterwarnings('ignore')"
   ]
  },
  {
   "cell_type": "code",
   "execution_count": 3,
   "id": "108f185f",
   "metadata": {},
   "outputs": [
    {
     "data": {
      "text/html": [
       "<div>\n",
       "<style scoped>\n",
       "    .dataframe tbody tr th:only-of-type {\n",
       "        vertical-align: middle;\n",
       "    }\n",
       "\n",
       "    .dataframe tbody tr th {\n",
       "        vertical-align: top;\n",
       "    }\n",
       "\n",
       "    .dataframe thead th {\n",
       "        text-align: right;\n",
       "    }\n",
       "</style>\n",
       "<table border=\"1\" class=\"dataframe\">\n",
       "  <thead>\n",
       "    <tr style=\"text-align: right;\">\n",
       "      <th></th>\n",
       "      <th>age</th>\n",
       "      <th>bmi</th>\n",
       "      <th>bloodpressure</th>\n",
       "      <th>claim</th>\n",
       "    </tr>\n",
       "  </thead>\n",
       "  <tbody>\n",
       "    <tr>\n",
       "      <th>0</th>\n",
       "      <td>39.0</td>\n",
       "      <td>23.2</td>\n",
       "      <td>91</td>\n",
       "      <td>1121.87</td>\n",
       "    </tr>\n",
       "    <tr>\n",
       "      <th>1</th>\n",
       "      <td>24.0</td>\n",
       "      <td>30.1</td>\n",
       "      <td>87</td>\n",
       "      <td>1131.51</td>\n",
       "    </tr>\n",
       "  </tbody>\n",
       "</table>\n",
       "</div>"
      ],
      "text/plain": [
       "    age   bmi  bloodpressure    claim\n",
       "0  39.0  23.2             91  1121.87\n",
       "1  24.0  30.1             87  1131.51"
      ]
     },
     "execution_count": 3,
     "metadata": {},
     "output_type": "execute_result"
    }
   ],
   "source": [
    "data=pd.read_csv(\"insurance_data.csv\",usecols=['age','bmi','bloodpressure','claim'])\n",
    "data.head(2)"
   ]
  },
  {
   "cell_type": "markdown",
   "id": "e2d30dcb",
   "metadata": {},
   "source": [
    "# Check the mean and std"
   ]
  },
  {
   "cell_type": "code",
   "execution_count": 4,
   "id": "8fad2b3e",
   "metadata": {},
   "outputs": [
    {
     "data": {
      "text/html": [
       "<div>\n",
       "<style scoped>\n",
       "    .dataframe tbody tr th:only-of-type {\n",
       "        vertical-align: middle;\n",
       "    }\n",
       "\n",
       "    .dataframe tbody tr th {\n",
       "        vertical-align: top;\n",
       "    }\n",
       "\n",
       "    .dataframe thead th {\n",
       "        text-align: right;\n",
       "    }\n",
       "</style>\n",
       "<table border=\"1\" class=\"dataframe\">\n",
       "  <thead>\n",
       "    <tr style=\"text-align: right;\">\n",
       "      <th></th>\n",
       "      <th>age</th>\n",
       "      <th>bmi</th>\n",
       "      <th>bloodpressure</th>\n",
       "      <th>claim</th>\n",
       "    </tr>\n",
       "  </thead>\n",
       "  <tbody>\n",
       "    <tr>\n",
       "      <th>count</th>\n",
       "      <td>1335.000000</td>\n",
       "      <td>1340.000000</td>\n",
       "      <td>1340.000000</td>\n",
       "      <td>1340.000000</td>\n",
       "    </tr>\n",
       "    <tr>\n",
       "      <th>mean</th>\n",
       "      <td>38.078652</td>\n",
       "      <td>30.668955</td>\n",
       "      <td>94.157463</td>\n",
       "      <td>13252.745642</td>\n",
       "    </tr>\n",
       "    <tr>\n",
       "      <th>std</th>\n",
       "      <td>11.102924</td>\n",
       "      <td>6.106735</td>\n",
       "      <td>11.434712</td>\n",
       "      <td>12109.609288</td>\n",
       "    </tr>\n",
       "    <tr>\n",
       "      <th>min</th>\n",
       "      <td>18.000000</td>\n",
       "      <td>16.000000</td>\n",
       "      <td>80.000000</td>\n",
       "      <td>1121.870000</td>\n",
       "    </tr>\n",
       "    <tr>\n",
       "      <th>25%</th>\n",
       "      <td>29.000000</td>\n",
       "      <td>26.275000</td>\n",
       "      <td>86.000000</td>\n",
       "      <td>4719.685000</td>\n",
       "    </tr>\n",
       "    <tr>\n",
       "      <th>50%</th>\n",
       "      <td>38.000000</td>\n",
       "      <td>30.400000</td>\n",
       "      <td>92.000000</td>\n",
       "      <td>9369.615000</td>\n",
       "    </tr>\n",
       "    <tr>\n",
       "      <th>75%</th>\n",
       "      <td>47.000000</td>\n",
       "      <td>34.700000</td>\n",
       "      <td>99.000000</td>\n",
       "      <td>16604.305000</td>\n",
       "    </tr>\n",
       "    <tr>\n",
       "      <th>max</th>\n",
       "      <td>60.000000</td>\n",
       "      <td>53.100000</td>\n",
       "      <td>140.000000</td>\n",
       "      <td>63770.430000</td>\n",
       "    </tr>\n",
       "  </tbody>\n",
       "</table>\n",
       "</div>"
      ],
      "text/plain": [
       "               age          bmi  bloodpressure         claim\n",
       "count  1335.000000  1340.000000    1340.000000   1340.000000\n",
       "mean     38.078652    30.668955      94.157463  13252.745642\n",
       "std      11.102924     6.106735      11.434712  12109.609288\n",
       "min      18.000000    16.000000      80.000000   1121.870000\n",
       "25%      29.000000    26.275000      86.000000   4719.685000\n",
       "50%      38.000000    30.400000      92.000000   9369.615000\n",
       "75%      47.000000    34.700000      99.000000  16604.305000\n",
       "max      60.000000    53.100000     140.000000  63770.430000"
      ]
     },
     "execution_count": 4,
     "metadata": {},
     "output_type": "execute_result"
    }
   ],
   "source": [
    "data.describe()"
   ]
  },
  {
   "cell_type": "markdown",
   "id": "a1ff1fa4",
   "metadata": {},
   "source": [
    "# Conclussion\n",
    "1. See that mean should greater then 0 and std also greater then 0."
   ]
  },
  {
   "cell_type": "markdown",
   "id": "bbba9472",
   "metadata": {},
   "source": [
    "# Apply Standization"
   ]
  },
  {
   "cell_type": "code",
   "execution_count": 5,
   "id": "d0fef5b9",
   "metadata": {},
   "outputs": [],
   "source": [
    "from sklearn.model_selection import train_test_split"
   ]
  },
  {
   "cell_type": "code",
   "execution_count": 6,
   "id": "6b2a5254",
   "metadata": {},
   "outputs": [],
   "source": [
    "x_train,x_test,y_train,y_test=train_test_split(data.drop(columns='claim'),data['claim'],test_size=0.2,random_state=43)"
   ]
  },
  {
   "cell_type": "code",
   "execution_count": 7,
   "id": "93d0cd89",
   "metadata": {},
   "outputs": [],
   "source": [
    "from sklearn.preprocessing import StandardScaler"
   ]
  },
  {
   "cell_type": "code",
   "execution_count": 8,
   "id": "f0b34c13",
   "metadata": {},
   "outputs": [],
   "source": [
    "scale=StandardScaler()\n",
    "scale_s_train=scale.fit_transform(x_train)\n",
    "scale_x_test=scale.transform(x_test)"
   ]
  },
  {
   "cell_type": "markdown",
   "id": "51878017",
   "metadata": {},
   "source": [
    "# Now see the result"
   ]
  },
  {
   "cell_type": "code",
   "execution_count": 11,
   "id": "1b3afa79",
   "metadata": {},
   "outputs": [
    {
     "data": {
      "text/html": [
       "<div>\n",
       "<style scoped>\n",
       "    .dataframe tbody tr th:only-of-type {\n",
       "        vertical-align: middle;\n",
       "    }\n",
       "\n",
       "    .dataframe tbody tr th {\n",
       "        vertical-align: top;\n",
       "    }\n",
       "\n",
       "    .dataframe thead th {\n",
       "        text-align: right;\n",
       "    }\n",
       "</style>\n",
       "<table border=\"1\" class=\"dataframe\">\n",
       "  <thead>\n",
       "    <tr style=\"text-align: right;\">\n",
       "      <th></th>\n",
       "      <th>age</th>\n",
       "      <th>bmi</th>\n",
       "      <th>bloodpressure</th>\n",
       "    </tr>\n",
       "  </thead>\n",
       "  <tbody>\n",
       "    <tr>\n",
       "      <th>0</th>\n",
       "      <td>-0.097012</td>\n",
       "      <td>-0.001642</td>\n",
       "      <td>0.172731</td>\n",
       "    </tr>\n",
       "    <tr>\n",
       "      <th>1</th>\n",
       "      <td>-1.793925</td>\n",
       "      <td>-0.653732</td>\n",
       "      <td>0.084849</td>\n",
       "    </tr>\n",
       "    <tr>\n",
       "      <th>2</th>\n",
       "      <td>-0.811502</td>\n",
       "      <td>0.797167</td>\n",
       "      <td>0.348495</td>\n",
       "    </tr>\n",
       "    <tr>\n",
       "      <th>3</th>\n",
       "      <td>0.528167</td>\n",
       "      <td>-0.246176</td>\n",
       "      <td>3.951657</td>\n",
       "    </tr>\n",
       "    <tr>\n",
       "      <th>4</th>\n",
       "      <td>-0.990124</td>\n",
       "      <td>0.894981</td>\n",
       "      <td>0.875787</td>\n",
       "    </tr>\n",
       "    <tr>\n",
       "      <th>...</th>\n",
       "      <td>...</td>\n",
       "      <td>...</td>\n",
       "      <td>...</td>\n",
       "    </tr>\n",
       "    <tr>\n",
       "      <th>1067</th>\n",
       "      <td>0.706789</td>\n",
       "      <td>-0.213571</td>\n",
       "      <td>-1.233381</td>\n",
       "    </tr>\n",
       "    <tr>\n",
       "      <th>1068</th>\n",
       "      <td>-0.275634</td>\n",
       "      <td>0.568936</td>\n",
       "      <td>-0.354561</td>\n",
       "    </tr>\n",
       "    <tr>\n",
       "      <th>1069</th>\n",
       "      <td>1.064034</td>\n",
       "      <td>-0.099456</td>\n",
       "      <td>-0.530325</td>\n",
       "    </tr>\n",
       "    <tr>\n",
       "      <th>1070</th>\n",
       "      <td>-1.079435</td>\n",
       "      <td>0.145078</td>\n",
       "      <td>0.084849</td>\n",
       "    </tr>\n",
       "    <tr>\n",
       "      <th>1071</th>\n",
       "      <td>-1.168746</td>\n",
       "      <td>0.047264</td>\n",
       "      <td>-0.706089</td>\n",
       "    </tr>\n",
       "  </tbody>\n",
       "</table>\n",
       "<p>1072 rows × 3 columns</p>\n",
       "</div>"
      ],
      "text/plain": [
       "           age       bmi  bloodpressure\n",
       "0    -0.097012 -0.001642       0.172731\n",
       "1    -1.793925 -0.653732       0.084849\n",
       "2    -0.811502  0.797167       0.348495\n",
       "3     0.528167 -0.246176       3.951657\n",
       "4    -0.990124  0.894981       0.875787\n",
       "...        ...       ...            ...\n",
       "1067  0.706789 -0.213571      -1.233381\n",
       "1068 -0.275634  0.568936      -0.354561\n",
       "1069  1.064034 -0.099456      -0.530325\n",
       "1070 -1.079435  0.145078       0.084849\n",
       "1071 -1.168746  0.047264      -0.706089\n",
       "\n",
       "[1072 rows x 3 columns]"
      ]
     },
     "execution_count": 11,
     "metadata": {},
     "output_type": "execute_result"
    }
   ],
   "source": [
    "scale_df=pd.DataFrame(scale_s_train,columns=x_train.columns)\n",
    "scale_df"
   ]
  },
  {
   "cell_type": "code",
   "execution_count": 12,
   "id": "070e1726",
   "metadata": {},
   "outputs": [
    {
     "data": {
      "text/html": [
       "<div>\n",
       "<style scoped>\n",
       "    .dataframe tbody tr th:only-of-type {\n",
       "        vertical-align: middle;\n",
       "    }\n",
       "\n",
       "    .dataframe tbody tr th {\n",
       "        vertical-align: top;\n",
       "    }\n",
       "\n",
       "    .dataframe thead th {\n",
       "        text-align: right;\n",
       "    }\n",
       "</style>\n",
       "<table border=\"1\" class=\"dataframe\">\n",
       "  <thead>\n",
       "    <tr style=\"text-align: right;\">\n",
       "      <th></th>\n",
       "      <th>age</th>\n",
       "      <th>bmi</th>\n",
       "      <th>bloodpressure</th>\n",
       "    </tr>\n",
       "  </thead>\n",
       "  <tbody>\n",
       "    <tr>\n",
       "      <th>count</th>\n",
       "      <td>1.067000e+03</td>\n",
       "      <td>1.072000e+03</td>\n",
       "      <td>1.072000e+03</td>\n",
       "    </tr>\n",
       "    <tr>\n",
       "      <th>mean</th>\n",
       "      <td>-8.657034e-17</td>\n",
       "      <td>4.308328e-17</td>\n",
       "      <td>2.916407e-16</td>\n",
       "    </tr>\n",
       "    <tr>\n",
       "      <th>std</th>\n",
       "      <td>1.000469e+00</td>\n",
       "      <td>1.000467e+00</td>\n",
       "      <td>1.000467e+00</td>\n",
       "    </tr>\n",
       "    <tr>\n",
       "      <th>min</th>\n",
       "      <td>-1.793925e+00</td>\n",
       "      <td>-2.381769e+00</td>\n",
       "      <td>-1.233381e+00</td>\n",
       "    </tr>\n",
       "    <tr>\n",
       "      <th>25%</th>\n",
       "      <td>-8.115016e-01</td>\n",
       "      <td>-7.189407e-01</td>\n",
       "      <td>-7.060893e-01</td>\n",
       "    </tr>\n",
       "    <tr>\n",
       "      <th>50%</th>\n",
       "      <td>-7.700686e-03</td>\n",
       "      <td>-5.054909e-02</td>\n",
       "      <td>-1.787973e-01</td>\n",
       "    </tr>\n",
       "    <tr>\n",
       "      <th>75%</th>\n",
       "      <td>7.961002e-01</td>\n",
       "      <td>6.667492e-01</td>\n",
       "      <td>4.363768e-01</td>\n",
       "    </tr>\n",
       "    <tr>\n",
       "      <th>max</th>\n",
       "      <td>1.957146e+00</td>\n",
       "      <td>3.666360e+00</td>\n",
       "      <td>4.039539e+00</td>\n",
       "    </tr>\n",
       "  </tbody>\n",
       "</table>\n",
       "</div>"
      ],
      "text/plain": [
       "                age           bmi  bloodpressure\n",
       "count  1.067000e+03  1.072000e+03   1.072000e+03\n",
       "mean  -8.657034e-17  4.308328e-17   2.916407e-16\n",
       "std    1.000469e+00  1.000467e+00   1.000467e+00\n",
       "min   -1.793925e+00 -2.381769e+00  -1.233381e+00\n",
       "25%   -8.115016e-01 -7.189407e-01  -7.060893e-01\n",
       "50%   -7.700686e-03 -5.054909e-02  -1.787973e-01\n",
       "75%    7.961002e-01  6.667492e-01   4.363768e-01\n",
       "max    1.957146e+00  3.666360e+00   4.039539e+00"
      ]
     },
     "execution_count": 12,
     "metadata": {},
     "output_type": "execute_result"
    }
   ],
   "source": [
    "scale_df.describe()"
   ]
  },
  {
   "cell_type": "markdown",
   "id": "872e7725",
   "metadata": {},
   "source": [
    "# Conclussion\n",
    "1. See that mean sould close to 0 and std should be 1"
   ]
  },
  {
   "cell_type": "markdown",
   "id": "1d12b296",
   "metadata": {},
   "source": [
    "# Custom Class"
   ]
  },
  {
   "cell_type": "markdown",
   "id": "c38acd58",
   "metadata": {},
   "source": [
    "# Std Formula\n",
    "1. `new_x = (x - x.mean()) / std(x)`"
   ]
  },
  {
   "cell_type": "code",
   "execution_count": 13,
   "id": "89735551",
   "metadata": {},
   "outputs": [],
   "source": [
    "class my_standzation:\n",
    "    def __init__(self):\n",
    "        self.mean=None\n",
    "        self.std=None\n",
    "        \n",
    "    def fit(self,x_train):\n",
    "        self.mean=np.mean(x_train)\n",
    "        self.std=np.std(x_train)\n",
    "    \n",
    "    def transform(self,x_train):\n",
    "        if(self.mean is not None and self.std is not None):\n",
    "            return (x_train-self.mean)/(self.std)\n",
    "        else:\n",
    "            raise ValueError(\"Mean and std is None\")\n",
    "    \n",
    "    def fit_transform(self,x_train):\n",
    "        \n",
    "        self.fit(x_train)\n",
    "        \n",
    "        return self.transform(x_train)"
   ]
  },
  {
   "cell_type": "markdown",
   "id": "beb34d2d",
   "metadata": {},
   "source": [
    "# Make the Obj of `Custom Class`"
   ]
  },
  {
   "cell_type": "code",
   "execution_count": 17,
   "id": "4c5f4fbd",
   "metadata": {},
   "outputs": [],
   "source": [
    "s=my_standzation()\n",
    "custom_x_train_scale=s.fit_transform(x_train)\n",
    "custom_x_test_scale=s.transform(x_test)"
   ]
  },
  {
   "cell_type": "code",
   "execution_count": 20,
   "id": "9bb6c851",
   "metadata": {},
   "outputs": [],
   "source": [
    "scale_df2=pd.DataFrame(custom_x_train_scale,columns=x_train.columns)"
   ]
  },
  {
   "cell_type": "markdown",
   "id": "eaf312a2",
   "metadata": {},
   "source": [
    "# Compare the result of `sklearn` and `custom` class"
   ]
  },
  {
   "cell_type": "code",
   "execution_count": 21,
   "id": "786c97a9",
   "metadata": {},
   "outputs": [
    {
     "data": {
      "text/html": [
       "<div>\n",
       "<style scoped>\n",
       "    .dataframe tbody tr th:only-of-type {\n",
       "        vertical-align: middle;\n",
       "    }\n",
       "\n",
       "    .dataframe tbody tr th {\n",
       "        vertical-align: top;\n",
       "    }\n",
       "\n",
       "    .dataframe thead th {\n",
       "        text-align: right;\n",
       "    }\n",
       "</style>\n",
       "<table border=\"1\" class=\"dataframe\">\n",
       "  <thead>\n",
       "    <tr style=\"text-align: right;\">\n",
       "      <th></th>\n",
       "      <th>age</th>\n",
       "      <th>bmi</th>\n",
       "      <th>bloodpressure</th>\n",
       "    </tr>\n",
       "  </thead>\n",
       "  <tbody>\n",
       "    <tr>\n",
       "      <th>0</th>\n",
       "      <td>-0.097012</td>\n",
       "      <td>-0.001642</td>\n",
       "      <td>0.172731</td>\n",
       "    </tr>\n",
       "    <tr>\n",
       "      <th>1</th>\n",
       "      <td>-1.793925</td>\n",
       "      <td>-0.653732</td>\n",
       "      <td>0.084849</td>\n",
       "    </tr>\n",
       "    <tr>\n",
       "      <th>2</th>\n",
       "      <td>-0.811502</td>\n",
       "      <td>0.797167</td>\n",
       "      <td>0.348495</td>\n",
       "    </tr>\n",
       "    <tr>\n",
       "      <th>3</th>\n",
       "      <td>0.528167</td>\n",
       "      <td>-0.246176</td>\n",
       "      <td>3.951657</td>\n",
       "    </tr>\n",
       "    <tr>\n",
       "      <th>4</th>\n",
       "      <td>-0.990124</td>\n",
       "      <td>0.894981</td>\n",
       "      <td>0.875787</td>\n",
       "    </tr>\n",
       "  </tbody>\n",
       "</table>\n",
       "</div>"
      ],
      "text/plain": [
       "        age       bmi  bloodpressure\n",
       "0 -0.097012 -0.001642       0.172731\n",
       "1 -1.793925 -0.653732       0.084849\n",
       "2 -0.811502  0.797167       0.348495\n",
       "3  0.528167 -0.246176       3.951657\n",
       "4 -0.990124  0.894981       0.875787"
      ]
     },
     "execution_count": 21,
     "metadata": {},
     "output_type": "execute_result"
    }
   ],
   "source": [
    "scale_df.head()"
   ]
  },
  {
   "cell_type": "code",
   "execution_count": 22,
   "id": "a42b7930",
   "metadata": {},
   "outputs": [
    {
     "data": {
      "text/html": [
       "<div>\n",
       "<style scoped>\n",
       "    .dataframe tbody tr th:only-of-type {\n",
       "        vertical-align: middle;\n",
       "    }\n",
       "\n",
       "    .dataframe tbody tr th {\n",
       "        vertical-align: top;\n",
       "    }\n",
       "\n",
       "    .dataframe thead th {\n",
       "        text-align: right;\n",
       "    }\n",
       "</style>\n",
       "<table border=\"1\" class=\"dataframe\">\n",
       "  <thead>\n",
       "    <tr style=\"text-align: right;\">\n",
       "      <th></th>\n",
       "      <th>age</th>\n",
       "      <th>bmi</th>\n",
       "      <th>bloodpressure</th>\n",
       "    </tr>\n",
       "  </thead>\n",
       "  <tbody>\n",
       "    <tr>\n",
       "      <th>144</th>\n",
       "      <td>-1.542294</td>\n",
       "      <td>-3.858537</td>\n",
       "      <td>3.667425</td>\n",
       "    </tr>\n",
       "    <tr>\n",
       "      <th>564</th>\n",
       "      <td>-3.239207</td>\n",
       "      <td>-4.510627</td>\n",
       "      <td>3.579543</td>\n",
       "    </tr>\n",
       "    <tr>\n",
       "      <th>1300</th>\n",
       "      <td>-2.256784</td>\n",
       "      <td>-3.059728</td>\n",
       "      <td>3.843189</td>\n",
       "    </tr>\n",
       "    <tr>\n",
       "      <th>1174</th>\n",
       "      <td>-0.917116</td>\n",
       "      <td>-4.103071</td>\n",
       "      <td>7.446351</td>\n",
       "    </tr>\n",
       "    <tr>\n",
       "      <th>717</th>\n",
       "      <td>-2.435406</td>\n",
       "      <td>-2.961915</td>\n",
       "      <td>4.370481</td>\n",
       "    </tr>\n",
       "  </tbody>\n",
       "</table>\n",
       "</div>"
      ],
      "text/plain": [
       "           age       bmi  bloodpressure\n",
       "144  -1.542294 -3.858537       3.667425\n",
       "564  -3.239207 -4.510627       3.579543\n",
       "1300 -2.256784 -3.059728       3.843189\n",
       "1174 -0.917116 -4.103071       7.446351\n",
       "717  -2.435406 -2.961915       4.370481"
      ]
     },
     "execution_count": 22,
     "metadata": {},
     "output_type": "execute_result"
    }
   ],
   "source": [
    "scale_df2.head()"
   ]
  },
  {
   "cell_type": "code",
   "execution_count": 23,
   "id": "1c37343f",
   "metadata": {},
   "outputs": [],
   "source": [
    "import matplotlib.pyplot as plt\n",
    "import seaborn as sns\n",
    "import warnings\n",
    "warnings.filterwarnings('ignore')"
   ]
  },
  {
   "cell_type": "code",
   "execution_count": 25,
   "id": "cd0653ef",
   "metadata": {},
   "outputs": [
    {
     "data": {
      "text/plain": [
       "<Axes: title={'center': 'After Scaling'}, xlabel='age', ylabel='bmi'>"
      ]
     },
     "execution_count": 25,
     "metadata": {},
     "output_type": "execute_result"
    },
    {
     "data": {
      "image/png": "[encoded data removed]",
      "text/plain": [
       "<Figure size 1500x600 with 2 Axes>"
      ]
     },
     "metadata": {},
     "output_type": "display_data"
    }
   ],
   "source": [
    "fig,(ax1,ax2)=plt.subplots(1,2,figsize=(15,6))\n",
    "ax1.set_title(\"Before Scaling\")\n",
    "sns.scatterplot(x=scale_df2['age'],y=scale_df2['bmi'],ax=ax1)\n",
    "\n",
    "ax2.set_title(\"After Scaling\")\n",
    "sns.scatterplot(x=scale_df['age'],y=scale_df['bmi'],ax=ax2)"
   ]
  },
  {
   "cell_type": "markdown",
   "id": "cd5620e6",
   "metadata": {},
   "source": [
    "# Conclussion\n",
    "1. We see that result should be same but the scale should be different"
   ]
  },
  {
   "cell_type": "code",
   "execution_count": null,
   "id": "b6ba619b",
   "metadata": {},
   "outputs": [],
   "source": []
  }
 ],
 "metadata": {
  "kernelspec": {
   "display_name": "Python 3 (ipykernel)",
   "language": "python",
   "name": "python3"
  },
  "language_info": {
   "codemirror_mode": {
    "name": "ipython",
    "version": 3
   },
   "file_extension": ".py",
   "mimetype": "text/x-python",
   "name": "python",
   "nbconvert_exporter": "python",
   "pygments_lexer": "ipython3",
   "version": "3.11.5"
  }
 },
 "nbformat": 4,
 "nbformat_minor": 5
}
