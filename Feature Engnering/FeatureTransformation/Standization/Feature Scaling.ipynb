{
 "cells": [
  {
   "cell_type": "markdown",
   "id": "b2599a1b",
   "metadata": {},
   "source": [
    "# Feature Scaling\n",
    "1. This is the part of feature engnering in feature scaling we can scale the feture in the range of (-1,1) b/c most of the algorithm can work better on scale feature.\n",
    "2. It can mean center the data."
   ]
  },
  {
   "cell_type": "markdown",
   "id": "cc372f36",
   "metadata": {},
   "source": [
    "# Import packages"
   ]
  },
  {
   "cell_type": "code",
   "execution_count": 74,
   "id": "80cf6e23",
   "metadata": {},
   "outputs": [],
   "source": [
    "import pandas as pd\n",
    "import numpy as np"
   ]
  },
  {
   "cell_type": "markdown",
   "id": "b0776afa",
   "metadata": {},
   "source": [
    "# Load the data set"
   ]
  },
  {
   "cell_type": "code",
   "execution_count": 75,
   "id": "d1041911",
   "metadata": {},
   "outputs": [],
   "source": [
    "data=pd.read_csv('insurance_data.csv')"
   ]
  },
  {
   "cell_type": "code",
   "execution_count": 76,
   "id": "6084bfcd",
   "metadata": {},
   "outputs": [
    {
     "data": {
      "text/html": [
       "<div>\n",
       "<style scoped>\n",
       "    .dataframe tbody tr th:only-of-type {\n",
       "        vertical-align: middle;\n",
       "    }\n",
       "\n",
       "    .dataframe tbody tr th {\n",
       "        vertical-align: top;\n",
       "    }\n",
       "\n",
       "    .dataframe thead th {\n",
       "        text-align: right;\n",
       "    }\n",
       "</style>\n",
       "<table border=\"1\" class=\"dataframe\">\n",
       "  <thead>\n",
       "    <tr style=\"text-align: right;\">\n",
       "      <th></th>\n",
       "      <th>index</th>\n",
       "      <th>PatientID</th>\n",
       "      <th>age</th>\n",
       "      <th>gender</th>\n",
       "      <th>bmi</th>\n",
       "      <th>bloodpressure</th>\n",
       "      <th>diabetic</th>\n",
       "      <th>children</th>\n",
       "      <th>smoker</th>\n",
       "      <th>region</th>\n",
       "      <th>claim</th>\n",
       "    </tr>\n",
       "  </thead>\n",
       "  <tbody>\n",
       "    <tr>\n",
       "      <th>0</th>\n",
       "      <td>0</td>\n",
       "      <td>1</td>\n",
       "      <td>39.0</td>\n",
       "      <td>male</td>\n",
       "      <td>23.2</td>\n",
       "      <td>91</td>\n",
       "      <td>Yes</td>\n",
       "      <td>0</td>\n",
       "      <td>No</td>\n",
       "      <td>southeast</td>\n",
       "      <td>1121.87</td>\n",
       "    </tr>\n",
       "    <tr>\n",
       "      <th>1</th>\n",
       "      <td>1</td>\n",
       "      <td>2</td>\n",
       "      <td>24.0</td>\n",
       "      <td>male</td>\n",
       "      <td>30.1</td>\n",
       "      <td>87</td>\n",
       "      <td>No</td>\n",
       "      <td>0</td>\n",
       "      <td>No</td>\n",
       "      <td>southeast</td>\n",
       "      <td>1131.51</td>\n",
       "    </tr>\n",
       "  </tbody>\n",
       "</table>\n",
       "</div>"
      ],
      "text/plain": [
       "   index  PatientID   age gender   bmi  bloodpressure diabetic  children  \\\n",
       "0      0          1  39.0   male  23.2             91      Yes         0   \n",
       "1      1          2  24.0   male  30.1             87       No         0   \n",
       "\n",
       "  smoker     region    claim  \n",
       "0     No  southeast  1121.87  \n",
       "1     No  southeast  1131.51  "
      ]
     },
     "execution_count": 76,
     "metadata": {},
     "output_type": "execute_result"
    }
   ],
   "source": [
    "data.head(2)"
   ]
  },
  {
   "cell_type": "markdown",
   "id": "092250c4",
   "metadata": {},
   "source": [
    "# Get only numerical columns"
   ]
  },
  {
   "cell_type": "code",
   "execution_count": 77,
   "id": "8cbb4143",
   "metadata": {},
   "outputs": [],
   "source": [
    "data.drop(columns=['index','PatientID','gender','region','diabetic','smoker'],inplace=True)"
   ]
  },
  {
   "cell_type": "code",
   "execution_count": 78,
   "id": "024cdec7",
   "metadata": {},
   "outputs": [
    {
     "data": {
      "text/html": [
       "<div>\n",
       "<style scoped>\n",
       "    .dataframe tbody tr th:only-of-type {\n",
       "        vertical-align: middle;\n",
       "    }\n",
       "\n",
       "    .dataframe tbody tr th {\n",
       "        vertical-align: top;\n",
       "    }\n",
       "\n",
       "    .dataframe thead th {\n",
       "        text-align: right;\n",
       "    }\n",
       "</style>\n",
       "<table border=\"1\" class=\"dataframe\">\n",
       "  <thead>\n",
       "    <tr style=\"text-align: right;\">\n",
       "      <th></th>\n",
       "      <th>age</th>\n",
       "      <th>bmi</th>\n",
       "      <th>bloodpressure</th>\n",
       "      <th>children</th>\n",
       "      <th>claim</th>\n",
       "    </tr>\n",
       "  </thead>\n",
       "  <tbody>\n",
       "    <tr>\n",
       "      <th>0</th>\n",
       "      <td>39.0</td>\n",
       "      <td>23.2</td>\n",
       "      <td>91</td>\n",
       "      <td>0</td>\n",
       "      <td>1121.87</td>\n",
       "    </tr>\n",
       "    <tr>\n",
       "      <th>1</th>\n",
       "      <td>24.0</td>\n",
       "      <td>30.1</td>\n",
       "      <td>87</td>\n",
       "      <td>0</td>\n",
       "      <td>1131.51</td>\n",
       "    </tr>\n",
       "  </tbody>\n",
       "</table>\n",
       "</div>"
      ],
      "text/plain": [
       "    age   bmi  bloodpressure  children    claim\n",
       "0  39.0  23.2             91         0  1121.87\n",
       "1  24.0  30.1             87         0  1131.51"
      ]
     },
     "execution_count": 78,
     "metadata": {},
     "output_type": "execute_result"
    }
   ],
   "source": [
    "data.head(2)"
   ]
  },
  {
   "cell_type": "markdown",
   "id": "5c00c323",
   "metadata": {},
   "source": [
    "# Drop null values"
   ]
  },
  {
   "cell_type": "code",
   "execution_count": 79,
   "id": "aa59cee1",
   "metadata": {},
   "outputs": [
    {
     "data": {
      "text/plain": [
       "age              5\n",
       "bmi              0\n",
       "bloodpressure    0\n",
       "children         0\n",
       "claim            0\n",
       "dtype: int64"
      ]
     },
     "execution_count": 79,
     "metadata": {},
     "output_type": "execute_result"
    }
   ],
   "source": [
    "data.isnull().sum()"
   ]
  },
  {
   "cell_type": "code",
   "execution_count": 80,
   "id": "bc1c1311",
   "metadata": {},
   "outputs": [],
   "source": [
    "data.dropna(inplace=True)"
   ]
  },
  {
   "cell_type": "code",
   "execution_count": 81,
   "id": "869fb605",
   "metadata": {},
   "outputs": [
    {
     "data": {
      "text/html": [
       "<div>\n",
       "<style scoped>\n",
       "    .dataframe tbody tr th:only-of-type {\n",
       "        vertical-align: middle;\n",
       "    }\n",
       "\n",
       "    .dataframe tbody tr th {\n",
       "        vertical-align: top;\n",
       "    }\n",
       "\n",
       "    .dataframe thead th {\n",
       "        text-align: right;\n",
       "    }\n",
       "</style>\n",
       "<table border=\"1\" class=\"dataframe\">\n",
       "  <thead>\n",
       "    <tr style=\"text-align: right;\">\n",
       "      <th></th>\n",
       "      <th>age</th>\n",
       "      <th>bmi</th>\n",
       "      <th>bloodpressure</th>\n",
       "      <th>children</th>\n",
       "      <th>claim</th>\n",
       "    </tr>\n",
       "  </thead>\n",
       "  <tbody>\n",
       "    <tr>\n",
       "      <th>count</th>\n",
       "      <td>1335.000000</td>\n",
       "      <td>1335.000000</td>\n",
       "      <td>1335.000000</td>\n",
       "      <td>1335.000000</td>\n",
       "      <td>1335.000000</td>\n",
       "    </tr>\n",
       "    <tr>\n",
       "      <th>mean</th>\n",
       "      <td>38.078652</td>\n",
       "      <td>30.654382</td>\n",
       "      <td>94.177528</td>\n",
       "      <td>1.097378</td>\n",
       "      <td>13298.120517</td>\n",
       "    </tr>\n",
       "    <tr>\n",
       "      <th>std</th>\n",
       "      <td>11.102924</td>\n",
       "      <td>6.112894</td>\n",
       "      <td>11.441296</td>\n",
       "      <td>1.205727</td>\n",
       "      <td>12109.503660</td>\n",
       "    </tr>\n",
       "    <tr>\n",
       "      <th>min</th>\n",
       "      <td>18.000000</td>\n",
       "      <td>16.000000</td>\n",
       "      <td>80.000000</td>\n",
       "      <td>0.000000</td>\n",
       "      <td>1121.870000</td>\n",
       "    </tr>\n",
       "    <tr>\n",
       "      <th>25%</th>\n",
       "      <td>29.000000</td>\n",
       "      <td>26.200000</td>\n",
       "      <td>86.000000</td>\n",
       "      <td>0.000000</td>\n",
       "      <td>4749.060000</td>\n",
       "    </tr>\n",
       "    <tr>\n",
       "      <th>50%</th>\n",
       "      <td>38.000000</td>\n",
       "      <td>30.300000</td>\n",
       "      <td>92.000000</td>\n",
       "      <td>1.000000</td>\n",
       "      <td>9391.350000</td>\n",
       "    </tr>\n",
       "    <tr>\n",
       "      <th>75%</th>\n",
       "      <td>47.000000</td>\n",
       "      <td>34.700000</td>\n",
       "      <td>99.000000</td>\n",
       "      <td>2.000000</td>\n",
       "      <td>16717.010000</td>\n",
       "    </tr>\n",
       "    <tr>\n",
       "      <th>max</th>\n",
       "      <td>60.000000</td>\n",
       "      <td>53.100000</td>\n",
       "      <td>140.000000</td>\n",
       "      <td>5.000000</td>\n",
       "      <td>63770.430000</td>\n",
       "    </tr>\n",
       "  </tbody>\n",
       "</table>\n",
       "</div>"
      ],
      "text/plain": [
       "               age          bmi  bloodpressure     children         claim\n",
       "count  1335.000000  1335.000000    1335.000000  1335.000000   1335.000000\n",
       "mean     38.078652    30.654382      94.177528     1.097378  13298.120517\n",
       "std      11.102924     6.112894      11.441296     1.205727  12109.503660\n",
       "min      18.000000    16.000000      80.000000     0.000000   1121.870000\n",
       "25%      29.000000    26.200000      86.000000     0.000000   4749.060000\n",
       "50%      38.000000    30.300000      92.000000     1.000000   9391.350000\n",
       "75%      47.000000    34.700000      99.000000     2.000000  16717.010000\n",
       "max      60.000000    53.100000     140.000000     5.000000  63770.430000"
      ]
     },
     "execution_count": 81,
     "metadata": {},
     "output_type": "execute_result"
    }
   ],
   "source": [
    "data.describe()"
   ]
  },
  {
   "cell_type": "markdown",
   "id": "64912c57",
   "metadata": {},
   "source": [
    "# Conslussion\n",
    "1. Age `mean` is `38.078652`\n",
    "2. bmi `mean` is `30.654382`\n",
    "3. blood pressure `mean` is `94.177528\t`\n",
    "4. children `mean` is `1`\n",
    "5. children `mean` is `13298.12`"
   ]
  },
  {
   "cell_type": "code",
   "execution_count": null,
   "id": "dc26d362",
   "metadata": {},
   "outputs": [],
   "source": []
  },
  {
   "cell_type": "markdown",
   "id": "e04f1422",
   "metadata": {},
   "source": [
    "# Saperate feature and target"
   ]
  },
  {
   "cell_type": "code",
   "execution_count": 82,
   "id": "531ab69b",
   "metadata": {},
   "outputs": [],
   "source": [
    "feature=data.drop(columns=['claim'])\n",
    "label=data['claim']"
   ]
  },
  {
   "cell_type": "markdown",
   "id": "dc3f3a1c",
   "metadata": {},
   "source": [
    "# Now First train the model before `standization`"
   ]
  },
  {
   "cell_type": "code",
   "execution_count": 83,
   "id": "f90fac1d",
   "metadata": {},
   "outputs": [],
   "source": [
    "from sklearn.model_selection import train_test_split"
   ]
  },
  {
   "cell_type": "code",
   "execution_count": 84,
   "id": "2a617f8e",
   "metadata": {},
   "outputs": [],
   "source": [
    "x_train,x_test,y_train,y_test=train_test_split(feature,label,test_size=0.2,random_state=42)"
   ]
  },
  {
   "cell_type": "markdown",
   "id": "0da90e77",
   "metadata": {},
   "source": [
    "# Fit the model"
   ]
  },
  {
   "cell_type": "code",
   "execution_count": 85,
   "id": "995df803",
   "metadata": {},
   "outputs": [],
   "source": [
    "from sklearn.linear_model import LinearRegression"
   ]
  },
  {
   "cell_type": "code",
   "execution_count": 86,
   "id": "9f89d30d",
   "metadata": {},
   "outputs": [],
   "source": [
    "cls=LinearRegression()"
   ]
  },
  {
   "cell_type": "code",
   "execution_count": 87,
   "id": "290a1d6d",
   "metadata": {},
   "outputs": [
    {
     "data": {
      "text/html": [
       "<style>#sk-container-id-4 {color: black;}#sk-container-id-4 pre{padding: 0;}#sk-container-id-4 div.sk-toggleable {background-color: white;}#sk-container-id-4 label.sk-toggleable__label {cursor: pointer;display: block;width: 100%;margin-bottom: 0;padding: 0.3em;box-sizing: border-box;text-align: center;}#sk-container-id-4 label.sk-toggleable__label-arrow:before {content: \"▸\";float: left;margin-right: 0.25em;color: #696969;}#sk-container-id-4 label.sk-toggleable__label-arrow:hover:before {color: black;}#sk-container-id-4 div.sk-estimator:hover label.sk-toggleable__label-arrow:before {color: black;}#sk-container-id-4 div.sk-toggleable__content {max-height: 0;max-width: 0;overflow: hidden;text-align: left;background-color: #f0f8ff;}#sk-container-id-4 div.sk-toggleable__content pre {margin: 0.2em;color: black;border-radius: 0.25em;background-color: #f0f8ff;}#sk-container-id-4 input.sk-toggleable__control:checked~div.sk-toggleable__content {max-height: 200px;max-width: 100%;overflow: auto;}#sk-container-id-4 input.sk-toggleable__control:checked~label.sk-toggleable__label-arrow:before {content: \"▾\";}#sk-container-id-4 div.sk-estimator input.sk-toggleable__control:checked~label.sk-toggleable__label {background-color: #d4ebff;}#sk-container-id-4 div.sk-label input.sk-toggleable__control:checked~label.sk-toggleable__label {background-color: #d4ebff;}#sk-container-id-4 input.sk-hidden--visually {border: 0;clip: rect(1px 1px 1px 1px);clip: rect(1px, 1px, 1px, 1px);height: 1px;margin: -1px;overflow: hidden;padding: 0;position: absolute;width: 1px;}#sk-container-id-4 div.sk-estimator {font-family: monospace;background-color: #f0f8ff;border: 1px dotted black;border-radius: 0.25em;box-sizing: border-box;margin-bottom: 0.5em;}#sk-container-id-4 div.sk-estimator:hover {background-color: #d4ebff;}#sk-container-id-4 div.sk-parallel-item::after {content: \"\";width: 100%;border-bottom: 1px solid gray;flex-grow: 1;}#sk-container-id-4 div.sk-label:hover label.sk-toggleable__label {background-color: #d4ebff;}#sk-container-id-4 div.sk-serial::before {content: \"\";position: absolute;border-left: 1px solid gray;box-sizing: border-box;top: 0;bottom: 0;left: 50%;z-index: 0;}#sk-container-id-4 div.sk-serial {display: flex;flex-direction: column;align-items: center;background-color: white;padding-right: 0.2em;padding-left: 0.2em;position: relative;}#sk-container-id-4 div.sk-item {position: relative;z-index: 1;}#sk-container-id-4 div.sk-parallel {display: flex;align-items: stretch;justify-content: center;background-color: white;position: relative;}#sk-container-id-4 div.sk-item::before, #sk-container-id-4 div.sk-parallel-item::before {content: \"\";position: absolute;border-left: 1px solid gray;box-sizing: border-box;top: 0;bottom: 0;left: 50%;z-index: -1;}#sk-container-id-4 div.sk-parallel-item {display: flex;flex-direction: column;z-index: 1;position: relative;background-color: white;}#sk-container-id-4 div.sk-parallel-item:first-child::after {align-self: flex-end;width: 50%;}#sk-container-id-4 div.sk-parallel-item:last-child::after {align-self: flex-start;width: 50%;}#sk-container-id-4 div.sk-parallel-item:only-child::after {width: 0;}#sk-container-id-4 div.sk-dashed-wrapped {border: 1px dashed gray;margin: 0 0.4em 0.5em 0.4em;box-sizing: border-box;padding-bottom: 0.4em;background-color: white;}#sk-container-id-4 div.sk-label label {font-family: monospace;font-weight: bold;display: inline-block;line-height: 1.2em;}#sk-container-id-4 div.sk-label-container {text-align: center;}#sk-container-id-4 div.sk-container {/* jupyter's `normalize.less` sets `[hidden] { display: none; }` but bootstrap.min.css set `[hidden] { display: none !important; }` so we also need the `!important` here to be able to override the default hidden behavior on the sphinx rendered scikit-learn.org. See: https://github.com/scikit-learn/scikit-learn/issues/21755 */display: inline-block !important;position: relative;}#sk-container-id-4 div.sk-text-repr-fallback {display: none;}</style><div id=\"sk-container-id-4\" class=\"sk-top-container\"><div class=\"sk-text-repr-fallback\"><pre>LinearRegression()</pre><b>In a Jupyter environment, please rerun this cell to show the HTML representation or trust the notebook. <br />On GitHub, the HTML representation is unable to render, please try loading this page with nbviewer.org.</b></div><div class=\"sk-container\" hidden><div class=\"sk-item\"><div class=\"sk-estimator sk-toggleable\"><input class=\"sk-toggleable__control sk-hidden--visually\" id=\"sk-estimator-id-4\" type=\"checkbox\" checked><label for=\"sk-estimator-id-4\" class=\"sk-toggleable__label sk-toggleable__label-arrow\">LinearRegression</label><div class=\"sk-toggleable__content\"><pre>LinearRegression()</pre></div></div></div></div></div>"
      ],
      "text/plain": [
       "LinearRegression()"
      ]
     },
     "execution_count": 87,
     "metadata": {},
     "output_type": "execute_result"
    }
   ],
   "source": [
    "cls.fit(x_train,y_train)"
   ]
  },
  {
   "cell_type": "code",
   "execution_count": 88,
   "id": "f4dc9b3b",
   "metadata": {},
   "outputs": [
    {
     "data": {
      "text/plain": [
       "array([14220.62730437, 11939.43187214, 35920.81956386,  9081.28622021,\n",
       "        9857.50977933, 12149.31860889, 10057.97493256, 16784.14312331,\n",
       "       12184.69941911, 16156.8052608 ,  7499.09519236, 13898.2020896 ,\n",
       "       10635.15973311, 14761.15199466, 16189.37763188,  7108.40557611,\n",
       "       12205.32678132,  7505.55140675, 13541.49121674, 10026.02069637,\n",
       "       17015.51779354, 12058.73844468,  9899.2495836 ,  9373.75063544,\n",
       "       22448.35052831,  8498.40359076, 21066.80768879,  9157.28613613,\n",
       "       12007.40086578, 14412.46352859, 10408.14210479,  7002.26922821,\n",
       "       11977.30148712,  8930.20038396, 10606.68615521, 20298.4752542 ,\n",
       "        5042.87236038,  9899.88474945, 20669.50558811, 15322.07732183,\n",
       "       11546.26074799, 18930.61736984, 11927.90447922, 14535.96301747,\n",
       "       12667.94560527,  7791.38529506,  8742.21797802, 15327.82857504,\n",
       "       10218.8997612 ,  4977.36363367, 10092.40768526, 22279.75212503,\n",
       "       22137.80031999, 12001.93949631,  8202.44148627, 13791.14556207,\n",
       "       19462.74705201, 16513.8637472 , 16908.02616623,  5591.34778356,\n",
       "       14651.46752457, 16883.4834988 , 10024.21992311, 13585.5818053 ,\n",
       "        6302.27165038, 17995.4076745 ,  4300.06471265, 15915.13992029,\n",
       "        9041.07666785, 17642.3609479 , 28662.76367446, 14756.34094343,\n",
       "       21976.88400683, 11004.77948471,  9081.38222193,  9811.36614574,\n",
       "       14902.93967412,  7013.16997076, 16297.35733044,  9545.15813781,\n",
       "       34325.18855577, 15443.54997208, 29596.5377997 , 10428.66494979,\n",
       "        7717.159946  , 12121.73226153, 10945.9785842 , 12352.43725112,\n",
       "       10349.30714236,  7488.29045154,  9221.14969968, 24489.02752499,\n",
       "       18007.54468682,  6041.53540597,  8055.81057223, 11950.51443117,\n",
       "        5066.09127179,  9838.97849242,  2910.83126754,  9579.91295761,\n",
       "        6801.14336269, 17110.63970625,  7659.21176124,  8383.34954293,\n",
       "       13114.47992833, 12781.55434892,  8040.58497112, 12221.02960675,\n",
       "       20847.29099406, 15190.26909246,  3195.49204449,  7353.99519018,\n",
       "       10460.20111716, 16401.81268047, 12223.50006064,  9387.26847363,\n",
       "       14945.28909779, 34937.80637224, 14356.15928837, 29701.65497485,\n",
       "        8795.73866559, 14945.61968037, 14073.87484216, 42617.4876013 ,\n",
       "       15543.38693429, 12403.68734377, 14399.9351067 , 14435.7869572 ,\n",
       "       12288.48620133,  7416.95383228, 16363.32559056, 12550.02406859,\n",
       "       13258.11947393, 15269.32186375,  5128.76302153, 16121.42379063,\n",
       "        7278.49120103,  7906.41125793, 16864.59674282,  5797.25849392,\n",
       "        8926.45959836, 17463.17535369,  7506.89031517, 17489.26530399,\n",
       "        3559.34417186, 11265.58573154, 18355.45089243,  8544.21542316,\n",
       "       16787.98908606,  9981.9920476 , 13747.99451554, 19257.87000684,\n",
       "       10392.81497787, 36489.81053518,  8733.4060139 ,  8300.21754793,\n",
       "        6971.06364342, 13972.97678975, 10491.71959362, 18926.66754983,\n",
       "       15309.2110205 , 10431.22243706, 24010.21923008, 20747.48809377,\n",
       "       14720.93392682, 10130.03354396,  4828.45239061, 10999.52481821,\n",
       "       13451.11223141, 14781.10967623, 27649.16369289, 14404.77292299,\n",
       "       13544.84181139, 13344.07207489, 16779.81162784, 13427.81368929,\n",
       "       19582.98343249, 24771.20015713,  5344.98442451,  6943.90342749,\n",
       "        7055.30184454, 10897.40940556, 10832.23126142, 13086.5806893 ,\n",
       "       17465.34077145, 20920.42838657,  7471.1867779 , 10321.62545322,\n",
       "        9398.56980117,  9025.94706847,  7545.41146701,  8694.58834141,\n",
       "       10663.44130756, 18648.83614726, 13115.71553815, 21480.6317216 ,\n",
       "       14425.21679723, 11466.38998283,  7632.85980508, 11553.98541551,\n",
       "        8337.87746855, 14874.89931744, 17646.85844751, 13162.83343565,\n",
       "       23623.91220218,  6017.60235795,  7536.13034118, 10251.38464604,\n",
       "        9510.51635069,  5395.12897099, 21981.33826908, 19948.39323678,\n",
       "       16930.37533093,  6296.57448144,  4469.53286263,  9578.24224801,\n",
       "        4523.57380479,  8133.88907962, 14863.10328174, 34903.59071657,\n",
       "       15945.25632992, 12916.40625823, 14047.08778622, 10846.64672419,\n",
       "       21570.03644301,  9033.17702784, 13237.37167637, 15397.85968785,\n",
       "       13574.42945094, 10641.78858855, 25468.04765925,  9332.65263393,\n",
       "        8325.24574807,  6102.02404705,  6124.37321175, 17386.93168148,\n",
       "       29137.08486381, 21556.30105494,  9242.33259702, 14593.46758697,\n",
       "       19166.62082194, 11038.47255436, 11898.38729495, 14876.60474892,\n",
       "       15498.80097762, 17495.76409578,  5889.70988667,  2880.01775226,\n",
       "       16018.2125659 , 12326.90394878,  2976.46154242, 18823.95103325,\n",
       "       15606.62506609,  7443.63637102,  9025.59945493,  8021.30736424,\n",
       "       12974.76354347, 20970.43435392, 11350.94574404,  7867.38455103,\n",
       "        5162.45609118,  3134.2892668 , 14358.60374296, 12757.90885321,\n",
       "       14178.80001386,  6882.68361884, 17483.14940627])"
      ]
     },
     "execution_count": 88,
     "metadata": {},
     "output_type": "execute_result"
    }
   ],
   "source": [
    "pre=cls.predict(x_test)\n",
    "pre"
   ]
  },
  {
   "cell_type": "markdown",
   "id": "fbd2d000",
   "metadata": {},
   "source": [
    "# Accuracy"
   ]
  },
  {
   "cell_type": "code",
   "execution_count": 89,
   "id": "a2a8d1cd",
   "metadata": {},
   "outputs": [],
   "source": [
    "from sklearn.metrics import mean_squared_error,r2_score"
   ]
  },
  {
   "cell_type": "code",
   "execution_count": 90,
   "id": "a0ef54de",
   "metadata": {},
   "outputs": [
    {
     "data": {
      "text/plain": [
       "117016350.88551871"
      ]
     },
     "execution_count": 90,
     "metadata": {},
     "output_type": "execute_result"
    }
   ],
   "source": [
    "score=mean_squared_error(y_test,pre)\n",
    "score"
   ]
  },
  {
   "cell_type": "code",
   "execution_count": 91,
   "id": "200316b9",
   "metadata": {},
   "outputs": [
    {
     "data": {
      "text/plain": [
       "0.24473196348397164"
      ]
     },
     "execution_count": 91,
     "metadata": {},
     "output_type": "execute_result"
    }
   ],
   "source": [
    "score=r2_score(y_test,pre)\n",
    "score"
   ]
  },
  {
   "cell_type": "markdown",
   "id": "8ffc11d8",
   "metadata": {},
   "source": [
    "# We see that `Error` is to large and `score` is to low"
   ]
  },
  {
   "cell_type": "markdown",
   "id": "a25cc811",
   "metadata": {},
   "source": [
    "# Now apply `Standization`"
   ]
  },
  {
   "cell_type": "code",
   "execution_count": 92,
   "id": "f9498a72",
   "metadata": {},
   "outputs": [],
   "source": [
    "from sklearn.preprocessing import StandardScaler"
   ]
  },
  {
   "cell_type": "code",
   "execution_count": 93,
   "id": "c22c6a0c",
   "metadata": {},
   "outputs": [],
   "source": [
    "scale=StandardScaler()\n",
    "x_train_scale=scale.fit_transform(x_train)\n",
    "x_test_scale=scale.transform(x_test)"
   ]
  },
  {
   "cell_type": "code",
   "execution_count": 98,
   "id": "781b8b2c",
   "metadata": {},
   "outputs": [
    {
     "data": {
      "text/html": [
       "<div>\n",
       "<style scoped>\n",
       "    .dataframe tbody tr th:only-of-type {\n",
       "        vertical-align: middle;\n",
       "    }\n",
       "\n",
       "    .dataframe tbody tr th {\n",
       "        vertical-align: top;\n",
       "    }\n",
       "\n",
       "    .dataframe thead th {\n",
       "        text-align: right;\n",
       "    }\n",
       "</style>\n",
       "<table border=\"1\" class=\"dataframe\">\n",
       "  <thead>\n",
       "    <tr style=\"text-align: right;\">\n",
       "      <th></th>\n",
       "      <th>age</th>\n",
       "      <th>bmi</th>\n",
       "      <th>bloodpressure</th>\n",
       "      <th>children</th>\n",
       "    </tr>\n",
       "  </thead>\n",
       "  <tbody>\n",
       "    <tr>\n",
       "      <th>0</th>\n",
       "      <td>-0.524881</td>\n",
       "      <td>1.363418</td>\n",
       "      <td>0.155713</td>\n",
       "      <td>-0.906097</td>\n",
       "    </tr>\n",
       "    <tr>\n",
       "      <th>1</th>\n",
       "      <td>0.377232</td>\n",
       "      <td>-0.852185</td>\n",
       "      <td>1.016486</td>\n",
       "      <td>0.758067</td>\n",
       "    </tr>\n",
       "    <tr>\n",
       "      <th>2</th>\n",
       "      <td>1.640191</td>\n",
       "      <td>-1.497025</td>\n",
       "      <td>-0.446828</td>\n",
       "      <td>-0.906097</td>\n",
       "    </tr>\n",
       "    <tr>\n",
       "      <th>3</th>\n",
       "      <td>0.106598</td>\n",
       "      <td>-1.844246</td>\n",
       "      <td>-0.274674</td>\n",
       "      <td>-0.074015</td>\n",
       "    </tr>\n",
       "    <tr>\n",
       "      <th>4</th>\n",
       "      <td>1.910825</td>\n",
       "      <td>1.495693</td>\n",
       "      <td>-1.135447</td>\n",
       "      <td>-0.906097</td>\n",
       "    </tr>\n",
       "    <tr>\n",
       "      <th>...</th>\n",
       "      <td>...</td>\n",
       "      <td>...</td>\n",
       "      <td>...</td>\n",
       "      <td>...</td>\n",
       "    </tr>\n",
       "    <tr>\n",
       "      <th>1063</th>\n",
       "      <td>-0.344459</td>\n",
       "      <td>-1.331681</td>\n",
       "      <td>1.102564</td>\n",
       "      <td>-0.906097</td>\n",
       "    </tr>\n",
       "    <tr>\n",
       "      <th>1064</th>\n",
       "      <td>-1.336784</td>\n",
       "      <td>-1.067131</td>\n",
       "      <td>0.241790</td>\n",
       "      <td>1.590149</td>\n",
       "    </tr>\n",
       "    <tr>\n",
       "      <th>1065</th>\n",
       "      <td>1.098923</td>\n",
       "      <td>3.612090</td>\n",
       "      <td>1.360796</td>\n",
       "      <td>-0.074015</td>\n",
       "    </tr>\n",
       "    <tr>\n",
       "      <th>1066</th>\n",
       "      <td>1.098923</td>\n",
       "      <td>0.338289</td>\n",
       "      <td>-0.705060</td>\n",
       "      <td>0.758067</td>\n",
       "    </tr>\n",
       "    <tr>\n",
       "      <th>1067</th>\n",
       "      <td>0.467443</td>\n",
       "      <td>-0.521498</td>\n",
       "      <td>1.102564</td>\n",
       "      <td>0.758067</td>\n",
       "    </tr>\n",
       "  </tbody>\n",
       "</table>\n",
       "<p>1068 rows × 4 columns</p>\n",
       "</div>"
      ],
      "text/plain": [
       "           age       bmi  bloodpressure  children\n",
       "0    -0.524881  1.363418       0.155713 -0.906097\n",
       "1     0.377232 -0.852185       1.016486  0.758067\n",
       "2     1.640191 -1.497025      -0.446828 -0.906097\n",
       "3     0.106598 -1.844246      -0.274674 -0.074015\n",
       "4     1.910825  1.495693      -1.135447 -0.906097\n",
       "...        ...       ...            ...       ...\n",
       "1063 -0.344459 -1.331681       1.102564 -0.906097\n",
       "1064 -1.336784 -1.067131       0.241790  1.590149\n",
       "1065  1.098923  3.612090       1.360796 -0.074015\n",
       "1066  1.098923  0.338289      -0.705060  0.758067\n",
       "1067  0.467443 -0.521498       1.102564  0.758067\n",
       "\n",
       "[1068 rows x 4 columns]"
      ]
     },
     "execution_count": 98,
     "metadata": {},
     "output_type": "execute_result"
    }
   ],
   "source": [
    "scale_df=pd.DataFrame(x_train_scale,columns=x_train.columns)\n",
    "scale_df"
   ]
  },
  {
   "cell_type": "code",
   "execution_count": 99,
   "id": "621a6a70",
   "metadata": {},
   "outputs": [
    {
     "data": {
      "text/html": [
       "<div>\n",
       "<style scoped>\n",
       "    .dataframe tbody tr th:only-of-type {\n",
       "        vertical-align: middle;\n",
       "    }\n",
       "\n",
       "    .dataframe tbody tr th {\n",
       "        vertical-align: top;\n",
       "    }\n",
       "\n",
       "    .dataframe thead th {\n",
       "        text-align: right;\n",
       "    }\n",
       "</style>\n",
       "<table border=\"1\" class=\"dataframe\">\n",
       "  <thead>\n",
       "    <tr style=\"text-align: right;\">\n",
       "      <th></th>\n",
       "      <th>age</th>\n",
       "      <th>bmi</th>\n",
       "      <th>bloodpressure</th>\n",
       "      <th>children</th>\n",
       "    </tr>\n",
       "  </thead>\n",
       "  <tbody>\n",
       "    <tr>\n",
       "      <th>count</th>\n",
       "      <td>1.068000e+03</td>\n",
       "      <td>1.068000e+03</td>\n",
       "      <td>1.068000e+03</td>\n",
       "      <td>1.068000e+03</td>\n",
       "    </tr>\n",
       "    <tr>\n",
       "      <th>mean</th>\n",
       "      <td>-2.960595e-16</td>\n",
       "      <td>-5.571906e-16</td>\n",
       "      <td>-3.060390e-16</td>\n",
       "      <td>-7.318324e-17</td>\n",
       "    </tr>\n",
       "    <tr>\n",
       "      <th>std</th>\n",
       "      <td>1.000468e+00</td>\n",
       "      <td>1.000468e+00</td>\n",
       "      <td>1.000468e+00</td>\n",
       "      <td>1.000468e+00</td>\n",
       "    </tr>\n",
       "    <tr>\n",
       "      <th>min</th>\n",
       "      <td>-1.787840e+00</td>\n",
       "      <td>-2.307208e+00</td>\n",
       "      <td>-1.221524e+00</td>\n",
       "      <td>-9.060966e-01</td>\n",
       "    </tr>\n",
       "    <tr>\n",
       "      <th>25%</th>\n",
       "      <td>-7.955154e-01</td>\n",
       "      <td>-7.199100e-01</td>\n",
       "      <td>-7.050604e-01</td>\n",
       "      <td>-9.060966e-01</td>\n",
       "    </tr>\n",
       "    <tr>\n",
       "      <th>50%</th>\n",
       "      <td>-7.382464e-02</td>\n",
       "      <td>-5.026877e-02</td>\n",
       "      <td>-1.885964e-01</td>\n",
       "      <td>-7.401477e-02</td>\n",
       "    </tr>\n",
       "    <tr>\n",
       "      <th>75%</th>\n",
       "      <td>7.380775e-01</td>\n",
       "      <td>6.524412e-01</td>\n",
       "      <td>4.139449e-01</td>\n",
       "      <td>7.580671e-01</td>\n",
       "    </tr>\n",
       "    <tr>\n",
       "      <th>max</th>\n",
       "      <td>2.001036e+00</td>\n",
       "      <td>3.694762e+00</td>\n",
       "      <td>3.943116e+00</td>\n",
       "      <td>3.254313e+00</td>\n",
       "    </tr>\n",
       "  </tbody>\n",
       "</table>\n",
       "</div>"
      ],
      "text/plain": [
       "                age           bmi  bloodpressure      children\n",
       "count  1.068000e+03  1.068000e+03   1.068000e+03  1.068000e+03\n",
       "mean  -2.960595e-16 -5.571906e-16  -3.060390e-16 -7.318324e-17\n",
       "std    1.000468e+00  1.000468e+00   1.000468e+00  1.000468e+00\n",
       "min   -1.787840e+00 -2.307208e+00  -1.221524e+00 -9.060966e-01\n",
       "25%   -7.955154e-01 -7.199100e-01  -7.050604e-01 -9.060966e-01\n",
       "50%   -7.382464e-02 -5.026877e-02  -1.885964e-01 -7.401477e-02\n",
       "75%    7.380775e-01  6.524412e-01   4.139449e-01  7.580671e-01\n",
       "max    2.001036e+00  3.694762e+00   3.943116e+00  3.254313e+00"
      ]
     },
     "execution_count": 99,
     "metadata": {},
     "output_type": "execute_result"
    }
   ],
   "source": [
    "scale_df.describe()"
   ]
  },
  {
   "cell_type": "markdown",
   "id": "26e321a0",
   "metadata": {},
   "source": [
    "# Conclussion\n",
    "1. See that mean should be almost 0 and std should be 1"
   ]
  },
  {
   "cell_type": "markdown",
   "id": "cddff223",
   "metadata": {},
   "source": [
    "# train model again"
   ]
  },
  {
   "cell_type": "code",
   "execution_count": 106,
   "id": "ffd96857",
   "metadata": {},
   "outputs": [
    {
     "data": {
      "text/html": [
       "<style>#sk-container-id-6 {color: black;}#sk-container-id-6 pre{padding: 0;}#sk-container-id-6 div.sk-toggleable {background-color: white;}#sk-container-id-6 label.sk-toggleable__label {cursor: pointer;display: block;width: 100%;margin-bottom: 0;padding: 0.3em;box-sizing: border-box;text-align: center;}#sk-container-id-6 label.sk-toggleable__label-arrow:before {content: \"▸\";float: left;margin-right: 0.25em;color: #696969;}#sk-container-id-6 label.sk-toggleable__label-arrow:hover:before {color: black;}#sk-container-id-6 div.sk-estimator:hover label.sk-toggleable__label-arrow:before {color: black;}#sk-container-id-6 div.sk-toggleable__content {max-height: 0;max-width: 0;overflow: hidden;text-align: left;background-color: #f0f8ff;}#sk-container-id-6 div.sk-toggleable__content pre {margin: 0.2em;color: black;border-radius: 0.25em;background-color: #f0f8ff;}#sk-container-id-6 input.sk-toggleable__control:checked~div.sk-toggleable__content {max-height: 200px;max-width: 100%;overflow: auto;}#sk-container-id-6 input.sk-toggleable__control:checked~label.sk-toggleable__label-arrow:before {content: \"▾\";}#sk-container-id-6 div.sk-estimator input.sk-toggleable__control:checked~label.sk-toggleable__label {background-color: #d4ebff;}#sk-container-id-6 div.sk-label input.sk-toggleable__control:checked~label.sk-toggleable__label {background-color: #d4ebff;}#sk-container-id-6 input.sk-hidden--visually {border: 0;clip: rect(1px 1px 1px 1px);clip: rect(1px, 1px, 1px, 1px);height: 1px;margin: -1px;overflow: hidden;padding: 0;position: absolute;width: 1px;}#sk-container-id-6 div.sk-estimator {font-family: monospace;background-color: #f0f8ff;border: 1px dotted black;border-radius: 0.25em;box-sizing: border-box;margin-bottom: 0.5em;}#sk-container-id-6 div.sk-estimator:hover {background-color: #d4ebff;}#sk-container-id-6 div.sk-parallel-item::after {content: \"\";width: 100%;border-bottom: 1px solid gray;flex-grow: 1;}#sk-container-id-6 div.sk-label:hover label.sk-toggleable__label {background-color: #d4ebff;}#sk-container-id-6 div.sk-serial::before {content: \"\";position: absolute;border-left: 1px solid gray;box-sizing: border-box;top: 0;bottom: 0;left: 50%;z-index: 0;}#sk-container-id-6 div.sk-serial {display: flex;flex-direction: column;align-items: center;background-color: white;padding-right: 0.2em;padding-left: 0.2em;position: relative;}#sk-container-id-6 div.sk-item {position: relative;z-index: 1;}#sk-container-id-6 div.sk-parallel {display: flex;align-items: stretch;justify-content: center;background-color: white;position: relative;}#sk-container-id-6 div.sk-item::before, #sk-container-id-6 div.sk-parallel-item::before {content: \"\";position: absolute;border-left: 1px solid gray;box-sizing: border-box;top: 0;bottom: 0;left: 50%;z-index: -1;}#sk-container-id-6 div.sk-parallel-item {display: flex;flex-direction: column;z-index: 1;position: relative;background-color: white;}#sk-container-id-6 div.sk-parallel-item:first-child::after {align-self: flex-end;width: 50%;}#sk-container-id-6 div.sk-parallel-item:last-child::after {align-self: flex-start;width: 50%;}#sk-container-id-6 div.sk-parallel-item:only-child::after {width: 0;}#sk-container-id-6 div.sk-dashed-wrapped {border: 1px dashed gray;margin: 0 0.4em 0.5em 0.4em;box-sizing: border-box;padding-bottom: 0.4em;background-color: white;}#sk-container-id-6 div.sk-label label {font-family: monospace;font-weight: bold;display: inline-block;line-height: 1.2em;}#sk-container-id-6 div.sk-label-container {text-align: center;}#sk-container-id-6 div.sk-container {/* jupyter's `normalize.less` sets `[hidden] { display: none; }` but bootstrap.min.css set `[hidden] { display: none !important; }` so we also need the `!important` here to be able to override the default hidden behavior on the sphinx rendered scikit-learn.org. See: https://github.com/scikit-learn/scikit-learn/issues/21755 */display: inline-block !important;position: relative;}#sk-container-id-6 div.sk-text-repr-fallback {display: none;}</style><div id=\"sk-container-id-6\" class=\"sk-top-container\"><div class=\"sk-text-repr-fallback\"><pre>LinearRegression()</pre><b>In a Jupyter environment, please rerun this cell to show the HTML representation or trust the notebook. <br />On GitHub, the HTML representation is unable to render, please try loading this page with nbviewer.org.</b></div><div class=\"sk-container\" hidden><div class=\"sk-item\"><div class=\"sk-estimator sk-toggleable\"><input class=\"sk-toggleable__control sk-hidden--visually\" id=\"sk-estimator-id-6\" type=\"checkbox\" checked><label for=\"sk-estimator-id-6\" class=\"sk-toggleable__label sk-toggleable__label-arrow\">LinearRegression</label><div class=\"sk-toggleable__content\"><pre>LinearRegression()</pre></div></div></div></div></div>"
      ],
      "text/plain": [
       "LinearRegression()"
      ]
     },
     "execution_count": 106,
     "metadata": {},
     "output_type": "execute_result"
    }
   ],
   "source": [
    "model=LinearRegression()\n",
    "model.fit(x_train_scale,y_train)"
   ]
  },
  {
   "cell_type": "code",
   "execution_count": 107,
   "id": "e2deca15",
   "metadata": {},
   "outputs": [],
   "source": [
    "pre=model.predict(x_test_scale)"
   ]
  },
  {
   "cell_type": "code",
   "execution_count": 108,
   "id": "4abfaac2",
   "metadata": {},
   "outputs": [
    {
     "data": {
      "text/plain": [
       "117016350.88551873"
      ]
     },
     "execution_count": 108,
     "metadata": {},
     "output_type": "execute_result"
    }
   ],
   "source": [
    "score=mean_squared_error(y_test,pre)\n",
    "score"
   ]
  },
  {
   "cell_type": "code",
   "execution_count": 109,
   "id": "1d5b5baf",
   "metadata": {},
   "outputs": [
    {
     "data": {
      "text/plain": [
       "0.24473196348397153"
      ]
     },
     "execution_count": 109,
     "metadata": {},
     "output_type": "execute_result"
    }
   ],
   "source": [
    "score=r2_score(y_test,pre)\n",
    "score"
   ]
  },
  {
   "cell_type": "code",
   "execution_count": 110,
   "id": "54f960c4",
   "metadata": {},
   "outputs": [
    {
     "data": {
      "text/plain": [
       "1.1102230246251565e-16"
      ]
     },
     "execution_count": 110,
     "metadata": {},
     "output_type": "execute_result"
    }
   ],
   "source": [
    "0.24473196348397164-0.24473196348397153"
   ]
  },
  {
   "cell_type": "markdown",
   "id": "95533906",
   "metadata": {},
   "source": [
    "# See that score should be increase `1.11022`"
   ]
  },
  {
   "cell_type": "markdown",
   "id": "bd3f85aa",
   "metadata": {},
   "source": [
    "# Checek the Distrubution before scaling and after scaling"
   ]
  },
  {
   "cell_type": "code",
   "execution_count": 115,
   "id": "8f5e97e8",
   "metadata": {},
   "outputs": [],
   "source": [
    "import matplotlib.pyplot as plt\n",
    "import seaborn as sns\n",
    "import warnings\n",
    "warnings.filterwarnings('ignore')"
   ]
  },
  {
   "cell_type": "code",
   "execution_count": 116,
   "id": "3245c609",
   "metadata": {},
   "outputs": [
    {
     "data": {
      "text/plain": [
       "<Axes: title={'center': 'After Scaling'}, xlabel='age', ylabel='bmi'>"
      ]
     },
     "execution_count": 116,
     "metadata": {},
     "output_type": "execute_result"
    },
    {
     "data": {
      "image/png": "[encoded data removed]",
      "text/plain": [
       "<Figure size 1500x600 with 2 Axes>"
      ]
     },
     "metadata": {},
     "output_type": "display_data"
    }
   ],
   "source": [
    "fig,(ax1,ax2)=plt.subplots(1,2,figsize=(15,6))\n",
    "ax1.set_title(\"Before Scaling\")\n",
    "sns.scatterplot(x=data['age'],y=data['bmi'],ax=ax1)\n",
    "\n",
    "ax2.set_title(\"After Scaling\")\n",
    "sns.scatterplot(x=scale_df['age'],y=scale_df['bmi'],ax=ax2)"
   ]
  },
  {
   "cell_type": "markdown",
   "id": "8d75ce53",
   "metadata": {},
   "source": [
    "# Conclussion\n",
    "1. we can see that distrubution Should be same but the scale should different"
   ]
  },
  {
   "cell_type": "code",
   "execution_count": null,
   "id": "a80662db",
   "metadata": {},
   "outputs": [],
   "source": []
  }
 ],
 "metadata": {
  "kernelspec": {
   "display_name": "Python 3 (ipykernel)",
   "language": "python",
   "name": "python3"
  },
  "language_info": {
   "codemirror_mode": {
    "name": "ipython",
    "version": 3
   },
   "file_extension": ".py",
   "mimetype": "text/x-python",
   "name": "python",
   "nbconvert_exporter": "python",
   "pygments_lexer": "ipython3",
   "version": "3.11.5"
  }
 },
 "nbformat": 4,
 "nbformat_minor": 5
}
