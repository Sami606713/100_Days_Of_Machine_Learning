{
 "cells": [
  {
   "cell_type": "markdown",
   "id": "80222c00",
   "metadata": {},
   "source": [
    "# UnerSampling\n",
    "1. UnderSampling is a technique to handel imbalance dataset.\n",
    "2. In this we can take the majorty class and sample them upto minorty class"
   ]
  },
  {
   "cell_type": "code",
   "execution_count": null,
   "id": "9c7f6a0c",
   "metadata": {},
   "outputs": [],
   "source": []
  },
  {
   "cell_type": "markdown",
   "id": "e21e9705",
   "metadata": {},
   "source": [
    "# Import Packages"
   ]
  },
  {
   "cell_type": "code",
   "execution_count": 25,
   "id": "eb301ae6",
   "metadata": {},
   "outputs": [],
   "source": [
    "import pandas as pd\n",
    "import seaborn as sns\n",
    "import matplotlib.pyplot as plt\n",
    "import warnings\n",
    "warnings.filterwarnings('ignore')"
   ]
  },
  {
   "cell_type": "markdown",
   "id": "0bba1fa8",
   "metadata": {},
   "source": [
    "# Load the dataset"
   ]
  },
  {
   "cell_type": "code",
   "execution_count": 5,
   "id": "d4fec9ad",
   "metadata": {},
   "outputs": [
    {
     "data": {
      "text/html": [
       "<div>\n",
       "<style scoped>\n",
       "    .dataframe tbody tr th:only-of-type {\n",
       "        vertical-align: middle;\n",
       "    }\n",
       "\n",
       "    .dataframe tbody tr th {\n",
       "        vertical-align: top;\n",
       "    }\n",
       "\n",
       "    .dataframe thead th {\n",
       "        text-align: right;\n",
       "    }\n",
       "</style>\n",
       "<table border=\"1\" class=\"dataframe\">\n",
       "  <thead>\n",
       "    <tr style=\"text-align: right;\">\n",
       "      <th></th>\n",
       "      <th>v1</th>\n",
       "      <th>v2</th>\n",
       "    </tr>\n",
       "  </thead>\n",
       "  <tbody>\n",
       "    <tr>\n",
       "      <th>0</th>\n",
       "      <td>ham</td>\n",
       "      <td>Go until jurong point, crazy.. Available only ...</td>\n",
       "    </tr>\n",
       "    <tr>\n",
       "      <th>1</th>\n",
       "      <td>ham</td>\n",
       "      <td>Ok lar... Joking wif u oni...</td>\n",
       "    </tr>\n",
       "  </tbody>\n",
       "</table>\n",
       "</div>"
      ],
      "text/plain": [
       "    v1                                                 v2\n",
       "0  ham  Go until jurong point, crazy.. Available only ...\n",
       "1  ham                      Ok lar... Joking wif u oni..."
      ]
     },
     "execution_count": 5,
     "metadata": {},
     "output_type": "execute_result"
    }
   ],
   "source": [
    "df=pd.read_csv('spam.csv',encoding='latin-1',usecols=['v1','v2'])\n",
    "df.head(2)"
   ]
  },
  {
   "cell_type": "markdown",
   "id": "f9e5f693",
   "metadata": {},
   "source": [
    "# see the distrubution"
   ]
  },
  {
   "cell_type": "code",
   "execution_count": 8,
   "id": "484e1dee",
   "metadata": {},
   "outputs": [
    {
     "data": {
      "text/plain": [
       "v1\n",
       "ham     4825\n",
       "spam     747\n",
       "Name: count, dtype: int64"
      ]
     },
     "execution_count": 8,
     "metadata": {},
     "output_type": "execute_result"
    }
   ],
   "source": [
    "df['v1'].value_counts()"
   ]
  },
  {
   "cell_type": "code",
   "execution_count": 10,
   "id": "220eb9cf",
   "metadata": {},
   "outputs": [
    {
     "data": {
      "text/plain": [
       "v1\n",
       "ham     86.593683\n",
       "spam    13.406317\n",
       "Name: proportion, dtype: float64"
      ]
     },
     "execution_count": 10,
     "metadata": {},
     "output_type": "execute_result"
    }
   ],
   "source": [
    "df['v1'].value_counts(normalize=True)*100"
   ]
  },
  {
   "cell_type": "code",
   "execution_count": 7,
   "id": "54ee7464",
   "metadata": {},
   "outputs": [
    {
     "data": {
      "text/plain": [
       "<Axes: xlabel='v1'>"
      ]
     },
     "execution_count": 7,
     "metadata": {},
     "output_type": "execute_result"
    },
    {
     "data": {
      "image/png": "[encoded data removed]",
      "text/plain": [
       "<Figure size 640x480 with 1 Axes>"
      ]
     },
     "metadata": {},
     "output_type": "display_data"
    }
   ],
   "source": [
    "df['v1'].value_counts().plot(kind='bar')"
   ]
  },
  {
   "cell_type": "markdown",
   "id": "ed520127",
   "metadata": {},
   "source": [
    "# Conclussion\n",
    "1. we can see that `86%` are not spam messages and `13%` are spam messages.\n",
    "2. Data is total imbalance."
   ]
  },
  {
   "cell_type": "markdown",
   "id": "a0df867c",
   "metadata": {},
   "source": [
    "# Now Apply `UnderSampling`"
   ]
  },
  {
   "cell_type": "code",
   "execution_count": 11,
   "id": "64d0c82d",
   "metadata": {},
   "outputs": [],
   "source": [
    "from imblearn.under_sampling import RandomUnderSampler"
   ]
  },
  {
   "cell_type": "code",
   "execution_count": 12,
   "id": "e4a8e852",
   "metadata": {},
   "outputs": [],
   "source": [
    "from sklearn.model_selection import train_test_split"
   ]
  },
  {
   "cell_type": "code",
   "execution_count": 13,
   "id": "3f98e444",
   "metadata": {},
   "outputs": [],
   "source": [
    "x_train,x_test,y_train,y_test=train_test_split(df.drop(columns='v1') ,df['v1'],test_size=0.2,random_state=42)"
   ]
  },
  {
   "cell_type": "code",
   "execution_count": 15,
   "id": "4783680e",
   "metadata": {},
   "outputs": [],
   "source": [
    "sample=RandomUnderSampler()\n",
    "x_train_resampled, y_train_resampled=sample.fit_resample(x_train,y_train)"
   ]
  },
  {
   "cell_type": "markdown",
   "id": "99bff154",
   "metadata": {},
   "source": [
    "# Now check the distrubution again"
   ]
  },
  {
   "cell_type": "code",
   "execution_count": 20,
   "id": "63598e32",
   "metadata": {},
   "outputs": [
    {
     "name": "stdout",
     "output_type": "stream",
     "text": [
      "Before sampling x_train: (4457, 1),Before sampling y_train: (4457,)\n",
      "After sampling x_train: (1194, 1),after sampling y_train: (1194,)\n"
     ]
    }
   ],
   "source": [
    "print(f\"Before sampling x_train: {x_train.shape},Before sampling y_train: {y_train.shape}\")\n",
    "print(f\"After sampling x_train: {x_train_resampled.shape},after sampling y_train: {y_train_resampled.shape}\")"
   ]
  },
  {
   "cell_type": "markdown",
   "id": "6752d5e4",
   "metadata": {},
   "source": [
    "**Now see that we can achieve the balance data but we can reduce the large amount of data**"
   ]
  },
  {
   "cell_type": "code",
   "execution_count": 27,
   "id": "8e7eb30a",
   "metadata": {},
   "outputs": [
    {
     "data": {
      "image/png": "[encoded data removed]",
      "text/plain": [
       "<Figure size 1500x700 with 2 Axes>"
      ]
     },
     "metadata": {},
     "output_type": "display_data"
    }
   ],
   "source": [
    "fig,(ax1,ax2)=plt.subplots(1,2,figsize=(15,7))\n",
    "ax1.set_title(\"Distrubution before sampling\")\n",
    "sns.barplot(x=y_train.value_counts().index,y=y_train.value_counts().values,ax=ax1)\n",
    "\n",
    "ax2.set_title(\"Distrubution before sampling\")\n",
    "sns.barplot(x=y_train_resampled.value_counts().index,y=y_train_resampled.value_counts().values,ax=ax2)\n",
    "plt.show()"
   ]
  },
  {
   "cell_type": "markdown",
   "id": "4cc7d4ab",
   "metadata": {},
   "source": [
    "# Advantages\n",
    "1. It is simple and easy to apply.\n",
    "# Disadvantages\n",
    "1. In this we can loss data.\n",
    "2. If we have very less nbr of minorty class and very large nbr of majorty class so we can loss the data."
   ]
  },
  {
   "cell_type": "code",
   "execution_count": null,
   "id": "0a256772",
   "metadata": {},
   "outputs": [],
   "source": []
  }
 ],
 "metadata": {
  "kernelspec": {
   "display_name": "Python 3 (ipykernel)",
   "language": "python",
   "name": "python3"
  },
  "language_info": {
   "codemirror_mode": {
    "name": "ipython",
    "version": 3
   },
   "file_extension": ".py",
   "mimetype": "text/x-python",
   "name": "python",
   "nbconvert_exporter": "python",
   "pygments_lexer": "ipython3",
   "version": "3.11.5"
  }
 },
 "nbformat": 4,
 "nbformat_minor": 5
}
