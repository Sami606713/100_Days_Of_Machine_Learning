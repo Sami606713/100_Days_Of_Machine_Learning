{
 "cells": [
  {
   "cell_type": "code",
   "execution_count": 1,
   "metadata": {
    "_cell_guid": "b1076dfc-b9ad-4769-8c92-a6c4dae69d19",
    "_uuid": "8f2839f25d086af736a60e9eeb907d3b93b6e0e5",
    "execution": {
     "iopub.execute_input": "2024-04-28T20:50:57.797718Z",
     "iopub.status.busy": "2024-04-28T20:50:57.797194Z",
     "iopub.status.idle": "2024-04-28T20:50:58.277660Z",
     "shell.execute_reply": "2024-04-28T20:50:58.276301Z",
     "shell.execute_reply.started": "2024-04-28T20:50:57.797678Z"
    }
   },
   "outputs": [],
   "source": [
    "import numpy as np # linear algebra\n",
    "import pandas as pd # data processing, CSV file I/O (e.g. pd.read_csv)"
   ]
  },
  {
   "cell_type": "markdown",
   "metadata": {},
   "source": [
    "# Itrative Imouter\n",
    "1. **Itrative Imputer is technique to fill the missing value using multiple columns.**\n",
    "2. **It is multiclass imputation.**"
   ]
  },
  {
   "cell_type": "markdown",
   "metadata": {},
   "source": [
    "# Working\n",
    "1. **First we can fill the missing value with mean.**\n",
    "2. **Second we can convert back into missing values.**\n",
    "3. **We can build a model to predict the missing value in this case missing data col is a target col and remaing are the feature columns.**\n",
    "4. **we calculate the difference b/w predicted value and mean value of the entire col.**\n",
    "5. **we can predict the value and calculate the difference continuw untill it difference is equal to 0.**"
   ]
  },
  {
   "cell_type": "markdown",
   "metadata": {},
   "source": [
    "# Advantage\n",
    "1. **Is is most accurate.**\n",
    "\n",
    "# Disadvantage\n",
    "1. **It is slow.**"
   ]
  },
  {
   "cell_type": "markdown",
   "metadata": {},
   "source": [
    "**Generate A Random Sample Data With 20% missing values**"
   ]
  },
  {
   "cell_type": "code",
   "execution_count": 2,
   "metadata": {
    "execution": {
     "iopub.execute_input": "2024-04-28T20:51:01.087641Z",
     "iopub.status.busy": "2024-04-28T20:51:01.087027Z",
     "iopub.status.idle": "2024-04-28T20:51:01.121662Z",
     "shell.execute_reply": "2024-04-28T20:51:01.120393Z",
     "shell.execute_reply.started": "2024-04-28T20:51:01.087607Z"
    }
   },
   "outputs": [
    {
     "data": {
      "text/html": [
       "<div>\n",
       "<style scoped>\n",
       "    .dataframe tbody tr th:only-of-type {\n",
       "        vertical-align: middle;\n",
       "    }\n",
       "\n",
       "    .dataframe tbody tr th {\n",
       "        vertical-align: top;\n",
       "    }\n",
       "\n",
       "    .dataframe thead th {\n",
       "        text-align: right;\n",
       "    }\n",
       "</style>\n",
       "<table border=\"1\" class=\"dataframe\">\n",
       "  <thead>\n",
       "    <tr style=\"text-align: right;\">\n",
       "      <th></th>\n",
       "      <th>feature0</th>\n",
       "      <th>feature1</th>\n",
       "      <th>feature2</th>\n",
       "      <th>feature3</th>\n",
       "      <th>feature4</th>\n",
       "      <th>feature5</th>\n",
       "      <th>feature6</th>\n",
       "      <th>feature7</th>\n",
       "      <th>feature8</th>\n",
       "      <th>feature9</th>\n",
       "    </tr>\n",
       "  </thead>\n",
       "  <tbody>\n",
       "    <tr>\n",
       "      <th>0</th>\n",
       "      <td>0.794987</td>\n",
       "      <td>0.185288</td>\n",
       "      <td>0.297527</td>\n",
       "      <td>0.752510</td>\n",
       "      <td>0.215122</td>\n",
       "      <td>0.679606</td>\n",
       "      <td>0.011710</td>\n",
       "      <td>0.508964</td>\n",
       "      <td>0.902590</td>\n",
       "      <td>0.017189</td>\n",
       "    </tr>\n",
       "    <tr>\n",
       "      <th>1</th>\n",
       "      <td>0.683341</td>\n",
       "      <td>0.960137</td>\n",
       "      <td>0.751410</td>\n",
       "      <td>0.212197</td>\n",
       "      <td>0.780384</td>\n",
       "      <td>0.250817</td>\n",
       "      <td>0.845451</td>\n",
       "      <td>0.679851</td>\n",
       "      <td>0.043136</td>\n",
       "      <td>0.696095</td>\n",
       "    </tr>\n",
       "    <tr>\n",
       "      <th>2</th>\n",
       "      <td>0.302159</td>\n",
       "      <td>0.858328</td>\n",
       "      <td>0.006710</td>\n",
       "      <td>0.667153</td>\n",
       "      <td>0.759781</td>\n",
       "      <td>0.128745</td>\n",
       "      <td>0.259902</td>\n",
       "      <td>0.791315</td>\n",
       "      <td>0.846652</td>\n",
       "      <td>0.751548</td>\n",
       "    </tr>\n",
       "    <tr>\n",
       "      <th>3</th>\n",
       "      <td>0.848491</td>\n",
       "      <td>0.754866</td>\n",
       "      <td>0.511372</td>\n",
       "      <td>0.921076</td>\n",
       "      <td>0.714787</td>\n",
       "      <td>0.724678</td>\n",
       "      <td>0.093481</td>\n",
       "      <td>0.736732</td>\n",
       "      <td>0.253550</td>\n",
       "      <td>0.874443</td>\n",
       "    </tr>\n",
       "    <tr>\n",
       "      <th>4</th>\n",
       "      <td>0.264751</td>\n",
       "      <td>0.872481</td>\n",
       "      <td>0.257885</td>\n",
       "      <td>0.067788</td>\n",
       "      <td>0.138708</td>\n",
       "      <td>0.876847</td>\n",
       "      <td>0.096497</td>\n",
       "      <td>0.165834</td>\n",
       "      <td>0.436622</td>\n",
       "      <td>0.766043</td>\n",
       "    </tr>\n",
       "  </tbody>\n",
       "</table>\n",
       "</div>"
      ],
      "text/plain": [
       "   feature0  feature1  feature2  feature3  feature4  feature5  feature6  \\\n",
       "0  0.794987  0.185288  0.297527  0.752510  0.215122  0.679606  0.011710   \n",
       "1  0.683341  0.960137  0.751410  0.212197  0.780384  0.250817  0.845451   \n",
       "2  0.302159  0.858328  0.006710  0.667153  0.759781  0.128745  0.259902   \n",
       "3  0.848491  0.754866  0.511372  0.921076  0.714787  0.724678  0.093481   \n",
       "4  0.264751  0.872481  0.257885  0.067788  0.138708  0.876847  0.096497   \n",
       "\n",
       "   feature7  feature8  feature9  \n",
       "0  0.508964  0.902590  0.017189  \n",
       "1  0.679851  0.043136  0.696095  \n",
       "2  0.791315  0.846652  0.751548  \n",
       "3  0.736732  0.253550  0.874443  \n",
       "4  0.165834  0.436622  0.766043  "
      ]
     },
     "execution_count": 2,
     "metadata": {},
     "output_type": "execute_result"
    }
   ],
   "source": [
    "num_rows=1000\n",
    "num_cols=10\n",
    "\n",
    "data=np.random.rand(num_rows,num_cols)\n",
    "\n",
    "df=pd.DataFrame(data, columns=[f\"feature{i}\" for i in range (num_cols)])\n",
    "\n",
    "df.head()\n",
    "       "
   ]
  },
  {
   "cell_type": "markdown",
   "metadata": {},
   "source": [
    "**Add the missing values**"
   ]
  },
  {
   "cell_type": "code",
   "execution_count": 3,
   "metadata": {
    "execution": {
     "iopub.execute_input": "2024-04-28T20:51:07.190275Z",
     "iopub.status.busy": "2024-04-28T20:51:07.188987Z",
     "iopub.status.idle": "2024-04-28T20:51:07.225667Z",
     "shell.execute_reply": "2024-04-28T20:51:07.224142Z",
     "shell.execute_reply.started": "2024-04-28T20:51:07.190234Z"
    }
   },
   "outputs": [
    {
     "name": "stdout",
     "output_type": "stream",
     "text": [
      "Sample Dataset with Missing Values:\n"
     ]
    },
    {
     "data": {
      "text/html": [
       "<div>\n",
       "<style scoped>\n",
       "    .dataframe tbody tr th:only-of-type {\n",
       "        vertical-align: middle;\n",
       "    }\n",
       "\n",
       "    .dataframe tbody tr th {\n",
       "        vertical-align: top;\n",
       "    }\n",
       "\n",
       "    .dataframe thead th {\n",
       "        text-align: right;\n",
       "    }\n",
       "</style>\n",
       "<table border=\"1\" class=\"dataframe\">\n",
       "  <thead>\n",
       "    <tr style=\"text-align: right;\">\n",
       "      <th></th>\n",
       "      <th>feature0</th>\n",
       "      <th>feature1</th>\n",
       "      <th>feature2</th>\n",
       "      <th>feature3</th>\n",
       "      <th>feature4</th>\n",
       "      <th>feature5</th>\n",
       "      <th>feature6</th>\n",
       "      <th>feature7</th>\n",
       "      <th>feature8</th>\n",
       "      <th>feature9</th>\n",
       "    </tr>\n",
       "  </thead>\n",
       "  <tbody>\n",
       "    <tr>\n",
       "      <th>0</th>\n",
       "      <td>0.794987</td>\n",
       "      <td>0.185288</td>\n",
       "      <td>0.297527</td>\n",
       "      <td>0.752510</td>\n",
       "      <td>0.215122</td>\n",
       "      <td>0.679606</td>\n",
       "      <td>0.011710</td>\n",
       "      <td>0.508964</td>\n",
       "      <td>0.902590</td>\n",
       "      <td>0.017189</td>\n",
       "    </tr>\n",
       "    <tr>\n",
       "      <th>1</th>\n",
       "      <td>0.683341</td>\n",
       "      <td>0.960137</td>\n",
       "      <td>0.751410</td>\n",
       "      <td>0.212197</td>\n",
       "      <td>0.780384</td>\n",
       "      <td>0.250817</td>\n",
       "      <td>NaN</td>\n",
       "      <td>0.679851</td>\n",
       "      <td>0.043136</td>\n",
       "      <td>0.696095</td>\n",
       "    </tr>\n",
       "    <tr>\n",
       "      <th>2</th>\n",
       "      <td>0.302159</td>\n",
       "      <td>0.858328</td>\n",
       "      <td>0.006710</td>\n",
       "      <td>0.667153</td>\n",
       "      <td>0.759781</td>\n",
       "      <td>0.128745</td>\n",
       "      <td>0.259902</td>\n",
       "      <td>0.791315</td>\n",
       "      <td>0.846652</td>\n",
       "      <td>0.751548</td>\n",
       "    </tr>\n",
       "    <tr>\n",
       "      <th>3</th>\n",
       "      <td>0.848491</td>\n",
       "      <td>0.754866</td>\n",
       "      <td>0.511372</td>\n",
       "      <td>0.921076</td>\n",
       "      <td>0.714787</td>\n",
       "      <td>0.724678</td>\n",
       "      <td>0.093481</td>\n",
       "      <td>0.736732</td>\n",
       "      <td>0.253550</td>\n",
       "      <td>0.874443</td>\n",
       "    </tr>\n",
       "    <tr>\n",
       "      <th>4</th>\n",
       "      <td>0.264751</td>\n",
       "      <td>0.872481</td>\n",
       "      <td>0.257885</td>\n",
       "      <td>0.067788</td>\n",
       "      <td>0.138708</td>\n",
       "      <td>0.876847</td>\n",
       "      <td>0.096497</td>\n",
       "      <td>0.165834</td>\n",
       "      <td>0.436622</td>\n",
       "      <td>0.766043</td>\n",
       "    </tr>\n",
       "  </tbody>\n",
       "</table>\n",
       "</div>"
      ],
      "text/plain": [
       "   feature0  feature1  feature2  feature3  feature4  feature5  feature6  \\\n",
       "0  0.794987  0.185288  0.297527  0.752510  0.215122  0.679606  0.011710   \n",
       "1  0.683341  0.960137  0.751410  0.212197  0.780384  0.250817       NaN   \n",
       "2  0.302159  0.858328  0.006710  0.667153  0.759781  0.128745  0.259902   \n",
       "3  0.848491  0.754866  0.511372  0.921076  0.714787  0.724678  0.093481   \n",
       "4  0.264751  0.872481  0.257885  0.067788  0.138708  0.876847  0.096497   \n",
       "\n",
       "   feature7  feature8  feature9  \n",
       "0  0.508964  0.902590  0.017189  \n",
       "1  0.679851  0.043136  0.696095  \n",
       "2  0.791315  0.846652  0.751548  \n",
       "3  0.736732  0.253550  0.874443  \n",
       "4  0.165834  0.436622  0.766043  "
      ]
     },
     "execution_count": 3,
     "metadata": {},
     "output_type": "execute_result"
    }
   ],
   "source": [
    "missing_ratio=0.010\n",
    "num_missing = int(np.round(num_rows * num_cols * missing_ratio))\n",
    "missing_indices = np.random.choice(range(num_rows), size=num_missing, replace=True)\n",
    "missing_columns = np.random.choice(range(num_cols), size=num_missing, replace=True)\n",
    "for i, j in zip(missing_indices, missing_columns):\n",
    "    df.iloc[i, j] = np.nan\n",
    "# Display the dataset with missing values\n",
    "print(\"Sample Dataset with Missing Values:\")\n",
    "df.head()"
   ]
  },
  {
   "cell_type": "markdown",
   "metadata": {},
   "source": [
    "**Now Check Missing value**"
   ]
  },
  {
   "cell_type": "code",
   "execution_count": 4,
   "metadata": {
    "execution": {
     "iopub.execute_input": "2024-04-28T20:51:12.785968Z",
     "iopub.status.busy": "2024-04-28T20:51:12.785550Z",
     "iopub.status.idle": "2024-04-28T20:51:12.795116Z",
     "shell.execute_reply": "2024-04-28T20:51:12.794141Z",
     "shell.execute_reply.started": "2024-04-28T20:51:12.785937Z"
    }
   },
   "outputs": [
    {
     "data": {
      "text/plain": [
       "feature0     8\n",
       "feature1    10\n",
       "feature2    10\n",
       "feature3    12\n",
       "feature4    11\n",
       "feature5    10\n",
       "feature6     8\n",
       "feature7     8\n",
       "feature8    11\n",
       "feature9    11\n",
       "dtype: int64"
      ]
     },
     "execution_count": 4,
     "metadata": {},
     "output_type": "execute_result"
    }
   ],
   "source": [
    "df.isnull().sum()"
   ]
  },
  {
   "cell_type": "markdown",
   "metadata": {},
   "source": [
    "**We can successfuly add missing values now fill the values using itrative imputer**"
   ]
  },
  {
   "cell_type": "markdown",
   "metadata": {},
   "source": [
    "# Train Test Split\n",
    "1. **We can split the data in this way we can use `last col` as target and remaing col as feature.**"
   ]
  },
  {
   "cell_type": "code",
   "execution_count": 5,
   "metadata": {
    "execution": {
     "iopub.execute_input": "2024-04-28T20:53:27.155497Z",
     "iopub.status.busy": "2024-04-28T20:53:27.155063Z",
     "iopub.status.idle": "2024-04-28T20:53:27.895337Z",
     "shell.execute_reply": "2024-04-28T20:53:27.894114Z",
     "shell.execute_reply.started": "2024-04-28T20:53:27.155467Z"
    }
   },
   "outputs": [],
   "source": [
    "from sklearn.model_selection import train_test_split"
   ]
  },
  {
   "cell_type": "code",
   "execution_count": 6,
   "metadata": {
    "execution": {
     "iopub.execute_input": "2024-04-28T20:53:29.145507Z",
     "iopub.status.busy": "2024-04-28T20:53:29.144546Z",
     "iopub.status.idle": "2024-04-28T20:53:29.152288Z",
     "shell.execute_reply": "2024-04-28T20:53:29.151121Z",
     "shell.execute_reply.started": "2024-04-28T20:53:29.145462Z"
    }
   },
   "outputs": [],
   "source": [
    "feature=df.iloc[:,:-1]\n",
    "label=df.iloc[:,-1]"
   ]
  },
  {
   "cell_type": "code",
   "execution_count": 7,
   "metadata": {
    "execution": {
     "iopub.execute_input": "2024-04-28T20:53:38.576751Z",
     "iopub.status.busy": "2024-04-28T20:53:38.576346Z",
     "iopub.status.idle": "2024-04-28T20:53:38.595276Z",
     "shell.execute_reply": "2024-04-28T20:53:38.593939Z",
     "shell.execute_reply.started": "2024-04-28T20:53:38.576721Z"
    }
   },
   "outputs": [
    {
     "data": {
      "text/html": [
       "<div>\n",
       "<style scoped>\n",
       "    .dataframe tbody tr th:only-of-type {\n",
       "        vertical-align: middle;\n",
       "    }\n",
       "\n",
       "    .dataframe tbody tr th {\n",
       "        vertical-align: top;\n",
       "    }\n",
       "\n",
       "    .dataframe thead th {\n",
       "        text-align: right;\n",
       "    }\n",
       "</style>\n",
       "<table border=\"1\" class=\"dataframe\">\n",
       "  <thead>\n",
       "    <tr style=\"text-align: right;\">\n",
       "      <th></th>\n",
       "      <th>feature0</th>\n",
       "      <th>feature1</th>\n",
       "      <th>feature2</th>\n",
       "      <th>feature3</th>\n",
       "      <th>feature4</th>\n",
       "      <th>feature5</th>\n",
       "      <th>feature6</th>\n",
       "      <th>feature7</th>\n",
       "      <th>feature8</th>\n",
       "    </tr>\n",
       "  </thead>\n",
       "  <tbody>\n",
       "    <tr>\n",
       "      <th>0</th>\n",
       "      <td>0.794987</td>\n",
       "      <td>0.185288</td>\n",
       "      <td>0.297527</td>\n",
       "      <td>0.752510</td>\n",
       "      <td>0.215122</td>\n",
       "      <td>0.679606</td>\n",
       "      <td>0.01171</td>\n",
       "      <td>0.508964</td>\n",
       "      <td>0.902590</td>\n",
       "    </tr>\n",
       "    <tr>\n",
       "      <th>1</th>\n",
       "      <td>0.683341</td>\n",
       "      <td>0.960137</td>\n",
       "      <td>0.751410</td>\n",
       "      <td>0.212197</td>\n",
       "      <td>0.780384</td>\n",
       "      <td>0.250817</td>\n",
       "      <td>NaN</td>\n",
       "      <td>0.679851</td>\n",
       "      <td>0.043136</td>\n",
       "    </tr>\n",
       "  </tbody>\n",
       "</table>\n",
       "</div>"
      ],
      "text/plain": [
       "   feature0  feature1  feature2  feature3  feature4  feature5  feature6  \\\n",
       "0  0.794987  0.185288  0.297527  0.752510  0.215122  0.679606   0.01171   \n",
       "1  0.683341  0.960137  0.751410  0.212197  0.780384  0.250817       NaN   \n",
       "\n",
       "   feature7  feature8  \n",
       "0  0.508964  0.902590  \n",
       "1  0.679851  0.043136  "
      ]
     },
     "execution_count": 7,
     "metadata": {},
     "output_type": "execute_result"
    }
   ],
   "source": [
    "feature.head(2)"
   ]
  },
  {
   "cell_type": "code",
   "execution_count": 8,
   "metadata": {
    "execution": {
     "iopub.execute_input": "2024-04-28T20:54:10.516471Z",
     "iopub.status.busy": "2024-04-28T20:54:10.516033Z",
     "iopub.status.idle": "2024-04-28T20:54:10.525937Z",
     "shell.execute_reply": "2024-04-28T20:54:10.524725Z",
     "shell.execute_reply.started": "2024-04-28T20:54:10.516440Z"
    }
   },
   "outputs": [
    {
     "data": {
      "text/plain": [
       "0    0.017189\n",
       "1    0.696095\n",
       "Name: feature9, dtype: float64"
      ]
     },
     "execution_count": 8,
     "metadata": {},
     "output_type": "execute_result"
    }
   ],
   "source": [
    "label.head(2)"
   ]
  },
  {
   "cell_type": "code",
   "execution_count": 9,
   "metadata": {
    "execution": {
     "iopub.execute_input": "2024-04-28T20:56:13.839818Z",
     "iopub.status.busy": "2024-04-28T20:56:13.839419Z",
     "iopub.status.idle": "2024-04-28T20:56:13.852072Z",
     "shell.execute_reply": "2024-04-28T20:56:13.850904Z",
     "shell.execute_reply.started": "2024-04-28T20:56:13.839787Z"
    }
   },
   "outputs": [],
   "source": [
    "x_train,x_test,y_train,y_test=train_test_split(feature,label,test_size=0.2,random_state=42)"
   ]
  },
  {
   "cell_type": "code",
   "execution_count": 10,
   "metadata": {
    "execution": {
     "iopub.execute_input": "2024-04-28T20:56:30.456702Z",
     "iopub.status.busy": "2024-04-28T20:56:30.456259Z",
     "iopub.status.idle": "2024-04-28T20:56:30.464304Z",
     "shell.execute_reply": "2024-04-28T20:56:30.463222Z",
     "shell.execute_reply.started": "2024-04-28T20:56:30.456671Z"
    }
   },
   "outputs": [
    {
     "data": {
      "text/plain": [
       "(800, 9)"
      ]
     },
     "execution_count": 10,
     "metadata": {},
     "output_type": "execute_result"
    }
   ],
   "source": [
    "x_train.shape"
   ]
  },
  {
   "cell_type": "code",
   "execution_count": 11,
   "metadata": {
    "execution": {
     "iopub.execute_input": "2024-04-28T20:56:42.096779Z",
     "iopub.status.busy": "2024-04-28T20:56:42.096364Z",
     "iopub.status.idle": "2024-04-28T20:56:42.107408Z",
     "shell.execute_reply": "2024-04-28T20:56:42.106127Z",
     "shell.execute_reply.started": "2024-04-28T20:56:42.096745Z"
    }
   },
   "outputs": [
    {
     "data": {
      "text/plain": [
       "(200, 9)"
      ]
     },
     "execution_count": 11,
     "metadata": {},
     "output_type": "execute_result"
    }
   ],
   "source": [
    "x_test.shape"
   ]
  },
  {
   "cell_type": "markdown",
   "metadata": {},
   "source": [
    "**Apply Iterative Imputer**"
   ]
  },
  {
   "cell_type": "code",
   "execution_count": 12,
   "metadata": {
    "execution": {
     "iopub.execute_input": "2024-04-28T20:55:21.098241Z",
     "iopub.status.busy": "2024-04-28T20:55:21.097781Z",
     "iopub.status.idle": "2024-04-28T20:55:21.103503Z",
     "shell.execute_reply": "2024-04-28T20:55:21.102570Z",
     "shell.execute_reply.started": "2024-04-28T20:55:21.098209Z"
    }
   },
   "outputs": [],
   "source": [
    "from sklearn.experimental import enable_iterative_imputer\n",
    "from sklearn.impute import IterativeImputer"
   ]
  },
  {
   "cell_type": "code",
   "execution_count": 13,
   "metadata": {
    "execution": {
     "iopub.execute_input": "2024-04-28T20:57:56.643720Z",
     "iopub.status.busy": "2024-04-28T20:57:56.643231Z",
     "iopub.status.idle": "2024-04-28T20:57:56.718554Z",
     "shell.execute_reply": "2024-04-28T20:57:56.717418Z",
     "shell.execute_reply.started": "2024-04-28T20:57:56.643679Z"
    }
   },
   "outputs": [],
   "source": [
    "impute=IterativeImputer()\n",
    "x_train_impute=impute.fit_transform(x_train)\n",
    "x_test_impute=impute.transform(x_test)"
   ]
  },
  {
   "cell_type": "markdown",
   "metadata": {},
   "source": [
    "# Check the result"
   ]
  },
  {
   "cell_type": "code",
   "execution_count": 14,
   "metadata": {
    "execution": {
     "iopub.execute_input": "2024-04-28T20:59:12.516517Z",
     "iopub.status.busy": "2024-04-28T20:59:12.516133Z",
     "iopub.status.idle": "2024-04-28T20:59:12.526679Z",
     "shell.execute_reply": "2024-04-28T20:59:12.525770Z",
     "shell.execute_reply.started": "2024-04-28T20:59:12.516488Z"
    }
   },
   "outputs": [
    {
     "data": {
      "text/plain": [
       "feature0    0\n",
       "feature1    0\n",
       "feature2    0\n",
       "feature3    0\n",
       "feature4    0\n",
       "feature5    0\n",
       "feature6    0\n",
       "feature7    0\n",
       "feature8    0\n",
       "dtype: int64"
      ]
     },
     "execution_count": 14,
     "metadata": {},
     "output_type": "execute_result"
    }
   ],
   "source": [
    "pd.DataFrame(x_train_impute,columns=x_train.columns).isnull().sum()"
   ]
  },
  {
   "cell_type": "code",
   "execution_count": null,
   "metadata": {},
   "outputs": [],
   "source": []
  },
  {
   "cell_type": "code",
   "execution_count": null,
   "metadata": {},
   "outputs": [],
   "source": []
  }
 ],
 "metadata": {
  "kaggle": {
   "accelerator": "none",
   "dataSources": [],
   "dockerImageVersionId": 30698,
   "isGpuEnabled": false,
   "isInternetEnabled": true,
   "language": "python",
   "sourceType": "notebook"
  },
  "kernelspec": {
   "display_name": "Python 3 (ipykernel)",
   "language": "python",
   "name": "python3"
  },
  "language_info": {
   "codemirror_mode": {
    "name": "ipython",
    "version": 3
   },
   "file_extension": ".py",
   "mimetype": "text/x-python",
   "name": "python",
   "nbconvert_exporter": "python",
   "pygments_lexer": "ipython3",
   "version": "3.11.5"
  }
 },
 "nbformat": 4,
 "nbformat_minor": 4
}
