{
 "cells": [
  {
   "cell_type": "markdown",
   "id": "095022cb",
   "metadata": {},
   "source": [
    "# Load Packages"
   ]
  },
  {
   "cell_type": "code",
   "execution_count": 1,
   "id": "3dd1845e",
   "metadata": {},
   "outputs": [],
   "source": [
    "import pandas as pd\n",
    "import numpy as np"
   ]
  },
  {
   "cell_type": "markdown",
   "id": "8ec910f6",
   "metadata": {},
   "source": [
    "# Load dataset"
   ]
  },
  {
   "cell_type": "code",
   "execution_count": 3,
   "id": "bf1212ef",
   "metadata": {},
   "outputs": [],
   "source": [
    "df=pd.read_csv(\"salaries.csv\")"
   ]
  },
  {
   "cell_type": "markdown",
   "id": "124297c5",
   "metadata": {},
   "source": [
    "# Understanding Data\n",
    "**For understanding data we can ask these basic questions**\n",
    "\n",
    "1. **Shape of data**\n",
    "2. **Datatypes**\n",
    "3. **How many columns are**\n",
    "4. **Null values**\n",
    "5. **Duplicates**\n",
    "6. **Statistical Summary**\n",
    "7. **Info**"
   ]
  },
  {
   "cell_type": "markdown",
   "id": "4dabbbc4",
   "metadata": {},
   "source": [
    "# What is the shape of data"
   ]
  },
  {
   "cell_type": "code",
   "execution_count": 4,
   "id": "77a07f48",
   "metadata": {},
   "outputs": [
    {
     "data": {
      "text/plain": [
       "(13972, 11)"
      ]
     },
     "execution_count": 4,
     "metadata": {},
     "output_type": "execute_result"
    }
   ],
   "source": [
    "df.shape"
   ]
  },
  {
   "cell_type": "markdown",
   "id": "658b76c8",
   "metadata": {},
   "source": [
    "# What the data look like"
   ]
  },
  {
   "cell_type": "code",
   "execution_count": 15,
   "id": "b67df2fb",
   "metadata": {},
   "outputs": [
    {
     "data": {
      "text/html": [
       "<div>\n",
       "<style scoped>\n",
       "    .dataframe tbody tr th:only-of-type {\n",
       "        vertical-align: middle;\n",
       "    }\n",
       "\n",
       "    .dataframe tbody tr th {\n",
       "        vertical-align: top;\n",
       "    }\n",
       "\n",
       "    .dataframe thead th {\n",
       "        text-align: right;\n",
       "    }\n",
       "</style>\n",
       "<table border=\"1\" class=\"dataframe\">\n",
       "  <thead>\n",
       "    <tr style=\"text-align: right;\">\n",
       "      <th></th>\n",
       "      <th>work_year</th>\n",
       "      <th>experience_level</th>\n",
       "      <th>employment_type</th>\n",
       "      <th>job_title</th>\n",
       "      <th>salary</th>\n",
       "      <th>salary_currency</th>\n",
       "      <th>salary_in_usd</th>\n",
       "      <th>employee_residence</th>\n",
       "      <th>remote_ratio</th>\n",
       "      <th>company_location</th>\n",
       "      <th>company_size</th>\n",
       "    </tr>\n",
       "  </thead>\n",
       "  <tbody>\n",
       "    <tr>\n",
       "      <th>0</th>\n",
       "      <td>2024</td>\n",
       "      <td>SE</td>\n",
       "      <td>FT</td>\n",
       "      <td>AI Engineer</td>\n",
       "      <td>90000</td>\n",
       "      <td>USD</td>\n",
       "      <td>90000</td>\n",
       "      <td>AE</td>\n",
       "      <td>0</td>\n",
       "      <td>AE</td>\n",
       "      <td>L</td>\n",
       "    </tr>\n",
       "    <tr>\n",
       "      <th>1</th>\n",
       "      <td>2024</td>\n",
       "      <td>SE</td>\n",
       "      <td>FT</td>\n",
       "      <td>Machine Learning Engineer</td>\n",
       "      <td>180500</td>\n",
       "      <td>USD</td>\n",
       "      <td>180500</td>\n",
       "      <td>US</td>\n",
       "      <td>0</td>\n",
       "      <td>US</td>\n",
       "      <td>M</td>\n",
       "    </tr>\n",
       "    <tr>\n",
       "      <th>2</th>\n",
       "      <td>2024</td>\n",
       "      <td>SE</td>\n",
       "      <td>FT</td>\n",
       "      <td>Machine Learning Engineer</td>\n",
       "      <td>96200</td>\n",
       "      <td>USD</td>\n",
       "      <td>96200</td>\n",
       "      <td>US</td>\n",
       "      <td>0</td>\n",
       "      <td>US</td>\n",
       "      <td>M</td>\n",
       "    </tr>\n",
       "    <tr>\n",
       "      <th>3</th>\n",
       "      <td>2024</td>\n",
       "      <td>SE</td>\n",
       "      <td>FT</td>\n",
       "      <td>Machine Learning Engineer</td>\n",
       "      <td>235000</td>\n",
       "      <td>USD</td>\n",
       "      <td>235000</td>\n",
       "      <td>AU</td>\n",
       "      <td>0</td>\n",
       "      <td>AU</td>\n",
       "      <td>M</td>\n",
       "    </tr>\n",
       "    <tr>\n",
       "      <th>4</th>\n",
       "      <td>2024</td>\n",
       "      <td>SE</td>\n",
       "      <td>FT</td>\n",
       "      <td>Machine Learning Engineer</td>\n",
       "      <td>175000</td>\n",
       "      <td>USD</td>\n",
       "      <td>175000</td>\n",
       "      <td>AU</td>\n",
       "      <td>0</td>\n",
       "      <td>AU</td>\n",
       "      <td>M</td>\n",
       "    </tr>\n",
       "  </tbody>\n",
       "</table>\n",
       "</div>"
      ],
      "text/plain": [
       "   work_year experience_level employment_type                  job_title  \\\n",
       "0       2024               SE              FT                AI Engineer   \n",
       "1       2024               SE              FT  Machine Learning Engineer   \n",
       "2       2024               SE              FT  Machine Learning Engineer   \n",
       "3       2024               SE              FT  Machine Learning Engineer   \n",
       "4       2024               SE              FT  Machine Learning Engineer   \n",
       "\n",
       "   salary salary_currency  salary_in_usd employee_residence  remote_ratio  \\\n",
       "0   90000             USD          90000                 AE             0   \n",
       "1  180500             USD         180500                 US             0   \n",
       "2   96200             USD          96200                 US             0   \n",
       "3  235000             USD         235000                 AU             0   \n",
       "4  175000             USD         175000                 AU             0   \n",
       "\n",
       "  company_location company_size  \n",
       "0               AE            L  \n",
       "1               US            M  \n",
       "2               US            M  \n",
       "3               AU            M  \n",
       "4               AU            M  "
      ]
     },
     "execution_count": 15,
     "metadata": {},
     "output_type": "execute_result"
    }
   ],
   "source": [
    "df.head()"
   ]
  },
  {
   "cell_type": "code",
   "execution_count": 17,
   "id": "8b2f848e",
   "metadata": {},
   "outputs": [
    {
     "data": {
      "text/html": [
       "<div>\n",
       "<style scoped>\n",
       "    .dataframe tbody tr th:only-of-type {\n",
       "        vertical-align: middle;\n",
       "    }\n",
       "\n",
       "    .dataframe tbody tr th {\n",
       "        vertical-align: top;\n",
       "    }\n",
       "\n",
       "    .dataframe thead th {\n",
       "        text-align: right;\n",
       "    }\n",
       "</style>\n",
       "<table border=\"1\" class=\"dataframe\">\n",
       "  <thead>\n",
       "    <tr style=\"text-align: right;\">\n",
       "      <th></th>\n",
       "      <th>work_year</th>\n",
       "      <th>experience_level</th>\n",
       "      <th>employment_type</th>\n",
       "      <th>job_title</th>\n",
       "      <th>salary</th>\n",
       "      <th>salary_currency</th>\n",
       "      <th>salary_in_usd</th>\n",
       "      <th>employee_residence</th>\n",
       "      <th>remote_ratio</th>\n",
       "      <th>company_location</th>\n",
       "      <th>company_size</th>\n",
       "    </tr>\n",
       "  </thead>\n",
       "  <tbody>\n",
       "    <tr>\n",
       "      <th>5190</th>\n",
       "      <td>2023</td>\n",
       "      <td>SE</td>\n",
       "      <td>FT</td>\n",
       "      <td>Data Analyst</td>\n",
       "      <td>105000</td>\n",
       "      <td>USD</td>\n",
       "      <td>105000</td>\n",
       "      <td>US</td>\n",
       "      <td>0</td>\n",
       "      <td>US</td>\n",
       "      <td>M</td>\n",
       "    </tr>\n",
       "    <tr>\n",
       "      <th>4701</th>\n",
       "      <td>2023</td>\n",
       "      <td>MI</td>\n",
       "      <td>FT</td>\n",
       "      <td>Machine Learning Engineer</td>\n",
       "      <td>130000</td>\n",
       "      <td>USD</td>\n",
       "      <td>130000</td>\n",
       "      <td>US</td>\n",
       "      <td>0</td>\n",
       "      <td>US</td>\n",
       "      <td>M</td>\n",
       "    </tr>\n",
       "    <tr>\n",
       "      <th>6562</th>\n",
       "      <td>2023</td>\n",
       "      <td>SE</td>\n",
       "      <td>FT</td>\n",
       "      <td>Data Modeler</td>\n",
       "      <td>140000</td>\n",
       "      <td>USD</td>\n",
       "      <td>140000</td>\n",
       "      <td>US</td>\n",
       "      <td>0</td>\n",
       "      <td>US</td>\n",
       "      <td>M</td>\n",
       "    </tr>\n",
       "    <tr>\n",
       "      <th>1391</th>\n",
       "      <td>2024</td>\n",
       "      <td>MI</td>\n",
       "      <td>FT</td>\n",
       "      <td>Business Intelligence Manager</td>\n",
       "      <td>207000</td>\n",
       "      <td>USD</td>\n",
       "      <td>207000</td>\n",
       "      <td>US</td>\n",
       "      <td>0</td>\n",
       "      <td>US</td>\n",
       "      <td>M</td>\n",
       "    </tr>\n",
       "    <tr>\n",
       "      <th>12795</th>\n",
       "      <td>2022</td>\n",
       "      <td>MI</td>\n",
       "      <td>FT</td>\n",
       "      <td>Analytics Engineer</td>\n",
       "      <td>78000</td>\n",
       "      <td>USD</td>\n",
       "      <td>78000</td>\n",
       "      <td>BR</td>\n",
       "      <td>100</td>\n",
       "      <td>BR</td>\n",
       "      <td>M</td>\n",
       "    </tr>\n",
       "  </tbody>\n",
       "</table>\n",
       "</div>"
      ],
      "text/plain": [
       "       work_year experience_level employment_type  \\\n",
       "5190        2023               SE              FT   \n",
       "4701        2023               MI              FT   \n",
       "6562        2023               SE              FT   \n",
       "1391        2024               MI              FT   \n",
       "12795       2022               MI              FT   \n",
       "\n",
       "                           job_title  salary salary_currency  salary_in_usd  \\\n",
       "5190                    Data Analyst  105000             USD         105000   \n",
       "4701       Machine Learning Engineer  130000             USD         130000   \n",
       "6562                    Data Modeler  140000             USD         140000   \n",
       "1391   Business Intelligence Manager  207000             USD         207000   \n",
       "12795             Analytics Engineer   78000             USD          78000   \n",
       "\n",
       "      employee_residence  remote_ratio company_location company_size  \n",
       "5190                  US             0               US            M  \n",
       "4701                  US             0               US            M  \n",
       "6562                  US             0               US            M  \n",
       "1391                  US             0               US            M  \n",
       "12795                 BR           100               BR            M  "
      ]
     },
     "execution_count": 17,
     "metadata": {},
     "output_type": "execute_result"
    }
   ],
   "source": [
    "df.sample(5)"
   ]
  },
  {
   "cell_type": "markdown",
   "id": "d50ee5a5",
   "metadata": {},
   "source": [
    "# Datatypes"
   ]
  },
  {
   "cell_type": "code",
   "execution_count": 5,
   "id": "a078e85c",
   "metadata": {},
   "outputs": [
    {
     "data": {
      "text/plain": [
       "work_year              int64\n",
       "experience_level      object\n",
       "employment_type       object\n",
       "job_title             object\n",
       "salary                 int64\n",
       "salary_currency       object\n",
       "salary_in_usd          int64\n",
       "employee_residence    object\n",
       "remote_ratio           int64\n",
       "company_location      object\n",
       "company_size          object\n",
       "dtype: object"
      ]
     },
     "execution_count": 5,
     "metadata": {},
     "output_type": "execute_result"
    }
   ],
   "source": [
    "df.dtypes"
   ]
  },
  {
   "cell_type": "markdown",
   "id": "366afceb",
   "metadata": {},
   "source": [
    "# How many columns are"
   ]
  },
  {
   "cell_type": "code",
   "execution_count": 6,
   "id": "7c7d5b4e",
   "metadata": {},
   "outputs": [
    {
     "data": {
      "text/plain": [
       "Index(['work_year', 'experience_level', 'employment_type', 'job_title',\n",
       "       'salary', 'salary_currency', 'salary_in_usd', 'employee_residence',\n",
       "       'remote_ratio', 'company_location', 'company_size'],\n",
       "      dtype='object')"
      ]
     },
     "execution_count": 6,
     "metadata": {},
     "output_type": "execute_result"
    }
   ],
   "source": [
    "df.columns"
   ]
  },
  {
   "cell_type": "markdown",
   "id": "18a09083",
   "metadata": {},
   "source": [
    "# Null values"
   ]
  },
  {
   "cell_type": "code",
   "execution_count": 7,
   "id": "7380d543",
   "metadata": {},
   "outputs": [
    {
     "data": {
      "text/plain": [
       "work_year             0\n",
       "experience_level      0\n",
       "employment_type       0\n",
       "job_title             0\n",
       "salary                0\n",
       "salary_currency       0\n",
       "salary_in_usd         0\n",
       "employee_residence    0\n",
       "remote_ratio          0\n",
       "company_location      0\n",
       "company_size          0\n",
       "dtype: int64"
      ]
     },
     "execution_count": 7,
     "metadata": {},
     "output_type": "execute_result"
    }
   ],
   "source": [
    "df.isnull().sum()"
   ]
  },
  {
   "cell_type": "markdown",
   "id": "c8c13628",
   "metadata": {},
   "source": [
    "# Duplicates"
   ]
  },
  {
   "cell_type": "code",
   "execution_count": 8,
   "id": "8cef6143",
   "metadata": {},
   "outputs": [
    {
     "data": {
      "text/plain": [
       "5378"
      ]
     },
     "execution_count": 8,
     "metadata": {},
     "output_type": "execute_result"
    }
   ],
   "source": [
    "df.duplicated().sum()"
   ]
  },
  {
   "cell_type": "markdown",
   "id": "72f24bf2",
   "metadata": {},
   "source": [
    "**These are the duplicates so we can drop duplicates**"
   ]
  },
  {
   "cell_type": "code",
   "execution_count": 10,
   "id": "a9843a27",
   "metadata": {},
   "outputs": [],
   "source": [
    "df.drop_duplicates(inplace=True)"
   ]
  },
  {
   "cell_type": "code",
   "execution_count": 11,
   "id": "150b465a",
   "metadata": {},
   "outputs": [
    {
     "data": {
      "text/plain": [
       "0"
      ]
     },
     "execution_count": 11,
     "metadata": {},
     "output_type": "execute_result"
    }
   ],
   "source": [
    "df.duplicated().sum()"
   ]
  },
  {
   "cell_type": "markdown",
   "id": "09e30e3c",
   "metadata": {},
   "source": [
    "# Statistical Summary"
   ]
  },
  {
   "cell_type": "markdown",
   "id": "23c9e761",
   "metadata": {},
   "source": [
    "### Num-Col "
   ]
  },
  {
   "cell_type": "code",
   "execution_count": 12,
   "id": "edc32730",
   "metadata": {},
   "outputs": [
    {
     "data": {
      "text/html": [
       "<div>\n",
       "<style scoped>\n",
       "    .dataframe tbody tr th:only-of-type {\n",
       "        vertical-align: middle;\n",
       "    }\n",
       "\n",
       "    .dataframe tbody tr th {\n",
       "        vertical-align: top;\n",
       "    }\n",
       "\n",
       "    .dataframe thead th {\n",
       "        text-align: right;\n",
       "    }\n",
       "</style>\n",
       "<table border=\"1\" class=\"dataframe\">\n",
       "  <thead>\n",
       "    <tr style=\"text-align: right;\">\n",
       "      <th></th>\n",
       "      <th>work_year</th>\n",
       "      <th>salary</th>\n",
       "      <th>salary_in_usd</th>\n",
       "      <th>remote_ratio</th>\n",
       "    </tr>\n",
       "  </thead>\n",
       "  <tbody>\n",
       "    <tr>\n",
       "      <th>count</th>\n",
       "      <td>8594.000000</td>\n",
       "      <td>8.594000e+03</td>\n",
       "      <td>8594.000000</td>\n",
       "      <td>8594.000000</td>\n",
       "    </tr>\n",
       "    <tr>\n",
       "      <th>mean</th>\n",
       "      <td>2023.091808</td>\n",
       "      <td>1.729008e+05</td>\n",
       "      <td>146745.224343</td>\n",
       "      <td>37.229462</td>\n",
       "    </tr>\n",
       "    <tr>\n",
       "      <th>std</th>\n",
       "      <td>0.773301</td>\n",
       "      <td>4.642394e+05</td>\n",
       "      <td>72989.158332</td>\n",
       "      <td>47.619870</td>\n",
       "    </tr>\n",
       "    <tr>\n",
       "      <th>min</th>\n",
       "      <td>2020.000000</td>\n",
       "      <td>1.400000e+04</td>\n",
       "      <td>15000.000000</td>\n",
       "      <td>0.000000</td>\n",
       "    </tr>\n",
       "    <tr>\n",
       "      <th>25%</th>\n",
       "      <td>2023.000000</td>\n",
       "      <td>9.600000e+04</td>\n",
       "      <td>95019.000000</td>\n",
       "      <td>0.000000</td>\n",
       "    </tr>\n",
       "    <tr>\n",
       "      <th>50%</th>\n",
       "      <td>2023.000000</td>\n",
       "      <td>1.400000e+05</td>\n",
       "      <td>138750.000000</td>\n",
       "      <td>0.000000</td>\n",
       "    </tr>\n",
       "    <tr>\n",
       "      <th>75%</th>\n",
       "      <td>2024.000000</td>\n",
       "      <td>1.885000e+05</td>\n",
       "      <td>185900.000000</td>\n",
       "      <td>100.000000</td>\n",
       "    </tr>\n",
       "    <tr>\n",
       "      <th>max</th>\n",
       "      <td>2024.000000</td>\n",
       "      <td>3.040000e+07</td>\n",
       "      <td>800000.000000</td>\n",
       "      <td>100.000000</td>\n",
       "    </tr>\n",
       "  </tbody>\n",
       "</table>\n",
       "</div>"
      ],
      "text/plain": [
       "         work_year        salary  salary_in_usd  remote_ratio\n",
       "count  8594.000000  8.594000e+03    8594.000000   8594.000000\n",
       "mean   2023.091808  1.729008e+05  146745.224343     37.229462\n",
       "std       0.773301  4.642394e+05   72989.158332     47.619870\n",
       "min    2020.000000  1.400000e+04   15000.000000      0.000000\n",
       "25%    2023.000000  9.600000e+04   95019.000000      0.000000\n",
       "50%    2023.000000  1.400000e+05  138750.000000      0.000000\n",
       "75%    2024.000000  1.885000e+05  185900.000000    100.000000\n",
       "max    2024.000000  3.040000e+07  800000.000000    100.000000"
      ]
     },
     "execution_count": 12,
     "metadata": {},
     "output_type": "execute_result"
    }
   ],
   "source": [
    "df.describe()"
   ]
  },
  {
   "cell_type": "markdown",
   "id": "ca7fbcd7",
   "metadata": {},
   "source": [
    "### Cat-Col"
   ]
  },
  {
   "cell_type": "code",
   "execution_count": 13,
   "id": "f97a275f",
   "metadata": {},
   "outputs": [
    {
     "data": {
      "text/html": [
       "<div>\n",
       "<style scoped>\n",
       "    .dataframe tbody tr th:only-of-type {\n",
       "        vertical-align: middle;\n",
       "    }\n",
       "\n",
       "    .dataframe tbody tr th {\n",
       "        vertical-align: top;\n",
       "    }\n",
       "\n",
       "    .dataframe thead th {\n",
       "        text-align: right;\n",
       "    }\n",
       "</style>\n",
       "<table border=\"1\" class=\"dataframe\">\n",
       "  <thead>\n",
       "    <tr style=\"text-align: right;\">\n",
       "      <th></th>\n",
       "      <th>experience_level</th>\n",
       "      <th>employment_type</th>\n",
       "      <th>job_title</th>\n",
       "      <th>salary_currency</th>\n",
       "      <th>employee_residence</th>\n",
       "      <th>company_location</th>\n",
       "      <th>company_size</th>\n",
       "    </tr>\n",
       "  </thead>\n",
       "  <tbody>\n",
       "    <tr>\n",
       "      <th>count</th>\n",
       "      <td>8594</td>\n",
       "      <td>8594</td>\n",
       "      <td>8594</td>\n",
       "      <td>8594</td>\n",
       "      <td>8594</td>\n",
       "      <td>8594</td>\n",
       "      <td>8594</td>\n",
       "    </tr>\n",
       "    <tr>\n",
       "      <th>unique</th>\n",
       "      <td>4</td>\n",
       "      <td>4</td>\n",
       "      <td>146</td>\n",
       "      <td>23</td>\n",
       "      <td>88</td>\n",
       "      <td>77</td>\n",
       "      <td>3</td>\n",
       "    </tr>\n",
       "    <tr>\n",
       "      <th>top</th>\n",
       "      <td>SE</td>\n",
       "      <td>FT</td>\n",
       "      <td>Data Engineer</td>\n",
       "      <td>USD</td>\n",
       "      <td>US</td>\n",
       "      <td>US</td>\n",
       "      <td>M</td>\n",
       "    </tr>\n",
       "    <tr>\n",
       "      <th>freq</th>\n",
       "      <td>5168</td>\n",
       "      <td>8534</td>\n",
       "      <td>1635</td>\n",
       "      <td>7667</td>\n",
       "      <td>7026</td>\n",
       "      <td>7075</td>\n",
       "      <td>7805</td>\n",
       "    </tr>\n",
       "  </tbody>\n",
       "</table>\n",
       "</div>"
      ],
      "text/plain": [
       "       experience_level employment_type      job_title salary_currency  \\\n",
       "count              8594            8594           8594            8594   \n",
       "unique                4               4            146              23   \n",
       "top                  SE              FT  Data Engineer             USD   \n",
       "freq               5168            8534           1635            7667   \n",
       "\n",
       "       employee_residence company_location company_size  \n",
       "count                8594             8594         8594  \n",
       "unique                 88               77            3  \n",
       "top                    US               US            M  \n",
       "freq                 7026             7075         7805  "
      ]
     },
     "execution_count": 13,
     "metadata": {},
     "output_type": "execute_result"
    }
   ],
   "source": [
    "df.describe(include='object')"
   ]
  },
  {
   "cell_type": "markdown",
   "id": "5b920f4b",
   "metadata": {},
   "source": [
    "# Info"
   ]
  },
  {
   "cell_type": "code",
   "execution_count": 14,
   "id": "e8af601a",
   "metadata": {},
   "outputs": [
    {
     "name": "stdout",
     "output_type": "stream",
     "text": [
      "<class 'pandas.core.frame.DataFrame'>\n",
      "Index: 8594 entries, 0 to 13971\n",
      "Data columns (total 11 columns):\n",
      " #   Column              Non-Null Count  Dtype \n",
      "---  ------              --------------  ----- \n",
      " 0   work_year           8594 non-null   int64 \n",
      " 1   experience_level    8594 non-null   object\n",
      " 2   employment_type     8594 non-null   object\n",
      " 3   job_title           8594 non-null   object\n",
      " 4   salary              8594 non-null   int64 \n",
      " 5   salary_currency     8594 non-null   object\n",
      " 6   salary_in_usd       8594 non-null   int64 \n",
      " 7   employee_residence  8594 non-null   object\n",
      " 8   remote_ratio        8594 non-null   int64 \n",
      " 9   company_location    8594 non-null   object\n",
      " 10  company_size        8594 non-null   object\n",
      "dtypes: int64(4), object(7)\n",
      "memory usage: 805.7+ KB\n"
     ]
    }
   ],
   "source": [
    "df.info()"
   ]
  },
  {
   "cell_type": "code",
   "execution_count": null,
   "id": "8d05aaee",
   "metadata": {},
   "outputs": [],
   "source": []
  }
 ],
 "metadata": {
  "kernelspec": {
   "display_name": "Python 3 (ipykernel)",
   "language": "python",
   "name": "python3"
  },
  "language_info": {
   "codemirror_mode": {
    "name": "ipython",
    "version": 3
   },
   "file_extension": ".py",
   "mimetype": "text/x-python",
   "name": "python",
   "nbconvert_exporter": "python",
   "pygments_lexer": "ipython3",
   "version": "3.11.5"
  }
 },
 "nbformat": 4,
 "nbformat_minor": 5
}
